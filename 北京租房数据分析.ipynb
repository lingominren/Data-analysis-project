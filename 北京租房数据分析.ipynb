{
 "cells": [
  {
   "cell_type": "code",
   "execution_count": 1,
   "id": "2a63ece6",
   "metadata": {},
   "outputs": [],
   "source": [
    "import pandas as pd\n",
    "import numpy as np\n",
    "import re\n",
    "import pymysql\n",
    "import matplotlib as mpl\n",
    "import matplotlib.pyplot as plt\n",
    "mpl.rcParams['font.sans-serif'] = ['KaiTi']\n",
    "mpl.rcParams['font.serif'] = ['KaiTi']"
   ]
  },
  {
   "cell_type": "markdown",
   "id": "74bc0b86",
   "metadata": {},
   "source": [
    "# 数据预处理"
   ]
  },
  {
   "cell_type": "code",
   "execution_count": 42,
   "id": "905a9724",
   "metadata": {},
   "outputs": [],
   "source": [
    "#导入数据 一共有8个csv文件 将其合并\n",
    "data_list=[]\n",
    "for i in range(1,9):\n",
    "    data=pd.read_csv(f'./bj_danke_{i}.csv')\n",
    "    data_list.append(data)\n",
    "data=pd.concat(data_list)"
   ]
  },
  {
   "cell_type": "code",
   "execution_count": 43,
   "id": "f67321c8",
   "metadata": {},
   "outputs": [
    {
     "data": {
      "text/html": [
       "<div>\n",
       "<style scoped>\n",
       "    .dataframe tbody tr th:only-of-type {\n",
       "        vertical-align: middle;\n",
       "    }\n",
       "\n",
       "    .dataframe tbody tr th {\n",
       "        vertical-align: top;\n",
       "    }\n",
       "\n",
       "    .dataframe thead th {\n",
       "        text-align: right;\n",
       "    }\n",
       "</style>\n",
       "<table border=\"1\" class=\"dataframe\">\n",
       "  <thead>\n",
       "    <tr style=\"text-align: right;\">\n",
       "      <th></th>\n",
       "      <th>价格</th>\n",
       "      <th>面积</th>\n",
       "      <th>编号</th>\n",
       "      <th>户型</th>\n",
       "      <th>楼层</th>\n",
       "      <th>位置1</th>\n",
       "      <th>位置2</th>\n",
       "      <th>小区</th>\n",
       "      <th>地铁</th>\n",
       "    </tr>\n",
       "  </thead>\n",
       "  <tbody>\n",
       "    <tr>\n",
       "      <th>0</th>\n",
       "      <td>1330.0</td>\n",
       "      <td>9.0</td>\n",
       "      <td>38738-A</td>\n",
       "      <td>3室1卫</td>\n",
       "      <td>9/11层</td>\n",
       "      <td>房山区</td>\n",
       "      <td>良乡大学城西</td>\n",
       "      <td>紫汇家园</td>\n",
       "      <td>地铁：距房山线良乡大学城西站550米</td>\n",
       "    </tr>\n",
       "    <tr>\n",
       "      <th>1</th>\n",
       "      <td>5810.0</td>\n",
       "      <td>39.0</td>\n",
       "      <td>64752-A</td>\n",
       "      <td>1室1卫</td>\n",
       "      <td>9/12层</td>\n",
       "      <td>东城区</td>\n",
       "      <td>广渠门内</td>\n",
       "      <td>绿景苑</td>\n",
       "      <td>地铁：距7号线广渠门内站650米</td>\n",
       "    </tr>\n",
       "    <tr>\n",
       "      <th>2</th>\n",
       "      <td>4820.0</td>\n",
       "      <td>36.0</td>\n",
       "      <td>65359-A</td>\n",
       "      <td>1室1卫</td>\n",
       "      <td>1/6层</td>\n",
       "      <td>东城区</td>\n",
       "      <td>景泰</td>\n",
       "      <td>定安里</td>\n",
       "      <td>地铁：距14号线东段景泰站450米</td>\n",
       "    </tr>\n",
       "    <tr>\n",
       "      <th>3</th>\n",
       "      <td>1850.0</td>\n",
       "      <td>9.0</td>\n",
       "      <td>185-B</td>\n",
       "      <td>4室2卫</td>\n",
       "      <td>2/27层</td>\n",
       "      <td>朝阳区</td>\n",
       "      <td>管庄</td>\n",
       "      <td>京通苑阳光华苑</td>\n",
       "      <td>地铁：距八通线管庄站500米</td>\n",
       "    </tr>\n",
       "    <tr>\n",
       "      <th>4</th>\n",
       "      <td>9000.0</td>\n",
       "      <td>116.0</td>\n",
       "      <td>17830-A</td>\n",
       "      <td>2室1卫</td>\n",
       "      <td>8/16层</td>\n",
       "      <td>朝阳区</td>\n",
       "      <td>十里堡</td>\n",
       "      <td>天天朝阳</td>\n",
       "      <td>地铁：距6号线十里堡站850米</td>\n",
       "    </tr>\n",
       "  </tbody>\n",
       "</table>\n",
       "</div>"
      ],
      "text/plain": [
       "       价格     面积       编号    户型     楼层  位置1     位置2       小区  \\\n",
       "0  1330.0    9.0  38738-A  3室1卫  9/11层  房山区  良乡大学城西     紫汇家园   \n",
       "1  5810.0   39.0  64752-A  1室1卫  9/12层  东城区    广渠门内      绿景苑   \n",
       "2  4820.0   36.0  65359-A  1室1卫   1/6层  东城区      景泰      定安里   \n",
       "3  1850.0    9.0    185-B  4室2卫  2/27层  朝阳区      管庄  京通苑阳光华苑   \n",
       "4  9000.0  116.0  17830-A  2室1卫  8/16层  朝阳区     十里堡     天天朝阳   \n",
       "\n",
       "                   地铁  \n",
       "0  地铁：距房山线良乡大学城西站550米  \n",
       "1    地铁：距7号线广渠门内站650米  \n",
       "2   地铁：距14号线东段景泰站450米  \n",
       "3      地铁：距八通线管庄站500米  \n",
       "4     地铁：距6号线十里堡站850米  "
      ]
     },
     "execution_count": 43,
     "metadata": {},
     "output_type": "execute_result"
    }
   ],
   "source": [
    "data.head() #查看前5条数据"
   ]
  },
  {
   "cell_type": "code",
   "execution_count": 44,
   "id": "8437083c",
   "metadata": {},
   "outputs": [
    {
     "name": "stdout",
     "output_type": "stream",
     "text": [
      "<class 'pandas.core.frame.DataFrame'>\n",
      "Int64Index: 7697 entries, 0 to 848\n",
      "Data columns (total 9 columns):\n",
      " #   Column  Non-Null Count  Dtype \n",
      "---  ------  --------------  ----- \n",
      " 0   价格      6602 non-null   object\n",
      " 1   面积      6602 non-null   object\n",
      " 2   编号      6602 non-null   object\n",
      " 3   户型      6602 non-null   object\n",
      " 4   楼层      6602 non-null   object\n",
      " 5   位置1     6602 non-null   object\n",
      " 6   位置2     6602 non-null   object\n",
      " 7   小区      6602 non-null   object\n",
      " 8   地铁      6602 non-null   object\n",
      "dtypes: object(9)\n",
      "memory usage: 601.3+ KB\n"
     ]
    }
   ],
   "source": [
    "#数据预处理\n",
    "#查看数据基本信息\n",
    "data.info()\n",
    "#可以看出一共有6602条数据，共9列"
   ]
  },
  {
   "cell_type": "code",
   "execution_count": 45,
   "id": "486bd8f6",
   "metadata": {},
   "outputs": [
    {
     "data": {
      "text/plain": [
       "价格     1095\n",
       "面积     1095\n",
       "编号     1095\n",
       "户型     1095\n",
       "楼层     1095\n",
       "位置1    1095\n",
       "位置2    1095\n",
       "小区     1095\n",
       "地铁     1095\n",
       "dtype: int64"
      ]
     },
     "execution_count": 45,
     "metadata": {},
     "output_type": "execute_result"
    }
   ],
   "source": [
    "#查看是否有缺失值\n",
    "data.isnull().sum() \n",
    "#可以看出每列都有缺失值，接下来对缺失值进行处理"
   ]
  },
  {
   "cell_type": "code",
   "execution_count": 46,
   "id": "8928a948",
   "metadata": {},
   "outputs": [],
   "source": [
    "data.dropna(axis=0,inplace=True)\n",
    "data.reset_index(drop=True,inplace=True)\n",
    "#删除重复值\n",
    "data.drop_duplicates(inplace=True)"
   ]
  },
  {
   "cell_type": "code",
   "execution_count": 47,
   "id": "857bda28",
   "metadata": {},
   "outputs": [
    {
     "name": "stdout",
     "output_type": "stream",
     "text": [
      "<class 'pandas.core.frame.DataFrame'>\n",
      "Int64Index: 6025 entries, 0 to 6573\n",
      "Data columns (total 9 columns):\n",
      " #   Column  Non-Null Count  Dtype \n",
      "---  ------  --------------  ----- \n",
      " 0   价格      6025 non-null   object\n",
      " 1   面积      6025 non-null   object\n",
      " 2   编号      6025 non-null   object\n",
      " 3   户型      6025 non-null   object\n",
      " 4   楼层      6025 non-null   object\n",
      " 5   位置1     6025 non-null   object\n",
      " 6   位置2     6025 non-null   object\n",
      " 7   小区      6025 non-null   object\n",
      " 8   地铁      6025 non-null   object\n",
      "dtypes: object(9)\n",
      "memory usage: 470.7+ KB\n"
     ]
    }
   ],
   "source": [
    "data.info()"
   ]
  },
  {
   "cell_type": "code",
   "execution_count": 48,
   "id": "36392093",
   "metadata": {},
   "outputs": [
    {
     "name": "stdout",
     "output_type": "stream",
     "text": [
      "<class 'pandas.core.frame.DataFrame'>\n",
      "Int64Index: 6025 entries, 0 to 6573\n",
      "Data columns (total 9 columns):\n",
      " #   Column  Non-Null Count  Dtype \n",
      "---  ------  --------------  ----- \n",
      " 0   价格      6025 non-null   object\n",
      " 1   面积      6025 non-null   object\n",
      " 2   编号      6025 non-null   object\n",
      " 3   户型      6025 non-null   object\n",
      " 4   楼层      6025 non-null   object\n",
      " 5   位置1     6025 non-null   object\n",
      " 6   位置2     6025 non-null   object\n",
      " 7   小区      6025 non-null   object\n",
      " 8   地铁      6025 non-null   object\n",
      "dtypes: object(9)\n",
      "memory usage: 470.7+ KB\n"
     ]
    }
   ],
   "source": [
    "data.info()"
   ]
  },
  {
   "cell_type": "code",
   "execution_count": 50,
   "id": "b0032601",
   "metadata": {},
   "outputs": [
    {
     "data": {
      "text/plain": [
       "array([1330.0, 5810.0, 4820.0, 1850.0, 9000.0, 1720.0, 1790.0, 5140.0,\n",
       "       2260.0, 4400.0, 2700.0, 2320.0, 2590.0, 1470.0, 1860.0, 3440.0,\n",
       "       7360.0, 1450.0, 1740.0, 2460.0, 5170.0, 1910.0, 1950.0, 5480.0,\n",
       "       6100.0, 1800.0, 2140.0, 3420.0, 7010.0, 2160.0, 4260.0, 6790.0,\n",
       "       8880.0, 4550.0, 2890.0, 1900.0, 8810.0, 11260.0, 9730.0, 8130.0,\n",
       "       4150.0, 9680.0, 6530.0, 10550.0, 2970.0, 2200.0, 2180.0, 1260.0,\n",
       "       2620.0, 7480.0, 2190.0, 7760.0, 9660.0, 1290.0, 1810.0, 3080.0,\n",
       "       2350.0, 1490.0, 2580.0, 2490.0, 3960.0, 7460.0, 2440.0, 1660.0,\n",
       "       1580.0, 1680.0, 2080.0, 3010.0, 2000.0, 2110.0, 3540.0, 1410.0,\n",
       "       4770.0, 5630.0, 4690.0, 1380.0, 2520.0, 2560.0, 2020.0, 7580.0,\n",
       "       5750.0, 2740.0, 2370.0, 1670.0, 2650.0, 6140.0, 4840.0, 1770.0,\n",
       "       6340.0, 7300.0, 1110.0, 5010.0, 2530.0, 5070.0, 2290.0, 1930.0,\n",
       "       1710.0, 2150.0, 1880.0, 2060.0, 5370.0, 3180.0, 2450.0, 2410.0,\n",
       "       1460.0, 1170.0, 2070.0, 4360.0, 9120.0, 2380.0, 3820.0, 1540.0,\n",
       "       1940.0, 1760.0, 5930.0, 3900.0, 2340.0, 3240.0, 1870.0, 1600.0,\n",
       "       1420.0, 5270.0, 1350.0, 2390.0, 1970.0, 2210.0, 2030.0, 1570.0,\n",
       "       2330.0, 7220.0, 1960.0, 2670.0, 2310.0, 4200.0, 3550.0, 2240.0,\n",
       "       1640.0, 3640.0, 6960.0, 1620.0, 6590.0, 2860.0, 2220.0, 2010.0,\n",
       "       2900.0, 6410.0, 2430.0, 2550.0, 4030.0, 6260.0, 2780.0, 2500.0,\n",
       "       1840.0, 2600.0, 5280.0, 5980.0, 1650.0, 2570.0, 2470.0, 1980.0,\n",
       "       2830.0, 3940.0, 8150.0, 1730.0, 2820.0, 6240.0, 3310.0, 1230.0,\n",
       "       4520.0, 5960.0, 1830.0, 2660.0, 1920.0, 6650.0, 3980.0, 2510.0,\n",
       "       2300.0, 1530.0, 1700.0, 2130.0, 1550.0, 1690.0, 1480.0, 2690.0,\n",
       "       2850.0, 2790.0, 3750.0, 3530.0, 7090.0, 2280.0, 2400.0, 1250.0,\n",
       "       1590.0, 1750.0, 4990.0, 2990.0, 3160.0, 2090.0, 3410.0, 6190.0,\n",
       "       5560.0, 3280.0, 1360.0, 4970.0, 1820.0, 4160.0, 3190.0, 3030.0,\n",
       "       2910.0, 1120.0, 2630.0, 2980.0, 3130.0, 1610.0, 6690.0, 2950.0,\n",
       "       3100.0, 6090.0, 5040.0, 1560.0, 2040.0, 2420.0, 1890.0, 5260.0,\n",
       "       3200.0, 2880.0, 2610.0, 2100.0, 3830.0, 2120.0, 5210.0, 4280.0,\n",
       "       2640.0, 2540.0, 3000.0, 2170.0, 2870.0, 4830.0, 3060.0, 6830.0,\n",
       "       1320.0, 1390.0, 2770.0, 4540.0, 3040.0, 2360.0, 2710.0, 2800.0,\n",
       "       2270.0, 3480.0, 8620.0, 1430.0, 2480.0, 1500.0, 5690.0, 1990.0,\n",
       "       1630.0, 3070.0, 6080.0, 4910.0, 8520.0, 3890.0, 3250.0, 3990.0,\n",
       "       3390.0, 3270.0, 3050.0, 2750.0, 4500.0, 1780.0, 6050.0, 6920.0,\n",
       "       5950.0, 1150.0, 7420.0, 3020.0, 5310.0, 6600.0, 7450.0, 6270.0,\n",
       "       3210.0, 1300.0, 4110.0, 2250.0, 2680.0, 6730.0, 2050.0, 2720.0,\n",
       "       5250.0, 6290.0, 7940.0, 3770.0, 1510.0, 4270.0, 4650.0, 2230.0,\n",
       "       3220.0, 7440.0, 2930.0, 3230.0, 1520.0, 1440.0, 2810.0, 11590.0,\n",
       "       5900.0, 3860.0, 3140.0, 3450.0, 3260.0, 2760.0, 3880.0, 10750.0,\n",
       "       4870.0, 6030.0, 4890.0, 3620.0, 3300.0, 3850.0, 1340.0, 3670.0,\n",
       "       2840.0, 3290.0, 2920.0, 6400.0, 3610.0, 3630.0, 3120.0, 6150.0,\n",
       "       5830.0, 4730.0, 1200.0, 2940.0, 2960.0, 3600.0, 4220.0, 2730.0,\n",
       "       1400.0, 3470.0, 7060.0, 8480.0, 3430.0, 3560.0, 5200.0, 5500.0,\n",
       "       1160.0, 5680.0, 4010.0, 5880.0, 4940.0, 6490.0, 8490.0, 3360.0,\n",
       "       3730.0, 3490.0, 3520.0, 4420.0, 6760.0, 3510.0, 3760.0, 4880.0,\n",
       "       1310.0, 3460.0, 3700.0, 4240.0, 3970.0, 1210.0, 4630.0, 4090.0,\n",
       "       4560.0, 4060.0, 3710.0, 5450.0, 5990.0, 6900.0, 4660.0, 10010.0,\n",
       "       '2820', '2980', '2360', '2890', '1970', '3470', '3520', '1770',\n",
       "       '2540', '4420', '6760', '2960', '2240', '5480', '3230', '1740',\n",
       "       '3510', '1840', '2200', '2700', '3760', '1800', '2300', '4880',\n",
       "       '1450', '2210', '价格', '1870', '1310', '2780', '2580', '2270',\n",
       "       '1500', '3410', '3460', '2620', '3030', '1540', '1660', '2460',\n",
       "       '3700', '1600', '1440', '2880', '2190', '3290', '1480', '2110',\n",
       "       '4270', '1410', '2610', '2010', '1400', '3280', '2590', '4240',\n",
       "       '3050', '2650', '1380', '3040', '3640', '1730', '2870', '1550',\n",
       "       '1820', '3430', '2180', '2330', '3970', '2050', '1300', '1210',\n",
       "       '1690', '2940', '1700', '4630', '1880', '2030', '4090', '1680',\n",
       "       '3200', '1630', '3020', '3480', '4560', '2170', '3420', '2720',\n",
       "       '2490', '6050', '4060', '2860', '2790', '1950', '1810', '3710',\n",
       "       '2660', '5450', '2140', '2440', '1610', '5990', '1910', '2810',\n",
       "       '2500', '2350', '1260', '2430', '2390', '1890', '2910', '1520',\n",
       "       '6900', '2400', '1780', '1940', '2130', '3210', '2680', '2520',\n",
       "       '1860', '2740', '1330', '4660', '3860', '2280', '10010', '1930',\n",
       "       '2480', '9660', '2000', '2260', '2830', '2340', '2220', '3130',\n",
       "       '1510', '1470', '2550', '2600', '1960', '2950', '2020', '2160',\n",
       "       '1650', '3220', '2450', '4670', '3060', '2420', '2750', '2120',\n",
       "       '4030', '2370', '1620', '3660', '1110', '1320', '3840', '3240',\n",
       "       '2530', '1900', '3980', '2840', '1530', '4840', '3110', '1340',\n",
       "       '3620', '3080', '2760', '3140', '3250', '4300', '2990', '2630',\n",
       "       '3550', '2470', '1750', '2410', '2230', '2670', '2570', '3350',\n",
       "       '2690', '1580', '1640', '4350', '2730', '3500', '2640', '3630',\n",
       "       '2560', '2900', '3180', '1980', '1710', '2040', '4860', '2080',\n",
       "       '3810', '2100', '1850', '3900', '1670', '8590', '2320', '3650',\n",
       "       '7300', '1570', '2070', '1830', '3570', '3190', '4380', '7060',\n",
       "       '3070', '5870', '1390', '1990', '3100', '3310', '3490', '4980',\n",
       "       '1720', '11530', '3340', '4070', '4110', '3730', '2060', '6200',\n",
       "       '1420', '1590', '2310', '3720', '1490', '2930', '1460', '2250',\n",
       "       '3750', '1230', 3660.0, 3110.0, 4300.0, 4350.0, 4860.0, 3810.0,\n",
       "       8590.0, 3350.0, 3570.0, 4380.0, 5870.0, 11530.0, 3340.0, 4070.0,\n",
       "       6200.0, 3720.0, 4480.0, '3560', '2380', '3010', '4480', '3150',\n",
       "       '3670', '4430', '3270', '3000', '3390', '1240', '3590', '5550',\n",
       "       '3530', '3680', '3120', '3930', '5580', '2770', '1350', '3600',\n",
       "       '4730', '6190', '1760', '2090', '4280', '2150', '2290', '4220',\n",
       "       '8720', '1790', '3830', '5010', '3820', '3370', '2710', '2970',\n",
       "       '3090', '4460', '2510', '2920', '2850', '1560', '3380', '7650',\n",
       "       '3790', '3320', '3960', '4170', '3800', '5370', '3160', '5400',\n",
       "       '1920', '11740', '5110', '4100', '3950', '4610', '3450', '5210',\n",
       "       '1370', '4360', '4500', '7210', '3170', '3870', '7200', '1290',\n",
       "       '1180', '1010', '5280', '4130', '4440', '6640', '4010', '1430',\n",
       "       '1090', '4450', '5130', '3440', '5230', '3940', '3300', '3260',\n",
       "       '4650', '4000', '5350', 3090.0, 1070.0, 4250.0, 5550.0, 3920.0,\n",
       "       3590.0, 3150.0, 3840.0, 4000.0, 3170.0, 3650.0, 4230.0, 5340.0,\n",
       "       6500.0, 4020.0, 3950.0, 5620.0, 5100.0, 4040.0, 5590.0, 3680.0,\n",
       "       5780.0, 3580.0, 3320.0, 1140.0, 3370.0, 4050.0, 3690.0, 5510.0,\n",
       "       7000.0, 1280.0, 4720.0, 1050.0, 4130.0, 4330.0, 4790.0, 5470.0,\n",
       "       3500.0, 1270.0, 5890.0, 5720.0, 3400.0, 3380.0, 4370.0, 4640.0,\n",
       "       4470.0, 6710.0, 6020.0, 1090.0, 4950.0, 3870.0, 6780.0, 3330.0,\n",
       "       6540.0, 6250.0, 6570.0, 5600.0, 1240.0, 1080.0, 8240.0, 7190.0,\n",
       "       6220.0, 5940.0, 4410.0, 4700.0, 5020.0, 6860.0, 5460.0, 6480.0,\n",
       "       3790.0, 8420.0, 4460.0, 5220.0, '5780', '4790', '4570', '7370',\n",
       "       '3360', '3990', '3690', '1280', '4250', '3910', '930', '4780',\n",
       "       '7700', '4200', '4020', '4290', '4260', '4320', '4390', '2800',\n",
       "       '3880', '3540', '7960', '5140', '4080', '4050', '6080', '3850',\n",
       "       '4850', '4940', '3400', 3740.0, 3800.0, 4180.0, 1370.0, 6040.0,\n",
       "       5320.0, 8900.0, 4140.0, 7970.0, 7560.0, 7350.0, 7140.0, 7640.0,\n",
       "       5490.0, 3780.0, 5390.0, 8380.0, 1220.0, 4210.0, 9330.0, 6000.0,\n",
       "       8100.0, 7040.0, 7150.0, 8320.0, 5380.0, 4100.0, 5410.0, 4930.0,\n",
       "       4190.0, 10420.0, 5920.0, 4760.0, 6380.0, 4430.0, 6870.0, 4490.0,\n",
       "       5610.0, 6990.0, 9350.0, 9570.0, 7590.0, 10590.0, 7660.0, 7210.0,\n",
       "       6720.0, 7430.0, 7330.0, 8030.0, 7830.0, 7530.0, 8080.0, 1190.0,\n",
       "       6450.0, 5790.0, 6580.0, 7400.0], dtype=object)"
      ]
     },
     "execution_count": 50,
     "metadata": {},
     "output_type": "execute_result"
    }
   ],
   "source": [
    "#查看每列，看是否有异常值，对异常值进行处理\n",
    "data['价格'].unique()\n",
    "#其中有一个元素为'价格',将其所在行删掉，然后将数值类型转化为int类型\n",
    "#可以看出价格列数据类型不同，将其转为int64型"
   ]
  },
  {
   "cell_type": "code",
   "execution_count": 60,
   "id": "6bffcd9e",
   "metadata": {},
   "outputs": [
    {
     "data": {
      "text/html": [
       "<div>\n",
       "<style scoped>\n",
       "    .dataframe tbody tr th:only-of-type {\n",
       "        vertical-align: middle;\n",
       "    }\n",
       "\n",
       "    .dataframe tbody tr th {\n",
       "        vertical-align: top;\n",
       "    }\n",
       "\n",
       "    .dataframe thead th {\n",
       "        text-align: right;\n",
       "    }\n",
       "</style>\n",
       "<table border=\"1\" class=\"dataframe\">\n",
       "  <thead>\n",
       "    <tr style=\"text-align: right;\">\n",
       "      <th></th>\n",
       "      <th>价格</th>\n",
       "      <th>面积</th>\n",
       "      <th>编号</th>\n",
       "      <th>户型</th>\n",
       "      <th>楼层</th>\n",
       "      <th>位置1</th>\n",
       "      <th>位置2</th>\n",
       "      <th>小区</th>\n",
       "      <th>地铁</th>\n",
       "    </tr>\n",
       "  </thead>\n",
       "  <tbody>\n",
       "    <tr>\n",
       "      <th>1384</th>\n",
       "      <td>价格</td>\n",
       "      <td>面积</td>\n",
       "      <td>编号</td>\n",
       "      <td>户型</td>\n",
       "      <td>楼层</td>\n",
       "      <td>位置1</td>\n",
       "      <td>位置2</td>\n",
       "      <td>小区</td>\n",
       "      <td>地铁</td>\n",
       "    </tr>\n",
       "  </tbody>\n",
       "</table>\n",
       "</div>"
      ],
      "text/plain": [
       "      价格  面积  编号  户型  楼层  位置1  位置2  小区  地铁\n",
       "1384  价格  面积  编号  户型  楼层  位置1  位置2  小区  地铁"
      ]
     },
     "execution_count": 60,
     "metadata": {},
     "output_type": "execute_result"
    }
   ],
   "source": [
    "data.loc[data[data['价格']=='价格'].index]"
   ]
  },
  {
   "cell_type": "code",
   "execution_count": 70,
   "id": "83942c9b",
   "metadata": {},
   "outputs": [],
   "source": [
    "#可以看出该行数据全为表头数字，很有可能导入数据时，将某一张表的表头作为数据再次导入\n",
    "#将该列删除，然后将价格列其转为整数类型\n",
    "data.drop(index=data[data['价格']=='价格'].index,axis=0,inplace=True)\n",
    "data['价格']=data['价格'].astype(np.int64)"
   ]
  },
  {
   "cell_type": "code",
   "execution_count": 72,
   "id": "f43222a5",
   "metadata": {},
   "outputs": [],
   "source": [
    "#查看面积列，再将其数值类型转化为整数\n",
    "data['面积'].unique()\n",
    "data['面积']=data['面积'].astype(np.int64)"
   ]
  },
  {
   "cell_type": "code",
   "execution_count": 75,
   "id": "447fe3ac",
   "metadata": {},
   "outputs": [
    {
     "data": {
      "text/plain": [
       "array(['地铁：距房山线良乡大学城西站550米', '地铁：距7号线广渠门内站650米', '地铁：距14号线东段景泰站450米', ...,\n",
       "       '地铁：距1号线,10号线国贸站450米', '地铁：距7号线广渠门内站400米', '地铁：距2号线,8号线鼓楼大街站750米'],\n",
       "      dtype=object)"
      ]
     },
     "execution_count": 75,
     "metadata": {},
     "output_type": "execute_result"
    }
   ],
   "source": [
    "#查看每列 看是否有异常值\n",
    "data['户型'].unique()\n",
    "data['楼层'].unique()\n",
    "data['位置1'].unique()\n",
    "data['位置2'].unique()\n",
    "data['小区'].unique()\n",
    "data['地铁'].unique()"
   ]
  },
  {
   "cell_type": "code",
   "execution_count": 79,
   "id": "79c6838e",
   "metadata": {},
   "outputs": [],
   "source": [
    "#将地铁列“地铁：”删除\n",
    "data['地铁'].replace('地铁：','',inplace=True)\n",
    "#增加列\n",
    "#将楼层列分为所在楼层和总楼层\n",
    "data['所在楼层']=data['楼层'].apply(lambda x:int(x.split('/')[0]))\n",
    "data['总楼层']=data['楼层'].apply(lambda x:int(x.replace('层','').split('/')[-1]))\n",
    "data['地铁数']=data['地铁'].apply(lambda x:len(re.findall('线',x)))\n",
    "data['距离地铁路程']=data['地铁'].apply(lambda x:int(re.findall('(\\d+)米',x)[-1]) if re.findall('(\\d+)米',x) else -1)\n",
    "data['距离地铁路程'] = data['距离地铁路程'].astype(np.int64)"
   ]
  },
  {
   "cell_type": "code",
   "execution_count": 81,
   "id": "7b5b8a52",
   "metadata": {},
   "outputs": [
    {
     "name": "stdout",
     "output_type": "stream",
     "text": [
      "<class 'pandas.core.frame.DataFrame'>\n",
      "Int64Index: 6024 entries, 0 to 6573\n",
      "Data columns (total 13 columns):\n",
      " #   Column  Non-Null Count  Dtype \n",
      "---  ------  --------------  ----- \n",
      " 0   价格      6024 non-null   int64 \n",
      " 1   面积      6024 non-null   int64 \n",
      " 2   编号      6024 non-null   object\n",
      " 3   户型      6024 non-null   object\n",
      " 4   楼层      6024 non-null   object\n",
      " 5   位置1     6024 non-null   object\n",
      " 6   位置2     6024 non-null   object\n",
      " 7   小区      6024 non-null   object\n",
      " 8   地铁      6024 non-null   object\n",
      " 9   所在楼层    6024 non-null   int64 \n",
      " 10  总楼层     6024 non-null   int64 \n",
      " 11  地铁数     6024 non-null   int64 \n",
      " 12  距离地铁路程  6024 non-null   int64 \n",
      "dtypes: int64(6), object(7)\n",
      "memory usage: 658.9+ KB\n"
     ]
    },
    {
     "data": {
      "text/html": [
       "<div>\n",
       "<style scoped>\n",
       "    .dataframe tbody tr th:only-of-type {\n",
       "        vertical-align: middle;\n",
       "    }\n",
       "\n",
       "    .dataframe tbody tr th {\n",
       "        vertical-align: top;\n",
       "    }\n",
       "\n",
       "    .dataframe thead th {\n",
       "        text-align: right;\n",
       "    }\n",
       "</style>\n",
       "<table border=\"1\" class=\"dataframe\">\n",
       "  <thead>\n",
       "    <tr style=\"text-align: right;\">\n",
       "      <th></th>\n",
       "      <th>价格</th>\n",
       "      <th>面积</th>\n",
       "      <th>编号</th>\n",
       "      <th>户型</th>\n",
       "      <th>楼层</th>\n",
       "      <th>位置1</th>\n",
       "      <th>位置2</th>\n",
       "      <th>小区</th>\n",
       "      <th>地铁</th>\n",
       "      <th>所在楼层</th>\n",
       "      <th>总楼层</th>\n",
       "      <th>地铁数</th>\n",
       "      <th>距离地铁路程</th>\n",
       "    </tr>\n",
       "  </thead>\n",
       "  <tbody>\n",
       "    <tr>\n",
       "      <th>0</th>\n",
       "      <td>1330</td>\n",
       "      <td>9</td>\n",
       "      <td>38738-A</td>\n",
       "      <td>3室1卫</td>\n",
       "      <td>9/11层</td>\n",
       "      <td>房山区</td>\n",
       "      <td>良乡大学城西</td>\n",
       "      <td>紫汇家园</td>\n",
       "      <td>地铁：距房山线良乡大学城西站550米</td>\n",
       "      <td>9</td>\n",
       "      <td>11</td>\n",
       "      <td>1</td>\n",
       "      <td>550</td>\n",
       "    </tr>\n",
       "    <tr>\n",
       "      <th>1</th>\n",
       "      <td>5810</td>\n",
       "      <td>39</td>\n",
       "      <td>64752-A</td>\n",
       "      <td>1室1卫</td>\n",
       "      <td>9/12层</td>\n",
       "      <td>东城区</td>\n",
       "      <td>广渠门内</td>\n",
       "      <td>绿景苑</td>\n",
       "      <td>地铁：距7号线广渠门内站650米</td>\n",
       "      <td>9</td>\n",
       "      <td>12</td>\n",
       "      <td>1</td>\n",
       "      <td>650</td>\n",
       "    </tr>\n",
       "    <tr>\n",
       "      <th>2</th>\n",
       "      <td>4820</td>\n",
       "      <td>36</td>\n",
       "      <td>65359-A</td>\n",
       "      <td>1室1卫</td>\n",
       "      <td>1/6层</td>\n",
       "      <td>东城区</td>\n",
       "      <td>景泰</td>\n",
       "      <td>定安里</td>\n",
       "      <td>地铁：距14号线东段景泰站450米</td>\n",
       "      <td>1</td>\n",
       "      <td>6</td>\n",
       "      <td>1</td>\n",
       "      <td>450</td>\n",
       "    </tr>\n",
       "    <tr>\n",
       "      <th>3</th>\n",
       "      <td>1850</td>\n",
       "      <td>9</td>\n",
       "      <td>185-B</td>\n",
       "      <td>4室2卫</td>\n",
       "      <td>2/27层</td>\n",
       "      <td>朝阳区</td>\n",
       "      <td>管庄</td>\n",
       "      <td>京通苑阳光华苑</td>\n",
       "      <td>地铁：距八通线管庄站500米</td>\n",
       "      <td>2</td>\n",
       "      <td>27</td>\n",
       "      <td>1</td>\n",
       "      <td>500</td>\n",
       "    </tr>\n",
       "    <tr>\n",
       "      <th>4</th>\n",
       "      <td>9000</td>\n",
       "      <td>116</td>\n",
       "      <td>17830-A</td>\n",
       "      <td>2室1卫</td>\n",
       "      <td>8/16层</td>\n",
       "      <td>朝阳区</td>\n",
       "      <td>十里堡</td>\n",
       "      <td>天天朝阳</td>\n",
       "      <td>地铁：距6号线十里堡站850米</td>\n",
       "      <td>8</td>\n",
       "      <td>16</td>\n",
       "      <td>1</td>\n",
       "      <td>850</td>\n",
       "    </tr>\n",
       "  </tbody>\n",
       "</table>\n",
       "</div>"
      ],
      "text/plain": [
       "     价格   面积       编号    户型     楼层  位置1     位置2       小区                  地铁  \\\n",
       "0  1330    9  38738-A  3室1卫  9/11层  房山区  良乡大学城西     紫汇家园  地铁：距房山线良乡大学城西站550米   \n",
       "1  5810   39  64752-A  1室1卫  9/12层  东城区    广渠门内      绿景苑    地铁：距7号线广渠门内站650米   \n",
       "2  4820   36  65359-A  1室1卫   1/6层  东城区      景泰      定安里   地铁：距14号线东段景泰站450米   \n",
       "3  1850    9    185-B  4室2卫  2/27层  朝阳区      管庄  京通苑阳光华苑      地铁：距八通线管庄站500米   \n",
       "4  9000  116  17830-A  2室1卫  8/16层  朝阳区     十里堡     天天朝阳     地铁：距6号线十里堡站850米   \n",
       "\n",
       "   所在楼层  总楼层  地铁数  距离地铁路程  \n",
       "0     9   11    1     550  \n",
       "1     9   12    1     650  \n",
       "2     1    6    1     450  \n",
       "3     2   27    1     500  \n",
       "4     8   16    1     850  "
      ]
     },
     "execution_count": 81,
     "metadata": {},
     "output_type": "execute_result"
    }
   ],
   "source": [
    "#查看数据处理后结果\n",
    "data.info()\n",
    "data.head()"
   ]
  },
  {
   "cell_type": "code",
   "execution_count": 83,
   "id": "5474c90c",
   "metadata": {},
   "outputs": [],
   "source": [
    "#将数据保存到文件中\n",
    "data.to_csv('bj_rent.csv',index=False,encoding='utf-8-sig')\n",
    "#在数据库中创建表bj_rent,将保存的数据导入到表中"
   ]
  },
  {
   "cell_type": "markdown",
   "id": "f6c6d3e0",
   "metadata": {},
   "source": [
    "# 利用SQL语句分析数据并可视化"
   ]
  },
  {
   "cell_type": "code",
   "execution_count": 3,
   "id": "bace7f00",
   "metadata": {},
   "outputs": [],
   "source": [
    "#连接数据库\n",
    "conn=pymysql.connect(host='localhost',user='root',password='000109',database='test',charset='utf8')"
   ]
  },
  {
   "cell_type": "markdown",
   "id": "19eb64c9",
   "metadata": {},
   "source": [
    "1.查看整体情况，出租房数量、每平米租金、平均所在楼层高度、平均距离地铁路程"
   ]
  },
  {
   "cell_type": "code",
   "execution_count": 136,
   "id": "ca5c9629",
   "metadata": {},
   "outputs": [
    {
     "data": {
      "text/plain": [
       "((6024,\n",
       "  Decimal('15.6775'),\n",
       "  Decimal('169.5788'),\n",
       "  Decimal('7.1785'),\n",
       "  Decimal('961.7427')),)"
      ]
     },
     "execution_count": 136,
     "metadata": {},
     "output_type": "execute_result"
    }
   ],
   "source": [
    "cur=conn.cursor()\n",
    "cur.execute('select count(1),avg(面积),sum(价格)/sum(面积),avg(所在楼层),avg(距离地铁路程) from bj_rent')\n",
    "data=cur.fetchall()\n",
    "data"
   ]
  },
  {
   "cell_type": "markdown",
   "id": "aa13f278",
   "metadata": {},
   "source": [
    "可以看出一共有6024条租房数据，平均租房面积为15.68平方米，每平米租房价格为169.58元，平均楼层为7楼，距离最近地铁的平均距离为961.74米"
   ]
  },
  {
   "cell_type": "markdown",
   "id": "9a53e7a2",
   "metadata": {},
   "source": [
    "2.1 对地区进行数据分析"
   ]
  },
  {
   "cell_type": "code",
   "execution_count": 66,
   "id": "67a442fe",
   "metadata": {},
   "outputs": [
    {
     "data": {
      "text/plain": [
       "(('朝阳区', 1877, 498, Decimal('185.9424')),\n",
       " ('通州区', 1027, 252, Decimal('137.7378')),\n",
       " ('丰台区', 744, 280, Decimal('185.4459')),\n",
       " ('昌平区', 511, 154, Decimal('161.0673')),\n",
       " ('大兴区', 381, 151, Decimal('156.5199')),\n",
       " ('海淀区', 370, 172, Decimal('211.3776')),\n",
       " ('顺义区', 370, 64, Decimal('159.5459')),\n",
       " ('房山区', 363, 78, Decimal('117.8136')),\n",
       " ('石景山区', 175, 59, Decimal('176.2078')),\n",
       " ('东城区', 104, 65, Decimal('154.8466')),\n",
       " ('西城区', 84, 62, Decimal('184.0784')),\n",
       " ('门头沟区', 18, 6, Decimal('161.6940')))"
      ]
     },
     "execution_count": 66,
     "metadata": {},
     "output_type": "execute_result"
    }
   ],
   "source": [
    "cur=conn.cursor()\n",
    "cur.execute('select 位置1,count(1) as total,count(distinct 小区) as 小区数量,sum(价格)/sum(面积) as 每平米租金 from bj_rent group by 位置1 order by total desc')\n",
    "data=cur.fetchall()\n",
    "data"
   ]
  },
  {
   "cell_type": "markdown",
   "id": "940de0a8",
   "metadata": {},
   "source": [
    "可以看出朝阳区、通州区租房数量最多，西城区、门头沟区租房数量最少"
   ]
  },
  {
   "cell_type": "markdown",
   "id": "f520f48a",
   "metadata": {},
   "source": [
    "2.2 地区分析可视化"
   ]
  },
  {
   "cell_type": "code",
   "execution_count": 67,
   "id": "e8b33e1f",
   "metadata": {},
   "outputs": [
    {
     "data": {
      "text/html": [
       "<div>\n",
       "<style scoped>\n",
       "    .dataframe tbody tr th:only-of-type {\n",
       "        vertical-align: middle;\n",
       "    }\n",
       "\n",
       "    .dataframe tbody tr th {\n",
       "        vertical-align: top;\n",
       "    }\n",
       "\n",
       "    .dataframe thead th {\n",
       "        text-align: right;\n",
       "    }\n",
       "</style>\n",
       "<table border=\"1\" class=\"dataframe\">\n",
       "  <thead>\n",
       "    <tr style=\"text-align: right;\">\n",
       "      <th></th>\n",
       "      <th>位置1</th>\n",
       "      <th>租房数</th>\n",
       "      <th>小区数</th>\n",
       "      <th>每平米租金</th>\n",
       "    </tr>\n",
       "  </thead>\n",
       "  <tbody>\n",
       "    <tr>\n",
       "      <th>0</th>\n",
       "      <td>朝阳区</td>\n",
       "      <td>1877</td>\n",
       "      <td>498</td>\n",
       "      <td>185.9424</td>\n",
       "    </tr>\n",
       "    <tr>\n",
       "      <th>1</th>\n",
       "      <td>通州区</td>\n",
       "      <td>1027</td>\n",
       "      <td>252</td>\n",
       "      <td>137.7378</td>\n",
       "    </tr>\n",
       "    <tr>\n",
       "      <th>2</th>\n",
       "      <td>丰台区</td>\n",
       "      <td>744</td>\n",
       "      <td>280</td>\n",
       "      <td>185.4459</td>\n",
       "    </tr>\n",
       "    <tr>\n",
       "      <th>3</th>\n",
       "      <td>昌平区</td>\n",
       "      <td>511</td>\n",
       "      <td>154</td>\n",
       "      <td>161.0673</td>\n",
       "    </tr>\n",
       "    <tr>\n",
       "      <th>4</th>\n",
       "      <td>大兴区</td>\n",
       "      <td>381</td>\n",
       "      <td>151</td>\n",
       "      <td>156.5199</td>\n",
       "    </tr>\n",
       "    <tr>\n",
       "      <th>5</th>\n",
       "      <td>海淀区</td>\n",
       "      <td>370</td>\n",
       "      <td>172</td>\n",
       "      <td>211.3776</td>\n",
       "    </tr>\n",
       "    <tr>\n",
       "      <th>6</th>\n",
       "      <td>顺义区</td>\n",
       "      <td>370</td>\n",
       "      <td>64</td>\n",
       "      <td>159.5459</td>\n",
       "    </tr>\n",
       "    <tr>\n",
       "      <th>7</th>\n",
       "      <td>房山区</td>\n",
       "      <td>363</td>\n",
       "      <td>78</td>\n",
       "      <td>117.8136</td>\n",
       "    </tr>\n",
       "    <tr>\n",
       "      <th>8</th>\n",
       "      <td>石景山区</td>\n",
       "      <td>175</td>\n",
       "      <td>59</td>\n",
       "      <td>176.2078</td>\n",
       "    </tr>\n",
       "    <tr>\n",
       "      <th>9</th>\n",
       "      <td>东城区</td>\n",
       "      <td>104</td>\n",
       "      <td>65</td>\n",
       "      <td>154.8466</td>\n",
       "    </tr>\n",
       "    <tr>\n",
       "      <th>10</th>\n",
       "      <td>西城区</td>\n",
       "      <td>84</td>\n",
       "      <td>62</td>\n",
       "      <td>184.0784</td>\n",
       "    </tr>\n",
       "    <tr>\n",
       "      <th>11</th>\n",
       "      <td>门头沟区</td>\n",
       "      <td>18</td>\n",
       "      <td>6</td>\n",
       "      <td>161.6940</td>\n",
       "    </tr>\n",
       "  </tbody>\n",
       "</table>\n",
       "</div>"
      ],
      "text/plain": [
       "     位置1   租房数  小区数     每平米租金\n",
       "0    朝阳区  1877  498  185.9424\n",
       "1    通州区  1027  252  137.7378\n",
       "2    丰台区   744  280  185.4459\n",
       "3    昌平区   511  154  161.0673\n",
       "4    大兴区   381  151  156.5199\n",
       "5    海淀区   370  172  211.3776\n",
       "6    顺义区   370   64  159.5459\n",
       "7    房山区   363   78  117.8136\n",
       "8   石景山区   175   59  176.2078\n",
       "9    东城区   104   65  154.8466\n",
       "10   西城区    84   62  184.0784\n",
       "11  门头沟区    18    6  161.6940"
      ]
     },
     "execution_count": 67,
     "metadata": {},
     "output_type": "execute_result"
    }
   ],
   "source": [
    "data=pd.DataFrame(data,columns=['位置1','租房数','小区数','每平米租金'])\n",
    "data"
   ]
  },
  {
   "cell_type": "code",
   "execution_count": 68,
   "id": "cad428cb",
   "metadata": {},
   "outputs": [
    {
     "data": {
      "text/plain": [
       "Text(0.5, 1.0, '位置与租房数条形图')"
      ]
     },
     "execution_count": 68,
     "metadata": {},
     "output_type": "execute_result"
    },
    {
     "data": {
      "image/png": "[encoded data removed]",
      "text/plain": [
       "<Figure size 640x480 with 1 Axes>"
      ]
     },
     "metadata": {},
     "output_type": "display_data"
    }
   ],
   "source": [
    "#根据位置和租房数绘制条形图\n",
    "plt.bar(data['位置1'],data['租房数'])\n",
    "plt.xlabel('位置')\n",
    "plt.ylabel('租房数')\n",
    "plt.title('位置与租房数条形图')"
   ]
  },
  {
   "cell_type": "markdown",
   "id": "6aea6ade",
   "metadata": {},
   "source": [
    "可以以看出朝阳区的租房数量最多，通州区的租房数量紧随其后，门头沟区租房数量最少,说明朝阳区和通州区的租赁市场比较活跃，人员和人口密度也比较大。"
   ]
  },
  {
   "cell_type": "code",
   "execution_count": 69,
   "id": "fe154118",
   "metadata": {},
   "outputs": [
    {
     "data": {
      "text/plain": [
       "Text(0.5, 1.0, '位置与每平米租金线图')"
      ]
     },
     "execution_count": 69,
     "metadata": {},
     "output_type": "execute_result"
    },
    {
     "data": {
      "image/png": "[encoded data removed]",
      "text/plain": [
       "<Figure size 640x480 with 1 Axes>"
      ]
     },
     "metadata": {},
     "output_type": "display_data"
    }
   ],
   "source": [
    "#根据位置和每平米租金绘制线图\n",
    "plt.plot(data['位置1'],data['每平米租金'])\n",
    "for x,y in zip(data['位置1'],data['每平米租金']):\n",
    "     plt.text(x, y, y, ha='center', va='bottom', fontsize=10)\n",
    "plt.xlabel('位置')\n",
    "plt.ylabel('每平米租金')\n",
    "plt.title('位置与每平米租金线图')"
   ]
  },
  {
   "cell_type": "markdown",
   "id": "a909eb47",
   "metadata": {},
   "source": [
    "海淀区的每平米租金价格最贵，朝阳区排名第二，从上图可以看出每平米租金与房源数量无太大关系，通州区租房数量较多，每平米租金相对来说较少，是一个不错的租房地区选择。"
   ]
  },
  {
   "cell_type": "markdown",
   "id": "3cae7a1a",
   "metadata": {},
   "source": [
    "3.1 小区数据分析"
   ]
  },
  {
   "cell_type": "code",
   "execution_count": 71,
   "id": "c2b515dc",
   "metadata": {},
   "outputs": [
    {
     "data": {
      "text/plain": [
       "(('新建村小区', '通州区', 55, Decimal('213.8376')),\n",
       " ('花香东苑', '丰台区', 52, Decimal('226.8390')),\n",
       " ('连心园西区', '朝阳区', 52, Decimal('160.6913')),\n",
       " ('友谊嘉园三期', '海淀区', 48, Decimal('202.1027')),\n",
       " ('管庄新村', '朝阳区', 47, Decimal('184.8780')),\n",
       " ('常营民族家园CDF区', '朝阳区', 44, Decimal('173.4112')),\n",
       " ('东潞苑', '通州区', 36, Decimal('125.4953')),\n",
       " ('刘庄新村', '通州区', 34, Decimal('132.8507')),\n",
       " ('澜西园', '顺义区', 31, Decimal('135.7027')),\n",
       " ('西潞苑小区', '通州区', 27, Decimal('128.9514')),\n",
       " ('东羊庄新村', '房山区', 27, Decimal('118.1703')),\n",
       " ('姚家园东里7号院', '朝阳区', 26, Decimal('206.2029')),\n",
       " ('吉祥花园', '顺义区', 25, Decimal('204.0942')),\n",
       " ('北花园小区', '朝阳区', 24, Decimal('148.1559')),\n",
       " ('枫泉花园', '顺义区', 23, Decimal('226.0092')),\n",
       " ('德鑫嘉园三期', '丰台区', 22, Decimal('227.6498')),\n",
       " ('姚家园西里5号院', '朝阳区', 22, Decimal('161.8338')),\n",
       " ('泰福苑二区', '朝阳区', 21, Decimal('180.3067')),\n",
       " ('建工双合家园', '朝阳区', 21, Decimal('199.3927')),\n",
       " ('红山郡', '丰台区', 20, Decimal('138.7072')),\n",
       " ('三山新新家园', '顺义区', 20, Decimal('173.7156')),\n",
       " ('连心园东区', '朝阳区', 19, Decimal('161.0032')),\n",
       " ('富力惠兰美居', '通州区', 19, Decimal('152.1198')),\n",
       " ('新建村二期', '通州区', 19, Decimal('199.7255')),\n",
       " ('紫金新干线四期', '昌平区', 19, Decimal('160.9821')),\n",
       " ('南湖中园小区', '朝阳区', 19, Decimal('265.8079')),\n",
       " ('金隅泰和园', '朝阳区', 18, Decimal('238.3422')),\n",
       " ('定福庄西街', '朝阳区', 18, Decimal('205.9389')),\n",
       " ('翠竹新村', '顺义区', 18, Decimal('170.7965')),\n",
       " ('紫汇家园', '房山区', 17, Decimal('100.8303')),\n",
       " ('金隅汇星苑', '朝阳区', 17, Decimal('261.4570')),\n",
       " ('前进花园石门苑', '顺义区', 17, Decimal('161.4583')),\n",
       " ('回龙观新村西区', '海淀区', 17, Decimal('301.6667')),\n",
       " ('金隅康惠园', '朝阳区', 17, Decimal('236.7241')),\n",
       " ('鸿顺园西区', '房山区', 16, Decimal('123.3838')),\n",
       " ('云景西里', '通州区', 16, Decimal('153.6508')),\n",
       " ('回龙观新村中区', '海淀区', 16, Decimal('242.4402')),\n",
       " ('华远铭悦', '通州区', 15, Decimal('158.6592')),\n",
       " ('芳城园一区', '丰台区', 15, Decimal('210.2000')),\n",
       " ('兴隆家园', '朝阳区', 15, Decimal('189.4492')),\n",
       " ('姚家园东里8号院', '朝阳区', 15, Decimal('214.2246')),\n",
       " ('莲竹花园', '顺义区', 15, Decimal('199.2614')),\n",
       " ('兴昌佳苑', '昌平区', 14, Decimal('138.2162')),\n",
       " ('天通苑北一区', '昌平区', 14, Decimal('182.9717')),\n",
       " ('将府锦苑', '朝阳区', 14, Decimal('212.3913')),\n",
       " ('龙兴园西区', '昌平区', 14, Decimal('134.0060')),\n",
       " ('京贸家园', '通州区', 14, Decimal('186.8548')),\n",
       " ('梵谷水郡', '朝阳区', 13, Decimal('263.6986')),\n",
       " ('古城南路', '石景山区', 13, Decimal('200.4706')),\n",
       " ('二拨子新村西区', '昌平区', 13, Decimal('141.1441')),\n",
       " ('方庄南路18号院', '朝阳区', 13, Decimal('243.0822')),\n",
       " ('天恒乐活城', '房山区', 12, Decimal('114.2361')),\n",
       " ('新城乐居', '通州区', 12, Decimal('182.8070')),\n",
       " ('泰福苑三区', '朝阳区', 12, Decimal('150.0752')),\n",
       " ('黄村西里', '大兴区', 12, Decimal('136.6864')),\n",
       " ('潘家园东里', '朝阳区', 12, Decimal('164.1697')),\n",
       " ('天裕昕园', '顺义区', 12, Decimal('152.7848')),\n",
       " ('小西庄回迁楼', '房山区', 12, Decimal('113.6054')),\n",
       " ('定福家园北里', '朝阳区', 12, Decimal('164.3269')),\n",
       " ('豆各庄新村', '昌平区', 12, Decimal('142.5131')),\n",
       " ('北京香颂', '朝阳区', 11, Decimal('233.4884')),\n",
       " ('K2清水湾', '通州区', 11, Decimal('132.0497')),\n",
       " ('鸿博家园二期D区', '朝阳区', 11, Decimal('211.6949')),\n",
       " ('常营民族家园三期', '朝阳区', 11, Decimal('171.6092')),\n",
       " ('姚家园西里3号院', '朝阳区', 11, Decimal('171.1628')),\n",
       " ('鸿顺园东区', '房山区', 11, Decimal('115.9060')),\n",
       " ('康泽园', '丰台区', 11, Decimal('204.6154')),\n",
       " ('常营民族家园B区', '朝阳区', 11, Decimal('145.0246')),\n",
       " ('石景苑', '顺义区', 11, Decimal('158.7681')),\n",
       " ('北辰福第中区', '朝阳区', 11, Decimal('198.4076')),\n",
       " ('中海城圣朝菲', '朝阳区', 11, Decimal('186.4024')),\n",
       " ('天通苑北三区', '昌平区', 11, Decimal('176.8485')),\n",
       " ('望京新城', '朝阳区', 11, Decimal('293.2813')),\n",
       " ('回龙观新村东区', '昌平区', 11, Decimal('300.7843')),\n",
       " ('金驹家园', '朝阳区', 10, Decimal('178.3929')),\n",
       " ('沿海赛洛城', '朝阳区', 10, Decimal('163.9024')),\n",
       " ('葛布店东里', '通州区', 10, Decimal('136.3125')),\n",
       " ('双兴南区', '顺义区', 10, Decimal('105.1366')),\n",
       " ('瑞雪春堂', '房山区', 10, Decimal('112.9771')),\n",
       " ('建新北区', '顺义区', 10, Decimal('134.4048')),\n",
       " ('康营小区', '朝阳区', 10, Decimal('185.1587')),\n",
       " ('新潮嘉园二期', '通州区', 10, Decimal('110.7194')),\n",
       " ('保利嘉园1号院', '朝阳区', 10, Decimal('230.7071')),\n",
       " ('珠江绿洲家园', '朝阳区', 10, Decimal('208.4932')),\n",
       " ('南店新村', '昌平区', 10, Decimal('252.5510')),\n",
       " ('兴华园', '大兴区', 10, Decimal('195.9341')),\n",
       " ('远洋一方润园', '朝阳区', 10, Decimal('208.9623')),\n",
       " ('加州水郡三期', '房山区', 10, Decimal('116.8421')),\n",
       " ('苏坨新村', '通州区', 10, Decimal('141.3534')),\n",
       " ('康营小区A区', '朝阳区', 10, Decimal('204.3519')),\n",
       " ('滨河西里', '大兴区', 10, Decimal('130.8284')),\n",
       " ('天通苑西二区', '昌平区', 10, Decimal('189.3750')),\n",
       " ('北通集团家属楼', '通州区', 10, Decimal('150.5455')),\n",
       " ('世纪星城', '通州区', 10, Decimal('156.0526')),\n",
       " ('悦澜水岸家园', '通州区', 9, Decimal('97.6596')),\n",
       " ('恒大华府', '朝阳区', 9, Decimal('243.5714')),\n",
       " ('天通苑东二区', '昌平区', 9, Decimal('120.5202')),\n",
       " ('群芳三园', '通州区', 9, Decimal('144.1441')),\n",
       " ('潞苑嘉园', '通州区', 9, Decimal('129.8246')),\n",
       " ('双龙南里', '朝阳区', 9, Decimal('153.4146')),\n",
       " ('晨光家园', '朝阳区', 9, Decimal('153.6239')),\n",
       " ('国际港', '朝阳区', 9, Decimal('236.4789')),\n",
       " ('后南仓', '通州区', 9, Decimal('129.1333')),\n",
       " ('芳星园三区', '丰台区', 9, Decimal('225.9649')),\n",
       " ('玉桥南里', '通州区', 9, Decimal('100.8019')),\n",
       " ('翠屏南里', '通州区', 9, Decimal('155.2885')),\n",
       " ('古城现代嘉园', '石景山区', 9, Decimal('129.9038')),\n",
       " ('加州水郡四期', '房山区', 9, Decimal('91.3125')),\n",
       " ('苗圃东里', '丰台区', 9, Decimal('216.1765')),\n",
       " ('天资华府', '房山区', 9, Decimal('132.0721')),\n",
       " ('首创紫悦台', '房山区', 9, Decimal('111.3571')),\n",
       " ('定福庄北里1号院', '朝阳区', 9, Decimal('217.9412')),\n",
       " ('世茂维拉', '房山区', 9, Decimal('104.4624')),\n",
       " ('十万坪', '石景山区', 9, Decimal('188.8889')),\n",
       " ('东柳西里', '朝阳区', 9, Decimal('180.3279')),\n",
       " ('永旺家园一区', '海淀区', 9, Decimal('299.2500')),\n",
       " ('保利春天里二区', '大兴区', 9, Decimal('212.8947')),\n",
       " ('玉竹园', '房山区', 9, Decimal('104.3307')),\n",
       " ('京通苑阳光华苑', '朝阳区', 8, Decimal('192.4211')),\n",
       " ('西马庄园', '朝阳区', 8, Decimal('164.3878')),\n",
       " ('财富东方', '通州区', 8, Decimal('141.8421')),\n",
       " ('后现代城', '朝阳区', 8, Decimal('132.5323')),\n",
       " ('天通苑东一区', '昌平区', 8, Decimal('136.3462')),\n",
       " ('西营前街', '通州区', 8, Decimal('139.0566')),\n",
       " ('鸿博家园二期F区', '朝阳区', 8, Decimal('184.5631')),\n",
       " ('次渠南里', '通州区', 8, Decimal('153.5043')),\n",
       " ('潘家园小区', '朝阳区', 8, Decimal('194.3796')),\n",
       " ('管庄东里', '朝阳区', 8, Decimal('173.2075')),\n",
       " ('华业东方玫瑰', '通州区', 8, Decimal('146.9748')),\n",
       " ('西辛南区', '顺义区', 8, Decimal('174.7619')),\n",
       " ('天竺花园', '顺义区', 8, Decimal('163.6364')),\n",
       " ('佳世苑小区', '房山区', 8, Decimal('109.2929')),\n",
       " ('世华泊郡', '朝阳区', 8, Decimal('262.3457')),\n",
       " ('德鑫嘉园二期', '丰台区', 8, Decimal('219.4253')),\n",
       " ('美景东方', '朝阳区', 8, Decimal('225.7391')),\n",
       " ('永顺西里', '通州区', 8, Decimal('132.7586')),\n",
       " ('金泽家园A区', '朝阳区', 8, Decimal('186.8889')),\n",
       " ('康营小区15区', '朝阳区', 8, Decimal('195.3465')),\n",
       " ('鸿博家园一期A区', '朝阳区', 8, Decimal('210.0000')),\n",
       " ('绿湾星苑', '房山区', 8, Decimal('164.7761')),\n",
       " ('翠福园', '通州区', 8, Decimal('158.2524')),\n",
       " ('石园北区', '顺义区', 8, Decimal('140.8696')),\n",
       " ('府东苑', '通州区', 8, Decimal('165.8065')),\n",
       " ('东关北里小区', '昌平区', 8, Decimal('125.4237')),\n",
       " ('花家地西里', '朝阳区', 8, Decimal('247.7670')),\n",
       " ('蓝天怡景', '丰台区', 8, Decimal('170.7778')),\n",
       " ('红庙北里', '朝阳区', 8, Decimal('250.0893')),\n",
       " ('张家场周转房', '房山区', 8, Decimal('106.5385')),\n",
       " ('住总正华多彩嘉园', '大兴区', 8, Decimal('199.2500')),\n",
       " ('望京西园一区', '朝阳区', 8, Decimal('157.5107')),\n",
       " ('天裕昕园西区', '顺义区', 8, Decimal('155.2041')),\n",
       " ('万树园', '海淀区', 8, Decimal('233.3654')),\n",
       " ('兴海家园日苑', '大兴区', 8, Decimal('184.2593')),\n",
       " ('兆丰家园', '昌平区', 8, Decimal('158.0374')),\n",
       " ('soho现代城', '朝阳区', 7, Decimal('141.8576')),\n",
       " ('滨河小区', '顺义区', 7, Decimal('135.9459')),\n",
       " ('望京西园三区', '朝阳区', 7, Decimal('187.8750')),\n",
       " ('王家场', '通州区', 7, Decimal('146.5385')),\n",
       " ('华腾园', '朝阳区', 7, Decimal('285.2632')),\n",
       " ('益辰欣园', '丰台区', 7, Decimal('177.0093')),\n",
       " ('葛布店南里', '通州区', 7, Decimal('131.4634')),\n",
       " ('运乔嘉园', '通州区', 7, Decimal('150.6250')),\n",
       " ('东卫城', '朝阳区', 7, Decimal('176.2500')),\n",
       " ('保利嘉园3号院', '朝阳区', 7, Decimal('234.2667')),\n",
       " ('青秀城', '丰台区', 7, Decimal('132.1088')),\n",
       " ('通惠家园惠民园', '朝阳区', 7, Decimal('270.2667')),\n",
       " ('天通中苑', '昌平区', 7, Decimal('167.5000')),\n",
       " ('大方居', '通州区', 7, Decimal('174.4444')),\n",
       " ('金第润苑', '朝阳区', 7, Decimal('224.0964')),\n",
       " ('松榆西里', '朝阳区', 7, Decimal('197.0175')),\n",
       " ('加华印象街', '通州区', 7, Decimal('142.6606')),\n",
       " ('金汉绿港三区', '顺义区', 7, Decimal('180.5714')),\n",
       " ('清和园', '丰台区', 7, Decimal('158.5556')),\n",
       " ('车站中里', '大兴区', 7, Decimal('167.3077')),\n",
       " ('TBD万科天地', '昌平区', 7, Decimal('207.8652')),\n",
       " ('满庭芳嘉园', '顺义区', 7, Decimal('191.2195')),\n",
       " ('垡头翠城馨园南区', '朝阳区', 7, Decimal('241.7188')),\n",
       " ('西环里', '昌平区', 7, Decimal('77.7670')),\n",
       " ('远洋新仕界', '房山区', 7, Decimal('152.2059')),\n",
       " ('艺水芳园', '朝阳区', 7, Decimal('159.9219')),\n",
       " ('观音寺南里', '大兴区', 7, Decimal('129.3878')),\n",
       " ('金海国际', '朝阳区', 7, Decimal('197.4790')),\n",
       " ('保利首开四季怡园', '门头沟区', 7, Decimal('188.1818')),\n",
       " ('方舟苑', '朝阳区', 7, Decimal('265.2326')),\n",
       " ('老山西里', '石景山区', 7, Decimal('173.8835')),\n",
       " ('西上园三区', '通州区', 7, Decimal('173.4091')),\n",
       " ('伟业嘉园西里', '房山区', 7, Decimal('96.1616')),\n",
       " ('梨园新村', '通州区', 7, Decimal('125.8955')),\n",
       " ('东兴一区', '顺义区', 7, Decimal('155.5294')),\n",
       " ('旅游新村', '通州区', 7, Decimal('192.8205')),\n",
       " ('瑞都公园世家南区', '通州区', 7, Decimal('154.4660')),\n",
       " ('城建广悦居', '房山区', 7, Decimal('140.2632')),\n",
       " ('西罗园南里', '丰台区', 6, Decimal('114.2365')),\n",
       " ('青年汇佳园', '朝阳区', 6, Decimal('180.3876')),\n",
       " ('北京城建福润四季', '朝阳区', 6, Decimal('201.3793')),\n",
       " ('阳光100', '朝阳区', 6, Decimal('209.5484')),\n",
       " ('云景豪庭', '通州区', 6, Decimal('83.8362')),\n",
       " ('万科四季花城', '顺义区', 6, Decimal('178.3099')),\n",
       " ('天通苑西三区', '昌平区', 6, Decimal('174.0777')),\n",
       " ('姚家园西里2号院', '朝阳区', 6, Decimal('206.0811')),\n",
       " ('金地格林格林', '通州区', 6, Decimal('133.4286')),\n",
       " ('新华联家园南区', '通州区', 6, Decimal('96.2874')),\n",
       " ('延静里中街', '朝阳区', 6, Decimal('268.1690')),\n",
       " ('随园', '昌平区', 6, Decimal('154.4000')),\n",
       " ('鲁谷74号院', '石景山区', 6, Decimal('222.2535')),\n",
       " ('恒大江湾', '朝阳区', 6, Decimal('208.3582')),\n",
       " ('珠江罗马嘉园西区', '朝阳区', 6, Decimal('166.5359')),\n",
       " ('西坝河北里', '朝阳区', 6, Decimal('293.0435')),\n",
       " ('石门新居', '朝阳区', 6, Decimal('120.0694')),\n",
       " ('正邦嘉园', '丰台区', 6, Decimal('226.1111')),\n",
       " ('莱圳家园', '海淀区', 6, Decimal('177.1429')),\n",
       " ('百环花园', '朝阳区', 6, Decimal('213.0337')),\n",
       " ('玉桥北里', '通州区', 6, Decimal('107.3554')),\n",
       " ('次渠锦园北区', '通州区', 6, Decimal('208.4211')),\n",
       " ('新康家园', '大兴区', 6, Decimal('167.5581')),\n",
       " ('汇鸿家园', '朝阳区', 6, Decimal('222.1667')),\n",
       " ('金桥国际', '东城区', 6, Decimal('126.3215')),\n",
       " ('农光里', '朝阳区', 6, Decimal('257.0833')),\n",
       " ('银地家园', '丰台区', 6, Decimal('196.0938')),\n",
       " ('小稿村', '通州区', 6, Decimal('155.5263')),\n",
       " ('慧时欣园', '丰台区', 6, Decimal('209.2500')),\n",
       " ('仓上小区', '顺义区', 6, Decimal('130.6944')),\n",
       " ('坝鑫家园', '朝阳区', 6, Decimal('229.6774')),\n",
       " ('永乐东区', '石景山区', 6, Decimal('177.8261')),\n",
       " ('富力阳光美园', '朝阳区', 6, Decimal('220.8333')),\n",
       " ('金地朗悦悦园', '房山区', 6, Decimal('135.6061')),\n",
       " ('常营民族家园N区', '朝阳区', 6, Decimal('166.1000')),\n",
       " ('垡头西里二区', '朝阳区', 6, Decimal('191.7284')),\n",
       " ('云龙家园', '丰台区', 6, Decimal('170.7042')),\n",
       " ('北京华侨城1号院', '朝阳区', 6, Decimal('159.5935')),\n",
       " ('双清路2号院', '海淀区', 6, Decimal('183.4507')),\n",
       " ('阳光邑上', '房山区', 6, Decimal('131.3636')),\n",
       " ('兴政东里', '大兴区', 6, Decimal('151.9481')),\n",
       " ('长景新园', '房山区', 6, Decimal('188.0000')),\n",
       " ('当代北辰悦moma', '顺义区', 6, Decimal('194.5000')),\n",
       " ('劲松一区', '朝阳区', 6, Decimal('239.7468')),\n",
       " ('安福苑', '昌平区', 6, Decimal('166.0317')),\n",
       " ('康营小区23区', '朝阳区', 6, Decimal('197.8082')),\n",
       " ('首开国风美仑', '通州区', 6, Decimal('172.6154')),\n",
       " ('高楼金第', '通州区', 6, Decimal('120.6504')),\n",
       " ('金铸阳光苑', '石景山区', 6, Decimal('177.3786')),\n",
       " ('那尔水晶城', '大兴区', 6, Decimal('151.2871')),\n",
       " ('天通苑西一区', '昌平区', 6, Decimal('185.1136')),\n",
       " ('双惠苑', '朝阳区', 6, Decimal('177.7500')),\n",
       " ('首城国际', '朝阳区', 6, Decimal('178.9899')),\n",
       " ('北街家园一区', '昌平区', 6, Decimal('170.4688')),\n",
       " ('清逸西园', '大兴区', 6, Decimal('223.8182')),\n",
       " ('菊园', '海淀区', 6, Decimal('264.0278')),\n",
       " ('原香小镇一区', '房山区', 6, Decimal('124.1333')),\n",
       " ('太平桥西里', '丰台区', 6, Decimal('220.4651')),\n",
       " ('富强东里', '大兴区', 6, Decimal('123.2673')),\n",
       " ('甘露园南里二区', '朝阳区', 6, Decimal('236.3380')),\n",
       " ('东会新村', '朝阳区', 6, Decimal('211.0606')),\n",
       " ('宏仁家园', '通州区', 6, Decimal('166.3636')),\n",
       " ('亚林西居住区', '丰台区', 6, Decimal('254.0580')),\n",
       " ('神龙辛屯小区', '通州区', 6, Decimal('166.6667')),\n",
       " ('金胜嘉谊家园', '丰台区', 6, Decimal('204.7561')),\n",
       " ('定安里', '东城区', 5, Decimal('166.3441')),\n",
       " ('潘家园南里', '朝阳区', 5, Decimal('137.9137')),\n",
       " ('平乐园', '朝阳区', 5, Decimal('189.1262')),\n",
       " ('群芳园', '通州区', 5, Decimal('94.1270')),\n",
       " ('次渠怡芳园小区', '通州区', 5, Decimal('137.2000')),\n",
       " ('通惠家园惠润园', '朝阳区', 5, Decimal('188.1720')),\n",
       " ('望园东里', '丰台区', 5, Decimal('227.4138')),\n",
       " ('福盈家园2号院', '朝阳区', 5, Decimal('197.8261')),\n",
       " ('金隅汇景苑', '朝阳区', 5, Decimal('198.4211')),\n",
       " ('东亚朗悦居', '房山区', 5, Decimal('104.1667')),\n",
       " ('梨园东里', '通州区', 5, Decimal('142.2581')),\n",
       " ('次渠家园东里8区', '通州区', 5, Decimal('138.9412')),\n",
       " ('华威北里', '朝阳区', 5, Decimal('167.4359')),\n",
       " ('明日嘉园', '丰台区', 5, Decimal('233.8596')),\n",
       " ('金泽家园B区', '朝阳区', 5, Decimal('209.5918')),\n",
       " ('静安东里', '朝阳区', 5, Decimal('222.9412')),\n",
       " ('彩虹城二区', '丰台区', 5, Decimal('244.8077')),\n",
       " ('杨庄小区', '通州区', 5, Decimal('182.5455')),\n",
       " ('富河园', '通州区', 5, Decimal('180.0000')),\n",
       " ('通惠北路小区', '通州区', 5, Decimal('98.4615')),\n",
       " ('华威西里', '朝阳区', 5, Decimal('132.8902')),\n",
       " ('常营民族家园G区', '朝阳区', 5, Decimal('151.2195')),\n",
       " ('三元村小区', '通州区', 5, Decimal('152.1311')),\n",
       " ('怡和世家', '丰台区', 5, Decimal('210.6557')),\n",
       " ('宝星园', '朝阳区', 5, Decimal('248.3333')),\n",
       " ('荣丰2008', '西城区', 5, Decimal('177.2500')),\n",
       " ('蓝光星华海悦城', '房山区', 5, Decimal('110.5000')),\n",
       " ('彩虹城三区', '丰台区', 5, Decimal('204.5000')),\n",
       " ('长阳国际城', '房山区', 5, Decimal('165.8333')),\n",
       " ('裕龙六区', '顺义区', 5, Decimal('117.5385')),\n",
       " ('模式口西里', '石景山区', 5, Decimal('159.3333')),\n",
       " ('首钢古城西路', '石景山区', 5, Decimal('192.7119')),\n",
       " ('北京北', '朝阳区', 5, Decimal('145.1852')),\n",
       " ('南湖东园一区', '朝阳区', 5, Decimal('243.5616')),\n",
       " ('永旭嘉园', '大兴区', 5, Decimal('134.7945')),\n",
       " ('北京人家', '昌平区', 5, Decimal('179.2857')),\n",
       " ('公庄小区', '通州区', 5, Decimal('180.7547')),\n",
       " ('华龙苑南里', '昌平区', 5, Decimal('209.1803')),\n",
       " ('鸿博家园一期C区', '朝阳区', 5, Decimal('209.0909')),\n",
       " ('gogo新世代', '丰台区', 5, Decimal('183.1429')),\n",
       " ('神龙金桥', '通州区', 5, Decimal('140.0000')),\n",
       " ('丽水嘉园', '朝阳区', 5, Decimal('142.8470')),\n",
       " ('金泽家园C区', '朝阳区', 5, Decimal('200.9091')),\n",
       " ('嘉瑞通小区', '房山区', 5, Decimal('124.2857')),\n",
       " ('鹿鸣苑', '大兴区', 5, Decimal('226.9643')),\n",
       " ('清雅小区', '房山区', 5, Decimal('135.3623')),\n",
       " ('地铁古城家园', '石景山区', 5, Decimal('157.0513')),\n",
       " ('新悦家园', '昌平区', 5, Decimal('128.8312')),\n",
       " ('甘露家园', '朝阳区', 5, Decimal('196.0274')),\n",
       " ('智汇雅苑', '房山区', 5, Decimal('133.8333')),\n",
       " ('蓝调沙龙', '通州区', 5, Decimal('130.3125')),\n",
       " ('金台里', '朝阳区', 5, Decimal('192.9365')),\n",
       " ('国美第一城东区', '朝阳区', 5, Decimal('149.3939')),\n",
       " ('智学苑', '海淀区', 5, Decimal('244.3478')),\n",
       " ('靓景明居', '通州区', 5, Decimal('159.0141')),\n",
       " ('佰嘉城', '昌平区', 5, Decimal('222.6316')),\n",
       " ('富卓苑', '丰台区', 5, Decimal('130.5442')),\n",
       " ('云景西里南区', '通州区', 5, Decimal('75.3846')),\n",
       " ('建明里', '昌平区', 5, Decimal('126.5333')),\n",
       " ('绿城百合公寓风荷苑', '房山区', 5, Decimal('50.2239')),\n",
       " ('东关家园', '房山区', 5, Decimal('108.4746')),\n",
       " ('建新南区', '顺义区', 5, Decimal('134.5588')),\n",
       " ('兴政西里', '大兴区', 5, Decimal('194.8936')),\n",
       " ('盛世嘉园', '朝阳区', 5, Decimal('260.6667')),\n",
       " ('稻田回迁楼', '房山区', 5, Decimal('169.2453')),\n",
       " ('鲁能榴景秀苑', '丰台区', 5, Decimal('281.0000')),\n",
       " ('古城南里', '石景山区', 5, Decimal('150.5983')),\n",
       " ('霍营小区', '昌平区', 5, Decimal('215.9649')),\n",
       " ('二拨子新村东区', '昌平区', 5, Decimal('160.0000')),\n",
       " ('瑞丽江畔', '丰台区', 5, Decimal('193.5366')),\n",
       " ('碧桂园温泉小区C区', '房山区', 5, Decimal('126.5000')),\n",
       " ('电建北院', '朝阳区', 5, Decimal('153.3962')),\n",
       " ('万泉盛景园', '丰台区', 5, Decimal('210.1724')),\n",
       " ('华馨园', '通州区', 5, Decimal('155.5385')),\n",
       " ('金科天籁城', '大兴区', 5, Decimal('210.9302')),\n",
       " ('义和庄东里', '大兴区', 5, Decimal('143.9655')),\n",
       " ('利泽西园', '朝阳区', 5, Decimal('274.3103')),\n",
       " ('龙冠冠华苑二区', '昌平区', 5, Decimal('154.4928')),\n",
       " ('华龙小区', '通州区', 5, Decimal('142.4590')),\n",
       " ('南湖中园一区', '朝阳区', 5, Decimal('271.9231')),\n",
       " ('玉江佳园', '通州区', 5, Decimal('135.7831')),\n",
       " ('康颐园', '大兴区', 5, Decimal('149.2208')),\n",
       " ('鸿博家园二期C区', '朝阳区', 5, Decimal('215.9322')),\n",
       " ('新城阳光', '通州区', 5, Decimal('160.8451')),\n",
       " ('首开畅颐园', '朝阳区', 5, Decimal('132.4561')),\n",
       " ('竹木厂小区', '朝阳区', 5, Decimal('152.1875')),\n",
       " ('兴隆都市馨园', '东城区', 5, Decimal('240.6757')),\n",
       " ('远洋一方润园6号院', '朝阳区', 4, Decimal('189.0476')),\n",
       " ('长桥园公寓', '朝阳区', 4, Decimal('200.7500')),\n",
       " ('水郡长安', '朝阳区', 4, Decimal('146.1429')),\n",
       " ('康营小区6区', '朝阳区', 4, Decimal('174.6154')),\n",
       " ('柏林爱乐二期', '朝阳区', 4, Decimal('158.2278')),\n",
       " ('港馨家园东区', '顺义区', 4, Decimal('117.4510')),\n",
       " ('周庄嘉园三期A区', '朝阳区', 4, Decimal('271.4634')),\n",
       " ('石佛营西里', '朝阳区', 4, Decimal('170.3659')),\n",
       " ('草桥欣园四区', '丰台区', 4, Decimal('252.3077')),\n",
       " ('小街之春', '通州区', 4, Decimal('133.6538')),\n",
       " ('力源里', '朝阳区', 4, Decimal('190.4412')),\n",
       " ('玉兰湾', '通州区', 4, Decimal('190.4444')),\n",
       " ('呼家楼新街大院', '朝阳区', 4, Decimal('270.6667')),\n",
       " ('燕归宁馨园', '朝阳区', 4, Decimal('177.9592')),\n",
       " ('通典铭居', '通州区', 4, Decimal('177.8000')),\n",
       " ('园景西区', '通州区', 4, Decimal('181.3043')),\n",
       " ('国美第一城西区', '朝阳区', 4, Decimal('138.5507')),\n",
       " ('康营小区C区', '朝阳区', 4, Decimal('183.1915')),\n",
       " ('金隅万科城', '昌平区', 4, Decimal('178.0952')),\n",
       " ('蓝星花园', '顺义区', 4, Decimal('191.7021')),\n",
       " ('听涛雅苑', '大兴区', 4, Decimal('104.5455')),\n",
       " ('湖光壹号', '朝阳区', 4, Decimal('325.1220')),\n",
       " ('远洋山水', '石景山区', 4, Decimal('152.9032')),\n",
       " ('京科苑', '昌平区', 4, Decimal('143.4043')),\n",
       " ('三环新城7号院', '丰台区', 4, Decimal('220.4082')),\n",
       " ('东兴二区', '顺义区', 4, Decimal('169.7674')),\n",
       " ('南小园', '通州区', 4, Decimal('125.2727')),\n",
       " ('中海城风情苑', '朝阳区', 4, Decimal('220.1923')),\n",
       " ('广渠门外南街', '东城区', 4, Decimal('224.6939')),\n",
       " ('东晶国际', '大兴区', 4, Decimal('164.9206')),\n",
       " ('都会华庭', '朝阳区', 4, Decimal('216.3333')),\n",
       " ('中信新城东区', '大兴区', 4, Decimal('192.7083')),\n",
       " ('泰福苑一区', '朝阳区', 4, Decimal('215.9184')),\n",
       " ('欣桥家园', '通州区', 4, Decimal('154.5455')),\n",
       " ('西山奥园', '石景山区', 4, Decimal('234.5946')),\n",
       " ('燕保祈东家园一期', '朝阳区', 4, Decimal('229.4444')),\n",
       " ('永泰东里', '海淀区', 4, Decimal('175.4321')),\n",
       " ('名流花园', '昌平区', 4, Decimal('131.7857')),\n",
       " ('新城嘉园（通州）', '通州区', 4, Decimal('220.0000')),\n",
       " ('赵山', '石景山区', 4, Decimal('191.1628')),\n",
       " ('运河明珠家园', '通州区', 4, Decimal('98.9796')),\n",
       " ('风度柏林', '朝阳区', 4, Decimal('137.2527')),\n",
       " ('国美第一城3号院', '朝阳区', 4, Decimal('103.8931')),\n",
       " ('京贸国际城西区', '通州区', 4, Decimal('136.7241')),\n",
       " ('格兰晴天', '通州区', 4, Decimal('166.1364')),\n",
       " ('北京新天地', '朝阳区', 4, Decimal('215.8696')),\n",
       " ('丰体时代花园', '丰台区', 4, Decimal('204.9020')),\n",
       " ('金隅景和园(朝新嘉园东里7区)', '朝阳区', 4, Decimal('195.4545')),\n",
       " ('龙冠冠华苑一区', '昌平区', 4, Decimal('185.8333')),\n",
       " ('盛鑫嘉园', '丰台区', 4, Decimal('189.3421')),\n",
       " ('四方景园一区', '丰台区', 4, Decimal('119.2188')),\n",
       " ('德茂小区', '大兴区', 4, Decimal('183.2500')),\n",
       " ('双兴北区', '顺义区', 4, Decimal('132.9545')),\n",
       " ('翠屏北里西区', '通州区', 4, Decimal('173.8983')),\n",
       " ('福盈家园3号院', '朝阳区', 4, Decimal('243.9024')),\n",
       " ('北杨洼小区', '通州区', 4, Decimal('156.8627')),\n",
       " ('新安里', '大兴区', 4, Decimal('178.7179')),\n",
       " ('右安门内西街甲10号院', '西城区', 4, Decimal('220.1961')),\n",
       " ('清秀园南区', '昌平区', 4, Decimal('138.4314')),\n",
       " ('花涧溪', '通州区', 4, Decimal('79.6183')),\n",
       " ('柳岸景园', '通州区', 4, Decimal('113.8043')),\n",
       " ('金隅通和园', '通州区', 4, Decimal('157.6190')),\n",
       " ('劲松七区', '朝阳区', 4, Decimal('228.6792')),\n",
       " ('依翠园', '石景山区', 4, Decimal('163.1429')),\n",
       " ('清上园', '海淀区', 4, Decimal('127.5540')),\n",
       " ('乔庄西区', '通州区', 4, Decimal('147.2000')),\n",
       " ('枣园小区', '大兴区', 4, Decimal('176.2000')),\n",
       " ('富华家园', '朝阳区', 4, Decimal('234.2000')),\n",
       " ('龙乡中区', '昌平区', 4, Decimal('210.1923')),\n",
       " ('富丰园小区', '丰台区', 4, Decimal('240.2222')),\n",
       " ('世安家园', '朝阳区', 4, Decimal('250.7843')),\n",
       " ('林校北里', '大兴区', 4, Decimal('156.9388')),\n",
       " ('南三环中路15号院', '丰台区', 4, Decimal('206.5517')),\n",
       " ('郑王坟141号院', '丰台区', 4, Decimal('223.8462')),\n",
       " ('天堂河', '大兴区', 4, Decimal('187.4286')),\n",
       " ('北苑家园望春园', '朝阳区', 4, Decimal('245.1852')),\n",
       " ('融泽嘉园12号院', '海淀区', 4, Decimal('246.7308')),\n",
       " ('光熙门北里', '朝阳区', 4, Decimal('256.9231')),\n",
       " ('农光南里', '朝阳区', 4, Decimal('176.2651')),\n",
       " ('龙泽苑西区', '昌平区', 4, Decimal('279.7619')),\n",
       " ('葛布店北里', '通州区', 4, Decimal('155.9677')),\n",
       " ('次渠家园东里6区', '通州区', 4, Decimal('178.7500')),\n",
       " ('领行国际', '东城区', 4, Decimal('120.2542')),\n",
       " ('高四回迁楼', '房山区', 4, Decimal('140.9091')),\n",
       " ('万年花城二期', '丰台区', 4, Decimal('197.8873')),\n",
       " ('驼房营南里', '朝阳区', 4, Decimal('271.6667')),\n",
       " ('金隅花石匠', '通州区', 4, Decimal('136.5625')),\n",
       " ('南极星', '丰台区', 4, Decimal('237.1429')),\n",
       " ('焦各庄街2号院', '顺义区', 4, Decimal('138.8136')),\n",
       " ('东恒时代一期', '朝阳区', 4, Decimal('234.3939')),\n",
       " ('北大地三里', '丰台区', 4, Decimal('178.6207')),\n",
       " ('定福庄北里2号院', '朝阳区', 4, Decimal('179.5000')),\n",
       " ('通广嘉园', '通州区', 4, Decimal('181.6667')),\n",
       " ('兴涛社区', '大兴区', 4, Decimal('164.4068')),\n",
       " ('南海家园三里', '大兴区', 4, Decimal('240.5556')),\n",
       " ('双兴东区', '顺义区', 4, Decimal('165.8974')),\n",
       " ('嘉铭园B区', '朝阳区', 4, Decimal('249.2000')),\n",
       " ('燕化星城建德四里', '房山区', 4, Decimal('105.5814')),\n",
       " ('绿地新都会', '房山区', 4, Decimal('157.2222')),\n",
       " ('金蝉南里', '朝阳区', 4, Decimal('119.4815')),\n",
       " ('团结湖北二条', '朝阳区', 4, Decimal('267.8846')),\n",
       " ('金隅悦和园', '朝阳区', 4, Decimal('233.1429')),\n",
       " ('裕龙西区', '顺义区', 4, Decimal('127.0690')),\n",
       " ('西罗园三区', '丰台区', 4, Decimal('254.3902')),\n",
       " ('瑞都国际', '通州区', 4, Decimal('178.4314')),\n",
       " ('永乐西区', '石景山区', 4, Decimal('181.3115')),\n",
       " ('双桥东路6号院', '朝阳区', 4, Decimal('224.8837')),\n",
       " ('建材城东一里', '昌平区', 4, Decimal('224.5455')),\n",
       " ('姚家园西里1号院', '朝阳区', 4, Decimal('132.6316')),\n",
       " ('怡乐园二区', '通州区', 4, Decimal('100.3306')),\n",
       " ('绿城百合公寓栖霞苑', '房山区', 4, Decimal('96.7241')),\n",
       " ('望京西园二区', '朝阳区', 4, Decimal('279.5652')),\n",
       " ('公园里', '昌平区', 4, Decimal('192.3214')),\n",
       " ('融泽嘉园新2号院', '昌平区', 4, Decimal('244.0000')),\n",
       " ('蓝山国际公寓', '通州区', 4, Decimal('145.3226')),\n",
       " ('五福家园', '昌平区', 4, Decimal('139.8276')),\n",
       " ('嘉园一里', '丰台区', 4, Decimal('232.2000')),\n",
       " ('康营小区29区', '朝阳区', 4, Decimal('192.2000')),\n",
       " ('路劲世界城二期', '昌平区', 4, Decimal('184.6341')),\n",
       " ('阿尔法社区', '通州区', 4, Decimal('185.0000')),\n",
       " ('花家地南里', '朝阳区', 4, Decimal('354.6875')),\n",
       " ('洋桥北里', '丰台区', 4, Decimal('205.5172')),\n",
       " ('金域华府', '昌平区', 4, Decimal('248.4000')),\n",
       " ('福怡苑', '朝阳区', 4, Decimal('222.6829')),\n",
       " ('垡头翠城馨园北区', '朝阳区', 4, Decimal('209.3182')),\n",
       " ('珠江丽景家园', '通州区', 4, Decimal('183.1579')),\n",
       " ('双会小区', '朝阳区', 4, Decimal('147.5610')),\n",
       " ('幸福东区', '顺义区', 4, Decimal('135.1724')),\n",
       " ('石坊院', '昌平区', 4, Decimal('132.5758')),\n",
       " ('龙兴园北区', '昌平区', 4, Decimal('202.7660')),\n",
       " ('北苑55号院', '通州区', 4, Decimal('129.8611')),\n",
       " ('泰河园三里', '大兴区', 4, Decimal('150.0000')),\n",
       " ('西山甲一号', '丰台区', 4, Decimal('202.8205')),\n",
       " ('首开国风美唐三期', '昌平区', 4, Decimal('264.1463')),\n",
       " ('苹果园小区一区', '石景山区', 4, Decimal('191.0909')),\n",
       " ('张营小区', '昌平区', 4, Decimal('143.8182')),\n",
       " ('方恒东景', '通州区', 4, Decimal('214.1176')),\n",
       " ('10AM新坐标', '丰台区', 4, Decimal('134.8592')),\n",
       " ('北苑家园清友园', '朝阳区', 4, Decimal('203.7097')),\n",
       " ('城南嘉园益城园', '丰台区', 4, Decimal('208.3333')),\n",
       " ('兴盛锦苑', '大兴区', 4, Decimal('171.8182')),\n",
       " ('管庄西里', '朝阳区', 4, Decimal('176.3793')),\n",
       " ('马南里', '朝阳区', 4, Decimal('213.5088')),\n",
       " ('杨庄北区', '石景山区', 4, Decimal('183.5593')),\n",
       " ('刘家窑东里', '丰台区', 4, Decimal('221.9643')),\n",
       " ('绿景苑', '东城区', 3, Decimal('142.7642')),\n",
       " ('南三环东路', '丰台区', 3, Decimal('250.2857')),\n",
       " ('都市经典家园', '朝阳区', 3, Decimal('213.5897')),\n",
       " ('龙湖蔚澜香醍', '通州区', 3, Decimal('133.6957')),\n",
       " ('住欣家园', '朝阳区', 3, Decimal('144.3284')),\n",
       " ('美丽亚洲假日花园', '朝阳区', 3, Decimal('169.6078')),\n",
       " ('百环家园', '朝阳区', 3, Decimal('114.1040')),\n",
       " ('优点社区', '朝阳区', 3, Decimal('185.0000')),\n",
       " ('宏盛家园', '大兴区', 3, Decimal('175.9091')),\n",
       " ('胜利小区', '顺义区', 3, Decimal('178.9286')),\n",
       " ('三星庄园', '丰台区', 3, Decimal('184.8214')),\n",
       " ('华龙美晟', '东城区', 3, Decimal('159.8507')),\n",
       " ('双河南里', '大兴区', 3, Decimal('170.3030')),\n",
       " ('荟康苑', '朝阳区', 3, Decimal('152.1212')),\n",
       " ('翠屏北里东区', '通州区', 3, Decimal('115.9615')),\n",
       " ('京贸国际城东区', '通州区', 3, Decimal('182.0690')),\n",
       " ('星岛假日', '大兴区', 3, Decimal('181.6667')),\n",
       " ('康家园', '朝阳区', 3, Decimal('219.7297')),\n",
       " ('南海家园二里', '大兴区', 3, Decimal('96.5909')),\n",
       " ('天通苑东三区', '昌平区', 3, Decimal('124.4828')),\n",
       " ('方泽园', '丰台区', 3, Decimal('282.0000')),\n",
       " ('恒大名都', '朝阳区', 3, Decimal('105.8084')),\n",
       " ('康营小区17区', '朝阳区', 3, Decimal('179.7436')),\n",
       " ('龙锦苑东五区', '昌平区', 3, Decimal('210.0000')),\n",
       " ('首经贸中街1号院', '丰台区', 3, Decimal('221.7647')),\n",
       " ('园景东区', '通州区', 3, Decimal('123.5294')),\n",
       " ('领秀慧谷C区', '昌平区', 3, Decimal('144.1791')),\n",
       " ('BOBO自由城', '通州区', 3, Decimal('136.9388')),\n",
       " ('农光东里', '朝阳区', 3, Decimal('223.0769')),\n",
       " ('朝阳无限芳菁苑', '朝阳区', 3, Decimal('147.2619')),\n",
       " ('保利首开熙悦春天', '大兴区', 3, Decimal('210.3571')),\n",
       " ('武夷花园牡丹园', '通州区', 3, Decimal('181.2000')),\n",
       " ('静心苑', '昌平区', 3, Decimal('99.8276')),\n",
       " ('八角北路', '石景山区', 3, Decimal('155.2000')),\n",
       " ('艺苑西街7号院', '通州区', 3, Decimal('154.2857')),\n",
       " ('荔景园', '通州区', 3, Decimal('94.4681')),\n",
       " ('金福家园', '朝阳区', 3, Decimal('212.1212')),\n",
       " ('万润风景', '丰台区', 3, Decimal('131.3580')),\n",
       " ('百荣嘉园', '东城区', 3, Decimal('292.9167')),\n",
       " ('鸿博家园一期B区', '朝阳区', 3, Decimal('194.7059')),\n",
       " ('旧宫新苑南区', '大兴区', 3, Decimal('198.4848')),\n",
       " ('华兴园', '通州区', 3, Decimal('155.5319')),\n",
       " ('郭公庄幸福家园', '丰台区', 3, Decimal('147.6190')),\n",
       " ('曙光里', '朝阳区', 3, Decimal('196.1290')),\n",
       " ('8哩岛', '通州区', 3, Decimal('155.7500')),\n",
       " ('永顺南里2号院', '通州区', 3, Decimal('144.3243')),\n",
       " ('幸福艺居', '通州区', 3, Decimal('146.5854')),\n",
       " ('金星小区', '朝阳区', 3, Decimal('215.4054')),\n",
       " ('古城特钢楼', '石景山区', 3, Decimal('170.6818')),\n",
       " ('永金里小区', '海淀区', 3, Decimal('360.4762')),\n",
       " ('溪城家园一号院', '朝阳区', 3, Decimal('236.2069')),\n",
       " ('枫竹苑二区', '丰台区', 3, Decimal('209.0000')),\n",
       " ('政馨园一区', '丰台区', 3, Decimal('99.8817')),\n",
       " ('保利春天里一区', '大兴区', 3, Decimal('196.0000')),\n",
       " ('星河苑2号院', '丰台区', 3, Decimal('226.6667')),\n",
       " ('怡然家园5号院', '丰台区', 3, Decimal('185.7447')),\n",
       " ('十里堡东里', '朝阳区', 3, Decimal('214.3478')),\n",
       " ('古城北路', '石景山区', 3, Decimal('222.9412')),\n",
       " ('亦庄北岸', '大兴区', 3, Decimal('92.0290')),\n",
       " ('农展南里', '朝阳区', 3, Decimal('182.2500')),\n",
       " ('天通苑北二区', '昌平区', 3, Decimal('167.9630')),\n",
       " ('百合湾', '通州区', 3, Decimal('153.5135')),\n",
       " ('甘露园南里一区', '朝阳区', 3, Decimal('224.6341')),\n",
       " ('新龙城', '昌平区', 3, Decimal('172.6154')),\n",
       " ('公园悦府', '昌平区', 3, Decimal('258.0645')),\n",
       " ('西马金润家园', '丰台区', 3, Decimal('246.2069')),\n",
       " ('丰开苑', '丰台区', 3, Decimal('250.8571')),\n",
       " ('国惠村1期', '昌平区', 3, Decimal('171.3793')),\n",
       " ('朝阳旺角', '朝阳区', 3, Decimal('183.8889')),\n",
       " ('世纪东方嘉园北区', '朝阳区', 3, Decimal('225.5556')),\n",
       " ('四方景园四区', '丰台区', 3, Decimal('131.9512')),\n",
       " ('惠新西街小区', '朝阳区', 3, Decimal('344.5833')),\n",
       " ('星河苑1号院', '丰台区', 3, Decimal('254.6667')),\n",
       " ('龙兴园南区', '海淀区', 3, Decimal('234.0000')),\n",
       " ('怡馨家园', '顺义区', 3, Decimal('93.8028')),\n",
       " ('农光南路', '朝阳区', 3, Decimal('319.2000')),\n",
       " ('今日家园', '海淀区', 3, Decimal('289.5349')),\n",
       " ('华源一里', '丰台区', 3, Decimal('202.9545')),\n",
       " ('华英园（顺义）', '顺义区', 3, Decimal('174.0000')),\n",
       " ('鸿坤理想城八期', '大兴区', 3, Decimal('129.4118')),\n",
       " ('八角南里', '石景山区', 3, Decimal('175.1163')),\n",
       " ('翠林二里', '丰台区', 3, Decimal('192.2222')),\n",
       " ('蓝天园', '昌平区', 3, Decimal('180.9091')),\n",
       " ('周井大院', '朝阳区', 3, Decimal('139.7222')),\n",
       " ('领秀慧谷D区', '昌平区', 3, Decimal('204.5238')),\n",
       " ('八里庄东里', '朝阳区', 3, Decimal('304.0000')),\n",
       " ('玺萌丽苑', '丰台区', 3, Decimal('194.3103')),\n",
       " ('建木小区', '东城区', 3, Decimal('252.7586')),\n",
       " ('新华联家园北区', '通州区', 3, Decimal('182.3684')),\n",
       " ('常营民族家园J区', '朝阳区', 3, Decimal('175.6818')),\n",
       " ('双花园南里', '东城区', 3, Decimal('115.8667')),\n",
       " ('石榴园北里', '丰台区', 3, Decimal('140.1408')),\n",
       " ('南新园', '朝阳区', 3, Decimal('181.2903')),\n",
       " ('金隅七零九零', '通州区', 3, Decimal('120.0000')),\n",
       " ('芳城园二区', '丰台区', 3, Decimal('274.4444')),\n",
       " ('城市经典', '丰台区', 3, Decimal('223.0303')),\n",
       " ('丽泽雅园', '丰台区', 3, Decimal('167.7966')),\n",
       " ('瑞祥里小区', '朝阳区', 3, Decimal('203.1034')),\n",
       " ('保温段住宅小区', '丰台区', 3, Decimal('138.3871')),\n",
       " ('嘉多丽园', '朝阳区', 3, Decimal('92.6778')),\n",
       " ('雅成一里', '朝阳区', 3, Decimal('159.4643')),\n",
       " ('滨河东里', '大兴区', 3, Decimal('151.7073')),\n",
       " ('碧波园', '房山区', 3, Decimal('141.6129')),\n",
       " ('常秀家园', '海淀区', 3, Decimal('250.9375')),\n",
       " ('次渠家园东里2区', '通州区', 3, Decimal('196.2500')),\n",
       " ('定慧福里', '海淀区', 3, Decimal('318.4615')),\n",
       " ('嘉润花园', '朝阳区', 3, Decimal('266.2791')),\n",
       " ('静安里', '朝阳区', 3, Decimal('322.4242')),\n",
       " ('晟世嘉园', '通州区', 3, Decimal('119.0741')),\n",
       " ('天赐良园东三期', '通州区', 3, Decimal('205.2941')),\n",
       " ('龙博苑三区', '海淀区', 3, Decimal('124.7000')),\n",
       " ('育龙家园', '大兴区', 3, Decimal('154.4681')),\n",
       " ('金隅美和园', '海淀区', 3, Decimal('354.4000')),\n",
       " ('石园南区', '顺义区', 3, Decimal('113.1667')),\n",
       " ('星城北里', '房山区', 3, Decimal('109.3750')),\n",
       " ('太平家园', '昌平区', 3, Decimal('199.2308')),\n",
       " ('车站北里', '大兴区', 3, Decimal('176.2500')),\n",
       " ('海棠湾一期', '通州区', 3, Decimal('139.0698')),\n",
       " ('电子城小区', '朝阳区', 3, Decimal('206.3043')),\n",
       " ('敬园小区', '通州区', 3, Decimal('157.2973')),\n",
       " ('宜兰园二区', '丰台区', 3, Decimal('170.9524')),\n",
       " ('沁春家园', '海淀区', 3, Decimal('86.6489')),\n",
       " ('康营小区B区', '朝阳区', 3, Decimal('197.4286')),\n",
       " ('葵花社', '通州区', 3, Decimal('214.6667')),\n",
       " ('新源街', '朝阳区', 3, Decimal('368.2143')),\n",
       " ('乔庄北区', '通州区', 3, Decimal('154.8718')),\n",
       " ('双河南里尚城', '大兴区', 3, Decimal('196.2963')),\n",
       " ('大红门锦苑A区', '丰台区', 3, Decimal('198.6667')),\n",
       " ('香溪家园', '通州区', 3, Decimal('150.7692')),\n",
       " ('东大桥路', '朝阳区', 3, Decimal('344.8276')),\n",
       " ('南线里小区', '西城区', 3, Decimal('282.8125')),\n",
       " ('马公庄', '丰台区', 3, Decimal('220.5405')),\n",
       " ('泰禾西府玉苑', '丰台区', 3, Decimal('302.1429')),\n",
       " ('潞河中学北街', '通州区', 3, Decimal('178.1250')),\n",
       " ('恋日绿岛', '朝阳区', 3, Decimal('175.3846')),\n",
       " ('名佳花园一区', '昌平区', 3, Decimal('86.8182')),\n",
       " ('紫芳园四区', '丰台区', 3, Decimal('172.1429')),\n",
       " ('新华西街131号院', '通州区', 3, Decimal('163.4884')),\n",
       " ('紫南家园（北区）', '朝阳区', 3, Decimal('77.2072')),\n",
       " ('向军南里', '朝阳区', 3, Decimal('326.6667')),\n",
       " ('北京城建国誉府', '房山区', 3, Decimal('157.8261')),\n",
       " ('马家堡路8号院', '丰台区', 3, Decimal('235.0000')),\n",
       " ('芳古园一区', '丰台区', 3, Decimal('217.8431')),\n",
       " ('慧忠里', '朝阳区', 3, Decimal('204.0678')),\n",
       " ('长安家园', '石景山区', 3, Decimal('200.0000')),\n",
       " ('公园懿府', '丰台区', 3, Decimal('204.4444')),\n",
       " ('南海雅苑北区', '大兴区', 3, Decimal('278.6364')),\n",
       " ('小康家园', '大兴区', 3, Decimal('159.5122')),\n",
       " ('立水桥甲2号地质大院', '朝阳区', 3, Decimal('176.9231')),\n",
       " ('官悦欣园B区', '朝阳区', 3, Decimal('141.4815')),\n",
       " ('佳运园一期', '朝阳区', 3, Decimal('198.6047')),\n",
       " ('融泽嘉园2号院', '昌平区', 3, Decimal('224.2857')),\n",
       " ('三间房西里', '朝阳区', 3, Decimal('263.7037')),\n",
       " ('静馨嘉苑', '朝阳区', 3, Decimal('140.9211')),\n",
       " ('怡海花园恒丰园', '丰台区', 3, Decimal('199.5000')),\n",
       " ('前进花园玉兰苑', '顺义区', 3, Decimal('151.8919')),\n",
       " ('东安街头条', '丰台区', 3, Decimal('179.4737')),\n",
       " ('上奥世纪', '海淀区', 3, Decimal('175.8182')),\n",
       " ('龙冠冠华苑四区', '昌平区', 3, Decimal('228.4000')),\n",
       " ('万柳西园', '丰台区', 3, Decimal('198.2500')),\n",
       " ('新华东街', '通州区', 3, Decimal('181.6667')),\n",
       " ('和平街西苑', '朝阳区', 3, Decimal('272.7778')),\n",
       " ('三环新城8号院', '丰台区', 3, Decimal('229.7297')),\n",
       " ('彩虹嘉园', '丰台区', 3, Decimal('249.2308')),\n",
       " ('宜兰园三区', '丰台区', 3, Decimal('170.9091')),\n",
       " ('旗胜家园', '昌平区', 3, Decimal('248.7879')),\n",
       " ('海棠湾二期', '通州区', 3, Decimal('154.7500')),\n",
       " ('原香小镇二区', '房山区', 3, Decimal('110.7143')),\n",
       " ('龙乡东区', '海淀区', 3, Decimal('233.6364')),\n",
       " ('芍药居北里', '朝阳区', 3, Decimal('171.9178')),\n",
       " ('海户西里', '丰台区', 3, Decimal('208.3333')),\n",
       " ('建欣苑四里', '丰台区', 3, Decimal('116.5934')),\n",
       " ('玉带河西街', '通州区', 3, Decimal('141.8182')),\n",
       " ('中国铁建通瑞嘉苑', '通州区', 3, Decimal('170.6250')),\n",
       " ('溪城家园二号院', '朝阳区', 3, Decimal('235.0000')),\n",
       " ('三合南里社区（大兴）', '大兴区', 3, Decimal('162.1622')),\n",
       " ('绣江南', '通州区', 3, Decimal('135.3488')),\n",
       " ('六合园', '石景山区', 3, Decimal('240.9677')),\n",
       " ('博客园', '通州区', 3, Decimal('91.4286')),\n",
       " ('后沙峪新村', '顺义区', 3, Decimal('182.6667')),\n",
       " ('恒富中街7号院', '丰台区', 3, Decimal('172.3404')),\n",
       " ('云景里小区', '通州区', 3, Decimal('90.5682')),\n",
       " ('花园闸北里', '朝阳区', 3, Decimal('181.4894')),\n",
       " ('华龙苑中里', '昌平区', 3, Decimal('226.5714')),\n",
       " ('云趣园一区', '昌平区', 3, Decimal('201.7073')),\n",
       " ('城南嘉园益嘉园', '丰台区', 3, Decimal('210.2632')),\n",
       " ('龙锦苑东二区', '昌平区', 3, Decimal('92.1138')),\n",
       " ('玉林东里三区', '丰台区', 3, Decimal('282.5926')),\n",
       " ('红木林', '大兴区', 3, Decimal('135.3448')),\n",
       " ('一栋苑', '丰台区', 3, Decimal('176.0784')),\n",
       " ('金色漫香林五期', '通州区', 3, Decimal('143.4043')),\n",
       " ('北大地四里', '丰台区', 3, Decimal('174.8889')),\n",
       " ('昌平永安里', '昌平区', 3, Decimal('121.7647')),\n",
       " ('世纪嘉园', '朝阳区', 3, Decimal('276.1538')),\n",
       " ('上林溪', '海淀区', 3, Decimal('255.0000')),\n",
       " ('东木樨园小区', '丰台区', 3, Decimal('159.7917')),\n",
       " ('义和庄北里', '大兴区', 3, Decimal('180.9677')),\n",
       " ('永泰园', '海淀区', 3, Decimal('255.0000')),\n",
       " ('模式口南里', '石景山区', 3, Decimal('151.3462')),\n",
       " ('望京花园西区', '朝阳区', 3, Decimal('347.4074')),\n",
       " ('前进花园牡丹苑', '顺义区', 3, Decimal('175.2941')),\n",
       " ('惠润嘉园', '门头沟区', 3, Decimal('155.6757')),\n",
       " ('复兴路32号院', '海淀区', 3, Decimal('222.1429')),\n",
       " ('北郊农场宿舍', '昌平区', 3, Decimal('190.0000')),\n",
       " ('世嘉博苑', '大兴区', 3, Decimal('201.1111')),\n",
       " ('新龙城二期', '昌平区', 3, Decimal('263.6842')),\n",
       " ('康营小区5区', '朝阳区', 3, Decimal('178.2500')),\n",
       " ('西富河园', '通州区', 3, Decimal('107.3196')),\n",
       " ('四方景园五区', '丰台区', 3, Decimal('204.1463')),\n",
       " ('仁和花园二区', '顺义区', 3, Decimal('126.2500')),\n",
       " ('彩虹城四区', '丰台区', 3, Decimal('257.0000')),\n",
       " ('次渠家园东里1区', '通州区', 3, Decimal('204.1935')),\n",
       " ('顺驰领海', '大兴区', 3, Decimal('158.1250')),\n",
       " ('星瑞家园', '大兴区', 3, Decimal('131.6667')),\n",
       " ('南曦大厦', '丰台区', 3, Decimal('198.9130')),\n",
       " ('西罗园四区', '东城区', 3, Decimal('187.1429')),\n",
       " ('龙湖时代天街', '大兴区', 3, Decimal('184.5946')),\n",
       " ('仁和花园一区', '顺义区', 3, Decimal('123.5135')),\n",
       " ('宏大中园', '大兴区', 3, Decimal('144.5283')),\n",
       " ('公园悦府二期', '昌平区', 3, Decimal('201.0417')),\n",
       " ('定慧东里', '海淀区', 3, Decimal('283.4375')),\n",
       " ('天宝家园', '大兴区', 3, Decimal('176.9231')),\n",
       " ('远洋自然', '丰台区', 3, Decimal('198.6957')),\n",
       " ('润枫领尚', '通州区', 3, Decimal('138.2979')),\n",
       " ('次渠锦园南区', '通州区', 3, Decimal('233.6000')),\n",
       " ('道家园', '朝阳区', 3, Decimal('173.7500')),\n",
       " ('裕和嘉园', '海淀区', 3, Decimal('316.5517')),\n",
       " ('九龙家园南区', '大兴区', 3, Decimal('157.7500')),\n",
       " ('惠康嘉园二区', '门头沟区', 3, Decimal('144.1667')),\n",
       " ('立城苑', '朝阳区', 3, Decimal('208.7805')),\n",
       " ('中国铁建青秀尚城', '昌平区', 3, Decimal('209.2857')),\n",
       " ('泰华龙旗广场', '海淀区', 3, Decimal('246.6667')),\n",
       " ('垡头西里', '朝阳区', 3, Decimal('141.3514')),\n",
       " ('东一时区', '朝阳区', 3, Decimal('203.0303')),\n",
       " ('冠城名敦道', '东城区', 3, Decimal('115.5789')),\n",
       " ('大方家胡同', '朝阳区', 2, Decimal('252.2222')),\n",
       " ('朝内小区', '朝阳区', 2, Decimal('346.3158')),\n",
       " ('私摩空间', '海淀区', 2, Decimal('163.1325')),\n",
       " ('首座绿洲', '丰台区', 2, Decimal('254.2105')),\n",
       " ('太平桥东里', '西城区', 2, Decimal('245.2000')),\n",
       " ('慈云寺', '朝阳区', 2, Decimal('127.9747')),\n",
       " ('八角中里', '石景山区', 2, Decimal('211.7391')),\n",
       " ('京艺天朗嘉园', '通州区', 2, Decimal('72.8431')),\n",
       " ('玉海园一里', '海淀区', 2, Decimal('251.7391')),\n",
       " ('中仓小区', '通州区', 2, Decimal('194.4444')),\n",
       " ('杨闸新村', '朝阳区', 2, Decimal('99.2647')),\n",
       " ('北机家属院', '通州区', 2, Decimal('165.6522')),\n",
       " ('达富苑', '通州区', 2, Decimal('158.8462')),\n",
       " ('西总屯', '通州区', 2, Decimal('72.7500')),\n",
       " ('金隅凤麟洲', '朝阳区', 2, Decimal('200.8824')),\n",
       " ('易构空间', '朝阳区', 2, Decimal('156.5000')),\n",
       " ('世界之花', '丰台区', 2, Decimal('117.0588')),\n",
       " ('新华西街55号院', '通州区', 2, Decimal('160.3448')),\n",
       " ('西坝河中里', '朝阳区', 2, Decimal('260.4000')),\n",
       " ('重聚园', '石景山区', 2, Decimal('200.4545')),\n",
       " ('乔建里', '海淀区', 2, Decimal('140.0000')),\n",
       " ('石佛营东里', '朝阳区', 2, Decimal('238.0952')),\n",
       " ('燕化星城健德一里', '房山区', 2, Decimal('97.3913')),\n",
       " ('鑫苑鑫都汇', '大兴区', 2, Decimal('223.5294')),\n",
       " ('翠林一里', '丰台区', 2, Decimal('296.4706')),\n",
       " ('天泰苑A8区', '朝阳区', 2, Decimal('221.6667')),\n",
       " ('天泰新景家园', '房山区', 2, Decimal('106.2069')),\n",
       " ('帅府园', '通州区', 2, Decimal('197.0588')),\n",
       " ('站前巴黎', '通州区', 2, Decimal('62.7885')),\n",
       " ('莱茵河畔', '大兴区', 2, Decimal('146.6667')),\n",
       " ('东王庄', '海淀区', 2, Decimal('388.3333')),\n",
       " ('金榜园', '昌平区', 2, Decimal('99.2857')),\n",
       " ('朱辛庄北区', '昌平区', 2, Decimal('209.5455')),\n",
       " ('久敬佳园二区', '丰台区', 2, Decimal('194.5000')),\n",
       " ('芳星园二区', '丰台区', 2, Decimal('285.8824')),\n",
       " ('南海家园七里', '大兴区', 2, Decimal('208.4211')),\n",
       " ('翌景嘉园', '朝阳区', 2, Decimal('236.2963')),\n",
       " ('倘徉嘉园', '房山区', 2, Decimal('173.3333')),\n",
       " ('七星园', '石景山区', 2, Decimal('200.3846')),\n",
       " ('罗庄西里', '海淀区', 2, Decimal('354.0000')),\n",
       " ('馨通家园', '通州区', 2, Decimal('187.8947')),\n",
       " ('天通苑四区', '昌平区', 2, Decimal('172.1429')),\n",
       " ('双井东院', '朝阳区', 2, Decimal('187.1429')),\n",
       " ('南环里', '昌平区', 2, Decimal('125.3571')),\n",
       " ('何营路小区', '昌平区', 2, Decimal('157.9167')),\n",
       " ('北京外运三间房家属院', '朝阳区', 2, Decimal('173.7037')),\n",
       " ('建东苑', '朝阳区', 2, Decimal('168.8462')),\n",
       " ('DBC加州小镇', '通州区', 2, Decimal('118.3784')),\n",
       " ('紫芳园六区', '丰台区', 2, Decimal('208.3333')),\n",
       " ('劲松三区', '朝阳区', 2, Decimal('127.8667')),\n",
       " ('西辛北区', '顺义区', 2, Decimal('162.0000')),\n",
       " ('宣颐家园', '大兴区', 2, Decimal('171.5385')),\n",
       " ('慧忠北里', '朝阳区', 2, Decimal('265.2000')),\n",
       " ('广渠门外大街6号院', '朝阳区', 2, Decimal('228.3333')),\n",
       " ('海清园', '海淀区', 2, Decimal('231.1111')),\n",
       " ('DBC加州小镇C区', '通州区', 2, Decimal('130.8824')),\n",
       " ('龙跃苑三区', '昌平区', 2, Decimal('168.0645')),\n",
       " ('立恒名苑', '西城区', 2, Decimal('118.0682')),\n",
       " ('城华园', '海淀区', 2, Decimal('137.2222')),\n",
       " ('新华街二里', '丰台区', 2, Decimal('212.1739')),\n",
       " ('西引力', '石景山区', 2, Decimal('136.8421')),\n",
       " ('金港国际', '朝阳区', 2, Decimal('139.0000')),\n",
       " ('鸭子桥路', '西城区', 2, Decimal('180.0000')),\n",
       " ('天鹅湾', '朝阳区', 2, Decimal('153.1746')),\n",
       " ('珠江国际城八区', '通州区', 2, Decimal('140.9524')),\n",
       " ('鼓楼北街3号院', '昌平区', 2, Decimal('117.0968')),\n",
       " ('半壁店新村', '通州区', 2, Decimal('140.7143')),\n",
       " ('芳群园一区', '丰台区', 2, Decimal('223.2000')),\n",
       " ('永顺南里1号院', '通州区', 2, Decimal('166.5217')),\n",
       " ('五矿铭品', '房山区', 2, Decimal('131.6000')),\n",
       " ('金蝉北里', '朝阳区', 2, Decimal('165.4839')),\n",
       " ('通惠家园惠泽园', '朝阳区', 2, Decimal('227.4074')),\n",
       " ('南湖渠西里', '朝阳区', 2, Decimal('245.9259')),\n",
       " ('京洲园', '通州区', 2, Decimal('133.3333')),\n",
       " ('康营小区32区', '朝阳区', 2, Decimal('185.0000')),\n",
       " ('小红门路65号院', '朝阳区', 2, Decimal('87.1154')),\n",
       " ('西大望路12号院', '朝阳区', 2, Decimal('327.2222')),\n",
       " ('东三环南路', '朝阳区', 2, Decimal('203.5484')),\n",
       " ('福海小区', '丰台区', 2, Decimal('234.3478')),\n",
       " ('裕龙四区', '顺义区', 2, Decimal('170.0000')),\n",
       " ('新华西街15号院', '通州区', 2, Decimal('170.3846')),\n",
       " ('阿曼寓所', '朝阳区', 2, Decimal('218.1481')),\n",
       " ('龙兴园中区', '昌平区', 2, Decimal('235.9091')),\n",
       " ('嘉丽园', '丰台区', 2, Decimal('252.8000')),\n",
       " ('远见名苑', '西城区', 2, Decimal('155.1429')),\n",
       " ('欣葆家园二区', '丰台区', 2, Decimal('211.8182')),\n",
       " ('领秀慧谷A区', '昌平区', 2, Decimal('261.6667')),\n",
       " ('昌盛园一区', '昌平区', 2, Decimal('135.8621')),\n",
       " ('新华联锦园', '通州区', 2, Decimal('188.3333')),\n",
       " ('北苑佳兴园', '朝阳区', 2, Decimal('250.4545')),\n",
       " ('梨园北小区', '通州区', 2, Decimal('86.1972')),\n",
       " ('通惠苑', '通州区', 2, Decimal('121.6667')),\n",
       " ('福生园', '丰台区', 2, Decimal('155.7143')),\n",
       " ('望京西园四区', '朝阳区', 2, Decimal('243.8462')),\n",
       " ('育菲园东里', '丰台区', 2, Decimal('211.6667')),\n",
       " ('中国地质大学家属院', '海淀区', 2, Decimal('348.0952')),\n",
       " ('鑫福里小区', '丰台区', 2, Decimal('108.9333')),\n",
       " ('万象新天二区', '朝阳区', 2, Decimal('175.0000')),\n",
       " ('百子湾路2号楼', '朝阳区', 2, Decimal('201.1111')),\n",
       " ('新仓路27号院', '通州区', 2, Decimal('193.1579')),\n",
       " ('金达园', '昌平区', 2, Decimal('166.1765')),\n",
       " ('劲松二区', '朝阳区', 2, Decimal('232.4000')),\n",
       " ('金源泉', '通州区', 2, Decimal('207.1429')),\n",
       " ('大件厂宿舍', '海淀区', 2, Decimal('254.4000')),\n",
       " ('朝阳嘉园', '朝阳区', 2, Decimal('185.0000')),\n",
       " ('玉林里小区', '丰台区', 2, Decimal('223.3333')),\n",
       " ('大雄城市花园', '大兴区', 2, Decimal('146.7568')),\n",
       " ('名佳花园三区', '昌平区', 2, Decimal('109.4872')),\n",
       " ('怡然家园6号院', '丰台区', 2, Decimal('205.3846')),\n",
       " ('丰泽居一号院', '丰台区', 2, Decimal('237.2222')),\n",
       " ('新源里东', '朝阳区', 2, Decimal('358.1250')),\n",
       " ('南海家园五里', '大兴区', 2, Decimal('225.5000')),\n",
       " ('刘家窑南里', '丰台区', 2, Decimal('202.7586')),\n",
       " ('风雅园一区', '昌平区', 2, Decimal('194.4828')),\n",
       " ('青塔秀园', '海淀区', 2, Decimal('126.2500')),\n",
       " ('乔庄东区', '通州区', 2, Decimal('93.2813')),\n",
       " ('远洋天地三期', '朝阳区', 2, Decimal('217.6471')),\n",
       " ('小营西路23号院', '海淀区', 2, Decimal('231.3333')),\n",
       " ('旗舰凯旋一期', '通州区', 2, Decimal('54.8438')),\n",
       " ('民园小区', '昌平区', 2, Decimal('143.8462')),\n",
       " ('梨园西里', '通州区', 2, Decimal('227.0000')),\n",
       " ('雅馨家园', '昌平区', 2, Decimal('166.0000')),\n",
       " ('牛街18', '西城区', 2, Decimal('185.0000')),\n",
       " ('东南小区', '海淀区', 2, Decimal('388.1818')),\n",
       " ('芳群园四区', '丰台区', 2, Decimal('240.9091')),\n",
       " ('金地中央世家', '顺义区', 2, Decimal('240.0000')),\n",
       " ('惠康嘉园五区', '门头沟区', 2, Decimal('163.0000')),\n",
       " ('国瑞城中区', '东城区', 2, Decimal('427.5000')),\n",
       " ('李庄佳苑', '通州区', 2, Decimal('129.2308')),\n",
       " ('力天嘉苑', '昌平区', 2, Decimal('77.7273')),\n",
       " ('北沙滩4号院', '海淀区', 2, Decimal('134.4444')),\n",
       " ('车公庄西路16号院', '海淀区', 2, Decimal('312.3077')),\n",
       " ('程庄路3号院', '丰台区', 2, Decimal('243.7500')),\n",
       " ('三路居99号院', '丰台区', 2, Decimal('171.2500')),\n",
       " ('光讯花园', '通州区', 2, Decimal('140.0000')),\n",
       " ('华纺易城西区', '朝阳区', 2, Decimal('87.8070')),\n",
       " ('梨园北街191号院', '通州区', 2, Decimal('275.7143')),\n",
       " ('新地国际家园', '通州区', 2, Decimal('196.0000')),\n",
       " ('富丰路8号院', '丰台区', 2, Decimal('288.5714')),\n",
       " ('太平桥小区', '丰台区', 2, Decimal('291.8182')),\n",
       " ('政馨园三区', '丰台区', 2, Decimal('222.3077')),\n",
       " ('乐府江南', '海淀区', 2, Decimal('275.0000')),\n",
       " ('延静西里', '朝阳区', 2, Decimal('209.4737')),\n",
       " ('馨然嘉园三区', '房山区', 2, Decimal('191.2500')),\n",
       " ('久筑物业', '石景山区', 2, Decimal('192.5000')),\n",
       " ('燕尚园', '海淀区', 2, Decimal('348.8889')),\n",
       " ('丽景馨居', '朝阳区', 2, Decimal('244.5455')),\n",
       " ('玉桥东路30号院', '通州区', 2, Decimal('158.0000')),\n",
       " ('玉海园三里', '海淀区', 2, Decimal('173.7500')),\n",
       " ('永定路西里', '海淀区', 2, Decimal('357.5000')),\n",
       " ('燕保祈东家园二期', '朝阳区', 2, Decimal('266.6667')),\n",
       " ('柳岸方园', '通州区', 2, Decimal('170.8333')),\n",
       " ('清欣园甲区', '大兴区', 2, Decimal('209.4444')),\n",
       " ('鹏润家园', '丰台区', 2, Decimal('266.6667')),\n",
       " ('汇丰家园', '丰台区', 2, Decimal('140.4762')),\n",
       " ('清景园', '海淀区', 2, Decimal('253.3333')),\n",
       " ('益丰园', '丰台区', 2, Decimal('185.4545')),\n",
       " ('玉桥中路甲2号院', '通州区', 2, Decimal('211.1111')),\n",
       " ('甜水园街', '朝阳区', 2, Decimal('115.8730')),\n",
       " ('安河家园四里', '海淀区', 2, Decimal('186.9231')),\n",
       " ('中冶蓝城', '房山区', 2, Decimal('94.4444')),\n",
       " ('来北家园', '朝阳区', 2, Decimal('273.0000')),\n",
       " ('领秀新硅谷', '海淀区', 2, Decimal('242.8571')),\n",
       " ('花家地北里', '朝阳区', 2, Decimal('230.5263')),\n",
       " ('龙博苑二区', '昌平区', 2, Decimal('211.6667')),\n",
       " ('新海北里', '通州区', 2, Decimal('244.2857')),\n",
       " ('马家堡西路26号院', '丰台区', 2, Decimal('233.0769')),\n",
       " ('首开华润城', '丰台区', 2, Decimal('246.6667')),\n",
       " ('温泉花园B区', '昌平区', 2, Decimal('112.6667')),\n",
       " ('地震局宿舍', '海淀区', 2, Decimal('242.0000')),\n",
       " ('矩阵小区', '昌平区', 2, Decimal('195.7895')),\n",
       " ('新街口西里三区', '西城区', 2, Decimal('341.0000')),\n",
       " ('京投万科新里程', '房山区', 2, Decimal('129.1667')),\n",
       " ('双高花园小区', '大兴区', 2, Decimal('110.0000')),\n",
       " ('金汉绿港二区', '顺义区', 2, Decimal('135.0000')),\n",
       " ('柳浪家园南里', '海淀区', 2, Decimal('334.4444')),\n",
       " ('玉桥西里70号院', '通州区', 2, Decimal('133.7037')),\n",
       " ('万年花城四期', '丰台区', 2, Decimal('191.6216')),\n",
       " ('安宁佳园', '海淀区', 2, Decimal('246.1538')),\n",
       " ('中海城香克林', '朝阳区', 2, Decimal('213.4483')),\n",
       " ('宝盛里观林园', '海淀区', 2, Decimal('198.1818')),\n",
       " ('燕平家园', '昌平区', 2, Decimal('148.8889')),\n",
       " ('同兴园', '丰台区', 2, Decimal('153.5714')),\n",
       " ('天通苑六区', '昌平区', 2, Decimal('147.6923')),\n",
       " ('安翔南里', '朝阳区', 2, Decimal('225.6250')),\n",
       " ('大红门东后街143号', '丰台区', 2, Decimal('202.5000')),\n",
       " ('国仕汇', '昌平区', 2, Decimal('182.4138')),\n",
       " ('新奥洋房', '东城区', 2, Decimal('149.4643')),\n",
       " ('次渠家园北里2区', '通州区', 2, Decimal('199.0909')),\n",
       " ('玉桥佳园', '通州区', 2, Decimal('193.1579')),\n",
       " ('华龙美树', '朝阳区', 2, Decimal('146.9388')),\n",
       " ('金地朗悦沁园', '房山区', 2, Decimal('133.1818')),\n",
       " ('世纪东方嘉园南区', '朝阳区', 2, Decimal('222.0833')),\n",
       " ('鲁谷村', '石景山区', 2, Decimal('155.1111')),\n",
       " ('海子角南里', '大兴区', 2, Decimal('139.1667')),\n",
       " ('洋桥西里', '丰台区', 2, Decimal('227.7273')),\n",
       " ('流星花园三区', '昌平区', 2, Decimal('203.4615')),\n",
       " ('溪城家园', '朝阳区', 2, Decimal('274.7368')),\n",
       " ('蒲安里', '丰台区', 2, Decimal('216.1538')),\n",
       " ('关东店南街', '朝阳区', 2, Decimal('403.3333')),\n",
       " ('金惠园三里', '大兴区', 2, Decimal('163.8462')),\n",
       " ('云景里北区', '通州区', 2, Decimal('88.6842')),\n",
       " ('晨光小区', '房山区', 2, Decimal('133.1818')),\n",
       " ('三里屯南路', '朝阳区', 2, Decimal('134.3750')),\n",
       " ('海户西里31号院', '丰台区', 2, Decimal('190.3226')),\n",
       " ('西豪逸景家园', '西城区', 2, Decimal('122.5000')),\n",
       " ('海子角西里', '大兴区', 2, Decimal('143.6364')),\n",
       " ('尚家楼48号院', '朝阳区', 2, Decimal('267.3913')),\n",
       " ('首开康乃馨城', '大兴区', 2, Decimal('155.3846')),\n",
       " ('地铁大楼', '石景山区', 2, Decimal('191.2000')),\n",
       " ('大牛坊3期', '海淀区', 2, Decimal('223.8095')),\n",
       " ('义宾北区', '顺义区', 2, Decimal('169.0000')),\n",
       " ('望都新地', '昌平区', 2, Decimal('146.0000')),\n",
       " ('亿城天筑', '丰台区', 2, Decimal('163.6111')),\n",
       " ('亿朋苑三区', '丰台区', 2, Decimal('115.2564')),\n",
       " ('龙禧苑一区', '昌平区', 2, Decimal('134.7619')),\n",
       " ('苇子坑1号院', '朝阳区', 2, Decimal('245.8333')),\n",
       " ('马可汇', '顺义区', 2, Decimal('149.6429')),\n",
       " ('东大街东里', '丰台区', 2, Decimal('277.2222')),\n",
       " ('中上园9号院', '通州区', 2, Decimal('123.2692')),\n",
       " ('北街家园五区', '昌平区', 2, Decimal('156.6667')),\n",
       " ('世华龙樾二里', '海淀区', 2, Decimal('341.2500')),\n",
       " ('北街家园八区', '昌平区', 2, Decimal('129.6774')),\n",
       " ('云趣园三区', '昌平区', 2, Decimal('169.4444')),\n",
       " ('强佑清河新城', '海淀区', 2, Decimal('175.9322')),\n",
       " ('中海金石公馆', '石景山区', 2, Decimal('235.0000')),\n",
       " ('朝通嘉园', '朝阳区', 2, Decimal('72.2549')),\n",
       " ('东辰小区', '朝阳区', 2, Decimal('305.6250')),\n",
       " ('时代国际嘉园', '朝阳区', 2, Decimal('268.2143')),\n",
       " ('石景山杨庄小区', '石景山区', 2, Decimal('196.6667')),\n",
       " ('蓝天嘉园', '昌平区', 2, Decimal('177.7143')),\n",
       " ('翠微路2号院', '海淀区', 2, Decimal('377.0588')),\n",
       " ('金顶阳光', '石景山区', 2, Decimal('174.3333')),\n",
       " ('大山子北里', '朝阳区', 2, Decimal('261.5385')),\n",
       " ('张家场小区', '房山区', 2, Decimal('147.2727')),\n",
       " ('非常生活', '朝阳区', 2, Decimal('139.0909')),\n",
       " ('望京花园东区', '朝阳区', 2, Decimal('277.0833')),\n",
       " ('贵园南里丁区', '大兴区', 2, Decimal('153.9286')),\n",
       " ('海户屯', '丰台区', 2, Decimal('226.0000')),\n",
       " ('天坛东里南区', '东城区', 2, Decimal('303.6842')),\n",
       " ('灵秀山庄', '大兴区', 2, Decimal('195.3846')),\n",
       " ('铭科苑', '海淀区', 2, Decimal('271.3636')),\n",
       " ('兴盛街189号院', '大兴区', 2, Decimal('145.3846')),\n",
       " ('新康园', '海淀区', 2, Decimal('100.9756')),\n",
       " ('上海沙龙', '大兴区', 2, Decimal('99.4444')),\n",
       " ('育新花园', '海淀区', 2, Decimal('248.0000')),\n",
       " ('和平街十四区', '朝阳区', 2, Decimal('245.4839')),\n",
       " ('北街家园六区', '昌平区', 2, Decimal('158.4000')),\n",
       " ('金隅瑞和园', '海淀区', 2, Decimal('245.0000')),\n",
       " ('水岸双桥', '朝阳区', 2, Decimal('155.6410')),\n",
       " ('宏源公寓', '朝阳区', 2, Decimal('286.8000')),\n",
       " ('玉安园', '丰台区', 2, Decimal('212.5926')),\n",
       " ('劲松南路', '朝阳区', 2, Decimal('248.2609')),\n",
       " ('新里西斯莱公馆', '大兴区', 2, Decimal('153.7838')),\n",
       " ('于辛家园', '昌平区', 2, Decimal('83.4921')),\n",
       " ('南三环东路甲8号', '丰台区', 2, Decimal('169.7143')),\n",
       " ('远洋一方润园3号院', '朝阳区', 2, Decimal('235.2941')),\n",
       " ('丽水莲花', '西城区', 2, Decimal('251.4815')),\n",
       " ('大羊坊8号院', '朝阳区', 2, Decimal('238.6957')),\n",
       " ('西湖新村', '昌平区', 2, Decimal('183.1579')),\n",
       " ('模式口东里', '石景山区', 2, Decimal('155.9259')),\n",
       " ('西坝河东里', '朝阳区', 2, Decimal('217.4194')),\n",
       " ('天秀花园澄秀园', '海淀区', 2, Decimal('242.3077')),\n",
       " ('双裕花园东区', '顺义区', 2, Decimal('140.8333')),\n",
       " ('次渠嘉园七区', '通州区', 2, Decimal('106.4815')),\n",
       " ('颐和山庄亮甲园', '海淀区', 2, Decimal('229.5238')),\n",
       " ('胜古南里', '朝阳区', 2, Decimal('307.0000')),\n",
       " ('万源东里', '丰台区', 2, Decimal('180.0000')),\n",
       " ('通惠南路', '通州区', 2, Decimal('135.3846')),\n",
       " ('都市心海岸', '朝阳区', 2, Decimal('227.3333')),\n",
       " ('八里桥南街', '朝阳区', 2, Decimal('182.6923')),\n",
       " ('水碓子社区', '朝阳区', 2, Decimal('216.1111')),\n",
       " ('康营小区12区', '朝阳区', 2, Decimal('178.4615')),\n",
       " ('瑞都公园世家北区', '通州区', 2, Decimal('152.0690')),\n",
       " ('彩虹城一区', '丰台区', 2, Decimal('234.0909')),\n",
       " ('花园东路16号院', '海淀区', 2, Decimal('282.8571')),\n",
       " ...)"
      ]
     },
     "execution_count": 71,
     "metadata": {},
     "output_type": "execute_result"
    }
   ],
   "source": [
    "cur=conn.cursor()\n",
    "cur.execute('select 小区,位置1,count(1) as total,sum(价格)/sum(面积) as 每平米租金 from bj_rent group by 小区,位置1 order by total desc')\n",
    "data1=cur.fetchall()\n",
    "data1"
   ]
  },
  {
   "cell_type": "markdown",
   "id": "f6200850",
   "metadata": {},
   "source": [
    "上述结果可知，新建村小区的租房数量最多，花香东苑、连心园西区租房数量也较多"
   ]
  },
  {
   "cell_type": "code",
   "execution_count": 72,
   "id": "1e0048fa",
   "metadata": {},
   "outputs": [
    {
     "data": {
      "text/plain": [
       "(('半壁街南路1号院', '海淀区', 1, Decimal('596.0000')),\n",
       " ('交大东路56号院', '西城区', 1, Decimal('488.3333')),\n",
       " ('木星园', '朝阳区', 1, Decimal('468.5714')),\n",
       " ('吉庆里小区', '朝阳区', 1, Decimal('452.5000')),\n",
       " ('中关村三才堂', '海淀区', 1, Decimal('447.7778')),\n",
       " ('月季园（牡丹园）', '海淀区', 1, Decimal('446.2500')),\n",
       " ('双榆树北路', '海淀区', 1, Decimal('437.5000')),\n",
       " ('富力城', '朝阳区', 1, Decimal('432.8571')),\n",
       " ('国瑞城中区', '东城区', 2, Decimal('427.5000')),\n",
       " ('百万庄北里', '西城区', 1, Decimal('425.0000')))"
      ]
     },
     "execution_count": 72,
     "metadata": {},
     "output_type": "execute_result"
    }
   ],
   "source": [
    "cur=conn.cursor()\n",
    "cur.execute('select 小区,位置1,count(1) as total,sum(价格)/sum(面积) as 每平米租金 from bj_rent group by 小区,位置1 order by 每平米租金 desc limit 10')\n",
    "data2=cur.fetchall()\n",
    "data2"
   ]
  },
  {
   "cell_type": "markdown",
   "id": "279f23cb",
   "metadata": {},
   "source": [
    "以上是房租最贵的小区前10名，在海淀区的半壁街南路1号院小区最贵，达到596元每平米，是北京平均每平米租房价格169.58元的3倍多。在前10名小区中，海淀区、朝阳区的小区最多，也与上面分析海淀区、朝阳区房租最贵的结果相一致。"
   ]
  },
  {
   "cell_type": "markdown",
   "id": "93f84aad",
   "metadata": {},
   "source": [
    "3.2 小区分析可视化"
   ]
  },
  {
   "cell_type": "code",
   "execution_count": 73,
   "id": "656f3942",
   "metadata": {},
   "outputs": [
    {
     "data": {
      "text/html": [
       "<div>\n",
       "<style scoped>\n",
       "    .dataframe tbody tr th:only-of-type {\n",
       "        vertical-align: middle;\n",
       "    }\n",
       "\n",
       "    .dataframe tbody tr th {\n",
       "        vertical-align: top;\n",
       "    }\n",
       "\n",
       "    .dataframe thead th {\n",
       "        text-align: right;\n",
       "    }\n",
       "</style>\n",
       "<table border=\"1\" class=\"dataframe\">\n",
       "  <thead>\n",
       "    <tr style=\"text-align: right;\">\n",
       "      <th></th>\n",
       "      <th>小区</th>\n",
       "      <th>位置1</th>\n",
       "      <th>租房数</th>\n",
       "      <th>每平米租金</th>\n",
       "    </tr>\n",
       "  </thead>\n",
       "  <tbody>\n",
       "    <tr>\n",
       "      <th>0</th>\n",
       "      <td>半壁街南路1号院</td>\n",
       "      <td>海淀区</td>\n",
       "      <td>1</td>\n",
       "      <td>596.0000</td>\n",
       "    </tr>\n",
       "    <tr>\n",
       "      <th>1</th>\n",
       "      <td>交大东路56号院</td>\n",
       "      <td>西城区</td>\n",
       "      <td>1</td>\n",
       "      <td>488.3333</td>\n",
       "    </tr>\n",
       "    <tr>\n",
       "      <th>2</th>\n",
       "      <td>木星园</td>\n",
       "      <td>朝阳区</td>\n",
       "      <td>1</td>\n",
       "      <td>468.5714</td>\n",
       "    </tr>\n",
       "    <tr>\n",
       "      <th>3</th>\n",
       "      <td>吉庆里小区</td>\n",
       "      <td>朝阳区</td>\n",
       "      <td>1</td>\n",
       "      <td>452.5000</td>\n",
       "    </tr>\n",
       "    <tr>\n",
       "      <th>4</th>\n",
       "      <td>中关村三才堂</td>\n",
       "      <td>海淀区</td>\n",
       "      <td>1</td>\n",
       "      <td>447.7778</td>\n",
       "    </tr>\n",
       "    <tr>\n",
       "      <th>5</th>\n",
       "      <td>月季园（牡丹园）</td>\n",
       "      <td>海淀区</td>\n",
       "      <td>1</td>\n",
       "      <td>446.2500</td>\n",
       "    </tr>\n",
       "    <tr>\n",
       "      <th>6</th>\n",
       "      <td>双榆树北路</td>\n",
       "      <td>海淀区</td>\n",
       "      <td>1</td>\n",
       "      <td>437.5000</td>\n",
       "    </tr>\n",
       "    <tr>\n",
       "      <th>7</th>\n",
       "      <td>富力城</td>\n",
       "      <td>朝阳区</td>\n",
       "      <td>1</td>\n",
       "      <td>432.8571</td>\n",
       "    </tr>\n",
       "    <tr>\n",
       "      <th>8</th>\n",
       "      <td>国瑞城中区</td>\n",
       "      <td>东城区</td>\n",
       "      <td>2</td>\n",
       "      <td>427.5000</td>\n",
       "    </tr>\n",
       "    <tr>\n",
       "      <th>9</th>\n",
       "      <td>百万庄北里</td>\n",
       "      <td>西城区</td>\n",
       "      <td>1</td>\n",
       "      <td>425.0000</td>\n",
       "    </tr>\n",
       "  </tbody>\n",
       "</table>\n",
       "</div>"
      ],
      "text/plain": [
       "         小区  位置1  租房数     每平米租金\n",
       "0  半壁街南路1号院  海淀区    1  596.0000\n",
       "1  交大东路56号院  西城区    1  488.3333\n",
       "2       木星园  朝阳区    1  468.5714\n",
       "3     吉庆里小区  朝阳区    1  452.5000\n",
       "4    中关村三才堂  海淀区    1  447.7778\n",
       "5  月季园（牡丹园）  海淀区    1  446.2500\n",
       "6     双榆树北路  海淀区    1  437.5000\n",
       "7       富力城  朝阳区    1  432.8571\n",
       "8     国瑞城中区  东城区    2  427.5000\n",
       "9     百万庄北里  西城区    1  425.0000"
      ]
     },
     "execution_count": 73,
     "metadata": {},
     "output_type": "execute_result"
    }
   ],
   "source": [
    "data2=pd.DataFrame(data2,columns=['小区','位置1','租房数','每平米租金'])\n",
    "data2"
   ]
  },
  {
   "cell_type": "code",
   "execution_count": 76,
   "id": "3bb659e5",
   "metadata": {},
   "outputs": [
    {
     "data": {
      "text/plain": [
       "<matplotlib.legend.Legend at 0x200c465dc10>"
      ]
     },
     "execution_count": 76,
     "metadata": {},
     "output_type": "execute_result"
    },
    {
     "data": {
      "image/png": "[encoded data removed]",
      "text/plain": [
       "<Figure size 640x480 with 1 Axes>"
      ]
     },
     "metadata": {},
     "output_type": "display_data"
    }
   ],
   "source": [
    "#小区与每平米租金前10名条形图\n",
    "plt.barh(data2['小区'], data2['每平米租金'],label='租金(元/平米)')\n",
    "for x, y in zip(data2['小区'], data2['每平米租金']):\n",
    "    plt.text(y, x, y, ha='left', va='center', fontsize=10)\n",
    "plt.legend()"
   ]
  },
  {
   "cell_type": "markdown",
   "id": "22861040",
   "metadata": {},
   "source": [
    "以上是小区与每平米租金前10名条形图，可以看出前10名的租金都达到400元/平米以上，是平均数170元/平米的两倍多，最贵的租金为平均价格的三倍多。"
   ]
  },
  {
   "cell_type": "markdown",
   "id": "8fc6657d",
   "metadata": {},
   "source": [
    "4.1 户型楼层分析"
   ]
  },
  {
   "cell_type": "code",
   "execution_count": 117,
   "id": "0dc652e1",
   "metadata": {},
   "outputs": [
    {
     "data": {
      "text/plain": [
       "(('3室1卫', 2783, Decimal('193.0605')),\n",
       " ('4室1卫', 1487, Decimal('187.1849')),\n",
       " ('2室1卫', 966, Decimal('159.0482')),\n",
       " ('1室1卫', 315, Decimal('110.5262')),\n",
       " ('5室1卫', 178, Decimal('172.6687')),\n",
       " ('4室2卫', 84, Decimal('179.4202')),\n",
       " ('5室2卫', 75, Decimal('161.2595')),\n",
       " ('6室2卫', 60, Decimal('175.4083')),\n",
       " ('3室2卫', 21, Decimal('195.9375')),\n",
       " ('6室1卫', 14, Decimal('167.3786')),\n",
       " ('2室0卫', 12, Decimal('181.5023')),\n",
       " ('7室2卫', 10, Decimal('126.1272')),\n",
       " ('8室2卫', 4, Decimal('149.1228')),\n",
       " ('5室3卫', 3, Decimal('147.7500')),\n",
       " ('3室0卫', 3, Decimal('152.7419')),\n",
       " ('8室3卫', 2, Decimal('124.0000')),\n",
       " ('7室4卫', 2, Decimal('172.1429')),\n",
       " ('8室4卫', 2, Decimal('136.6667')),\n",
       " ('7室3卫', 1, Decimal('205.4545')),\n",
       " ('7室1卫', 1, Decimal('137.6190')),\n",
       " ('2室2卫', 1, Decimal('69.6000')))"
      ]
     },
     "execution_count": 117,
     "metadata": {},
     "output_type": "execute_result"
    }
   ],
   "source": [
    "#户型\n",
    "cur=conn.cursor()\n",
    "cur.execute('select 户型,count(1) as total,sum(价格)/sum(面积) as 每平米租金 from bj_rent group by 户型 order by total desc')\n",
    "huxing=cur.fetchall()\n",
    "huxing "
   ]
  },
  {
   "cell_type": "markdown",
   "id": "272c271e",
   "metadata": {},
   "source": [
    "3室1卫户型的房源最多，7室3卫、7室1卫、2室2卫户型的房源最少"
   ]
  },
  {
   "cell_type": "code",
   "execution_count": 132,
   "id": "96418098",
   "metadata": {},
   "outputs": [
    {
     "data": {
      "text/plain": [
       "(('3室', 2807, Decimal('193.0121')),\n",
       " ('4室', 1571, Decimal('186.7144')),\n",
       " ('2室', 979, Decimal('158.9495')),\n",
       " ('1室', 315, Decimal('110.5262')),\n",
       " ('5室', 256, Decimal('169.2167')),\n",
       " ('6室', 74, Decimal('173.6726')),\n",
       " ('7室', 14, Decimal('136.4378')),\n",
       " ('8室', 8, Decimal('138.2308')))"
      ]
     },
     "execution_count": 132,
     "metadata": {},
     "output_type": "execute_result"
    }
   ],
   "source": [
    "sql=\"\"\"\n",
    "select left(户型,2) as 户型, count(1) as total, sum(价格)/sum(面积) as 每平米租金\n",
    "from bj_rent\n",
    "group by left(户型,2)\n",
    "order by total desc\n",
    "\"\"\"\n",
    "cur=conn.cursor()\n",
    "cur.execute(sql)\n",
    "huxing=cur.fetchall()\n",
    "huxing "
   ]
  },
  {
   "cell_type": "markdown",
   "id": "1ca24668",
   "metadata": {},
   "source": [
    "3室的房源最多，有2807户，8室的房源最少"
   ]
  },
  {
   "cell_type": "code",
   "execution_count": 145,
   "id": "c130765a",
   "metadata": {},
   "outputs": [
    {
     "data": {
      "text/plain": [
       "(('电梯房', 3467, Decimal('173.8597')), ('非电梯房', 2557, Decimal('163.5067')))"
      ]
     },
     "execution_count": 145,
     "metadata": {},
     "output_type": "execute_result"
    }
   ],
   "source": [
    "#电梯\n",
    "sql=\"\"\"\n",
    "select case when 总楼层 > 7 then '电梯房' else '非电梯房' end, count(1) as total, sum(价格)/sum(面积) as 每平米租金\n",
    "from bj_rent\n",
    "group by case when 总楼层 > 7 then '电梯房' else '非电梯房' end\n",
    "order by total desc\n",
    "\"\"\"\n",
    "cur=conn.cursor()\n",
    "cur.execute(sql)\n",
    "dianti=cur.fetchall()\n",
    "dianti"
   ]
  },
  {
   "cell_type": "markdown",
   "id": "c6d136c9",
   "metadata": {},
   "source": [
    "电梯房数量一共有3467，非电梯房数量一共有2557，电梯房的房租价格比非电梯房稍贵一点。"
   ]
  },
  {
   "cell_type": "code",
   "execution_count": 100,
   "id": "ca9cbc25",
   "metadata": {},
   "outputs": [
    {
     "data": {
      "text/plain": [
       "(('高层', 2584, Decimal('169.2360')),\n",
       " ('中层', 1890, Decimal('167.3933')),\n",
       " ('低层', 1550, Decimal('172.8780')))"
      ]
     },
     "execution_count": 100,
     "metadata": {},
     "output_type": "execute_result"
    }
   ],
   "source": [
    "#所在楼层 将楼层一共分为低 中 高三种楼层，楼层所在位置小于总楼层1/3为低楼层，大于2/3为高楼层，中间为重楼长\n",
    "sql=\"\"\"\n",
    "select case when 1.0 * 所在楼层/总楼层 > 0.66 then '高层'\n",
    "            when 1.0 * 所在楼层/总楼层 > 0.33 then '中层'\n",
    "            else '低层' end as tp,\n",
    "       count(1) as total, sum(价格)/sum(面积) as 每平米租金\n",
    "from bj_rent\n",
    "group by case when 1.0 * 所在楼层/总楼层 > 0.66 then '高层'\n",
    "              when 1.0 * 所在楼层/总楼层 > 0.33 then '中层'\n",
    "              else '低层' end\n",
    "order by total desc\n",
    "\"\"\"\n",
    "cur=conn.cursor()\n",
    "cur.execute(sql)\n",
    "louceng=cur.fetchall()\n",
    "louceng"
   ]
  },
  {
   "cell_type": "markdown",
   "id": "a0f4ba91",
   "metadata": {},
   "source": [
    "高层租房数量最多，有2584户，底层租房数量最少，只有1550户，低层楼房房租相较于中高层楼房更贵一些。"
   ]
  },
  {
   "cell_type": "code",
   "execution_count": 108,
   "id": "74fb56fc",
   "metadata": {},
   "outputs": [
    {
     "data": {
      "text/plain": [
       "(('电梯房', '高层', 1263, Decimal('176.6699')),\n",
       " ('电梯房', '低层', 1126, Decimal('175.6587')),\n",
       " ('电梯房', '中层', 1078, Decimal('169.0855')),\n",
       " ('非电梯房', '高层', 1321, Decimal('161.9323')),\n",
       " ('非电梯房', '低层', 424, Decimal('165.4513')),\n",
       " ('非电梯房', '中层', 812, Decimal('164.9539')))"
      ]
     },
     "execution_count": 108,
     "metadata": {},
     "output_type": "execute_result"
    }
   ],
   "source": [
    "#电梯&所在楼层\n",
    "sql=\"\"\"\n",
    "select case when 总楼层 > 7 then '电梯房'\n",
    "            else '非电梯房' end as tp1,\n",
    "       case when 1.0 * 所在楼层/总楼层 > 0.66 then '高层'\n",
    "            when 1.0 * 所在楼层/总楼层 > 0.33 then '中层'\n",
    "            else '低层' end as tp2,\n",
    "       count(1) as total, sum(价格)/sum(面积) as 每平米租金\n",
    "from bj_rent\n",
    "group by case when 总楼层 > 7 then '电梯房'\n",
    "              else '非电梯房' end,\n",
    "         case when 1.0 * 所在楼层/总楼层 > 0.66 then '高层'\n",
    "              when 1.0 * 所在楼层/总楼层 > 0.33 then '中层'\n",
    "              else '低层' end\n",
    "order by 1,2 desc\n",
    "\"\"\"\n",
    "cur=conn.cursor()\n",
    "cur.execute(sql)\n",
    "ticeng=cur.fetchall()\n",
    "ticeng"
   ]
  },
  {
   "cell_type": "markdown",
   "id": "e1d26202",
   "metadata": {},
   "source": [
    "电梯房中，高层房源最多，价格也最贵，中层房源最少，价格也最便宜；非电梯房中，高层房源最多，价格最便宜，低层房源最少，价格最贵。这可能是因为没有电梯，高层楼房更难出租，所以价格最便宜，低层楼房爬楼较轻松一点，所以房租相对更贵。"
   ]
  },
  {
   "cell_type": "markdown",
   "id": "42f9edaf",
   "metadata": {},
   "source": [
    "4.2 户型楼层可视化"
   ]
  },
  {
   "cell_type": "code",
   "execution_count": 138,
   "id": "11bd65d4",
   "metadata": {},
   "outputs": [
    {
     "data": {
      "text/plain": [
       "Text(0.5, 1.0, '不同户型数量条形图')"
      ]
     },
     "execution_count": 138,
     "metadata": {},
     "output_type": "execute_result"
    },
    {
     "data": {
      "image/png": "[encoded data removed]",
      "text/plain": [
       "<Figure size 640x480 with 1 Axes>"
      ]
     },
     "metadata": {},
     "output_type": "display_data"
    }
   ],
   "source": [
    "#户型\n",
    "huxing=pd.DataFrame(huxing,columns=['户型','租房数','每平米租金'])\n",
    "plt.bar(huxing['户型'],huxing['租房数'],label='房源数量')\n",
    "for x, y in zip(huxing['户型'], huxing['租房数']):\n",
    "    plt.text(x, y, y, ha='center', va='bottom', fontsize=10)\n",
    "plt.legend()\n",
    "plt.title('不同户型数量条形图')"
   ]
  },
  {
   "cell_type": "markdown",
   "id": "22c00da8",
   "metadata": {},
   "source": [
    "从户型的房源数量来看，3室户型的租房数量最多，其次是4室户型，但从前面可知平均租房面积只有15.68平米，可见大多数房源都是采用合租的形式，毕竟房租太贵，且在北京生活成本太高。"
   ]
  },
  {
   "cell_type": "code",
   "execution_count": 179,
   "id": "b0b220c3",
   "metadata": {},
   "outputs": [
    {
     "data": {
      "text/plain": [
       "Text(0.5, 1.0, '电梯房类型数量占比')"
      ]
     },
     "execution_count": 179,
     "metadata": {},
     "output_type": "execute_result"
    },
    {
     "data": {
      "image/png": "[encoded data removed]",
      "text/plain": [
       "<Figure size 640x480 with 1 Axes>"
      ]
     },
     "metadata": {},
     "output_type": "display_data"
    }
   ],
   "source": [
    "#电梯\n",
    "dianti=pd.DataFrame(dianti,columns=['类型','租房数','每平米租金'])\n",
    "plt.pie(dianti['租房数'],labels=dianti['类型'],colors=['g','y'],startangle=90,shadow= True,explode=(0,0.1),autopct='%1.1f%%')\n",
    "plt.title('电梯房类型数量占比')"
   ]
  },
  {
   "cell_type": "code",
   "execution_count": 181,
   "id": "7ecc345a",
   "metadata": {},
   "outputs": [
    {
     "data": {
      "text/plain": [
       "<matplotlib.legend.Legend at 0x200cb0b2a30>"
      ]
     },
     "execution_count": 181,
     "metadata": {},
     "output_type": "execute_result"
    },
    {
     "data": {
      "image/png": "[encoded data removed]",
      "text/plain": [
       "<Figure size 640x480 with 1 Axes>"
      ]
     },
     "metadata": {},
     "output_type": "display_data"
    }
   ],
   "source": [
    "plt.bar(dianti['类型'],dianti['每平米租金'],label='租金(元/平米)')\n",
    "for x, y in zip(dianti['类型'],dianti['每平米租金']):\n",
    "    plt.text(x, y, y, ha='center', va='bottom', fontsize=10)\n",
    "plt.legend()"
   ]
  },
  {
   "cell_type": "markdown",
   "id": "8417f67f",
   "metadata": {},
   "source": [
    "从电梯房类型来看，电梯房数量比非电梯房数量更多，并且电梯房房租每平米比非电梯房贵10元左右。"
   ]
  },
  {
   "cell_type": "code",
   "execution_count": 177,
   "id": "96c73853",
   "metadata": {},
   "outputs": [
    {
     "data": {
      "text/plain": [
       "<matplotlib.legend.Legend at 0x200c4a2fdc0>"
      ]
     },
     "execution_count": 177,
     "metadata": {},
     "output_type": "execute_result"
    },
    {
     "data": {
      "image/png": "[encoded data removed]",
      "text/plain": [
       "<Figure size 640x480 with 2 Axes>"
      ]
     },
     "metadata": {},
     "output_type": "display_data"
    }
   ],
   "source": [
    "#楼层\n",
    "louceng=pd.DataFrame(louceng,columns=['楼层','租房数','每平米租金'])\n",
    "plt.figure()\n",
    "plt.subplot(121)\n",
    "plt.bar(louceng['楼层'],louceng['租房数'])\n",
    "plt.title('楼层与房源条形图')\n",
    "for x, y in zip(louceng['楼层'],louceng['租房数']):\n",
    "    plt.text(x, y, y, ha='center', va='bottom', fontsize=10)\n",
    "plt.subplot(122)\n",
    "plt.plot(louceng['楼层'],louceng['每平米租金'],label='楼层与租金(元/平米)')\n",
    "for x, y in zip(louceng['楼层'],louceng['每平米租金']):\n",
    "    plt.text(x, y, y, ha='center', va='bottom', fontsize=10)\n",
    "plt.legend()"
   ]
  },
  {
   "cell_type": "markdown",
   "id": "236b7668",
   "metadata": {},
   "source": [
    "高层房源最多，低层房源最少，从租金上看，不管是电梯房还是非电梯房，低楼层的租金都会稍贵一些，可能是因为低楼层出行较为方便，且北京地处北方，天气较为干燥，空气质量不是很好，所以可能北方人多会选择租低楼层，所以低楼层价格稍贵一些。"
   ]
  },
  {
   "cell_type": "code",
   "execution_count": 189,
   "id": "b763ce46",
   "metadata": {},
   "outputs": [
    {
     "data": {
      "text/plain": [
       "<matplotlib.legend.Legend at 0x200cb285d30>"
      ]
     },
     "execution_count": 189,
     "metadata": {},
     "output_type": "execute_result"
    },
    {
     "data": {
      "image/png": "[encoded data removed]",
      "text/plain": [
       "<Figure size 640x480 with 1 Axes>"
      ]
     },
     "metadata": {},
     "output_type": "display_data"
    }
   ],
   "source": [
    "#电梯楼层\n",
    "ticeng=pd.DataFrame(ticeng,columns=['类型','楼层','租房数','每平米租金'])\n",
    "ticeng['电梯楼层']=ticeng['类型']+ticeng['楼层']\n",
    "plt.figure()\n",
    "plt.plot(ticeng['电梯楼层'],ticeng['租房数'],label='房源数量')\n",
    "for x, y in zip(ticeng['电梯楼层'],ticeng['租房数']):\n",
    "    plt.text(x, y, y, ha='center', va='bottom', fontsize=10)\n",
    "plt.legend()\n",
    "plt.plot(ticeng['电梯楼层'],ticeng['每平米租金'],label='租金(元/平米)')\n",
    "for x, y in zip(ticeng['电梯楼层'],ticeng['每平米租金']):\n",
    "    plt.text(x, y, y, ha='center', va='bottom', fontsize=10)\n",
    "plt.legend()"
   ]
  },
  {
   "cell_type": "markdown",
   "id": "e38ed573",
   "metadata": {},
   "source": [
    "从房源数量来看，非电梯房的高层房源最多，非电梯房低层房源最少，说明非电梯房的高层房源不容易租出去，从租金也可体现这一点，非电梯房高层的租金最便宜。"
   ]
  },
  {
   "cell_type": "markdown",
   "id": "5a29005a",
   "metadata": {},
   "source": [
    "5.1 交通分析"
   ]
  },
  {
   "cell_type": "code",
   "execution_count": 194,
   "id": "a8def4c2",
   "metadata": {},
   "outputs": [
    {
     "data": {
      "text/plain": [
       "((1, 4696, Decimal('164.4822')),\n",
       " (2, 1180, Decimal('185.6244')),\n",
       " (3, 136, Decimal('192.0878')),\n",
       " (0, 11, Decimal('123.9109')),\n",
       " (4, 1, Decimal('488.3333')))"
      ]
     },
     "execution_count": 194,
     "metadata": {},
     "output_type": "execute_result"
    }
   ],
   "source": [
    "#地铁数\n",
    "sql=\"\"\"\n",
    "select 地铁数, count(1) as total, sum(价格)/sum(面积) as 每平米租金\n",
    "from bj_rent\n",
    "group by 地铁数\n",
    "\"\"\"\n",
    "cur=conn.cursor()\n",
    "cur.execute(sql)\n",
    "ditie=cur.fetchall()\n",
    "ditie"
   ]
  },
  {
   "cell_type": "markdown",
   "id": "9c201d5f",
   "metadata": {},
   "source": [
    "租房周围地铁数量为1的房源最多，地铁数为4的房源最少，租房价格与地铁数量也有一定关系，地铁数量越多的房源，交通越便利，所以房租相对也更贵。"
   ]
  },
  {
   "cell_type": "code",
   "execution_count": 198,
   "id": "20fa08f9",
   "metadata": {},
   "outputs": [
    {
     "data": {
      "text/plain": [
       "(('1公里以内', 2498, Decimal('169.9117')),\n",
       " ('500米以内', 1610, Decimal('181.1004')),\n",
       " ('1.5公里以内', 967, Decimal('162.1476')),\n",
       " ('1.5公里以外', 949, Decimal('154.4271')))"
      ]
     },
     "execution_count": 198,
     "metadata": {},
     "output_type": "execute_result"
    }
   ],
   "source": [
    "#距离地铁路程\n",
    "sql=\"\"\"\n",
    "select case when 距离地铁路程 between 0 and 500 then '500米以内'\n",
    "when 距离地铁路程 between 501 and 1000 then '1公里以内'\n",
    "when 距离地铁路程 between 1001 and 1500 then '1.5公里以内'\n",
    "else '1.5公里以外' end as ds,\n",
    "      count(1) as total, sum(价格)/sum(面积) as per\n",
    "from bj_rent\n",
    "group by case when 距离地铁路程 between 0 and 500 then '500米以内'\n",
    "when 距离地铁路程 between 501 and 1000 then '1公里以内'\n",
    " when 距离地铁路程 between 1001 and 1500 then '1.5公里以内'\n",
    "else '1.5公里以外' end\n",
    "\"\"\"\n",
    "cur=conn.cursor()\n",
    "cur.execute(sql)\n",
    "juli=cur.fetchall()\n",
    "juli"
   ]
  },
  {
   "cell_type": "markdown",
   "id": "73d2e0db",
   "metadata": {},
   "source": [
    "距离地铁站1公里的房源数量最多，1.5公里以外的房源数量最少，且租房价格与距离地铁站路程长短有一定的关系，距离较远的租房价格相对便宜一点。"
   ]
  },
  {
   "cell_type": "markdown",
   "id": "9332c5aa",
   "metadata": {},
   "source": [
    "5.2 交通分析可视化"
   ]
  },
  {
   "cell_type": "code",
   "execution_count": 208,
   "id": "98b593cc",
   "metadata": {},
   "outputs": [
    {
     "data": {
      "text/plain": [
       "Text(0.5, 1.0, '地铁距离与租金关系图')"
      ]
     },
     "execution_count": 208,
     "metadata": {},
     "output_type": "execute_result"
    },
    {
     "data": {
      "image/png": "[encoded data removed]",
      "text/plain": [
       "<Figure size 640x480 with 2 Axes>"
      ]
     },
     "metadata": {},
     "output_type": "display_data"
    }
   ],
   "source": [
    "ditie=pd.DataFrame(ditie,columns=['地铁数','租房数','每平米租金'])\n",
    "ditie['地铁数'] = ditie['地铁数'].astype(str)\n",
    "juli=pd.DataFrame(juli,columns=['距离','租房数','每平米租金'])\n",
    "plt.subplot(121)\n",
    "plt.plot(ditie['地铁数'], ditie['租房数'], label='地铁数与房源数量')\n",
    "for x, y in zip(ditie['地铁数'], ditie['租房数']):\n",
    "    plt.text(x, y, y, ha='center', va='bottom', fontsize=10)\n",
    "plt.legend()\n",
    "plt.title('地铁数量与房源关系图')\n",
    "plt.subplot(122)\n",
    "plt.plot(juli['距离'],juli['每平米租金'], label='租金(元/平米)')\n",
    "for x, y in zip(juli['距离'],juli['每平米租金']):\n",
    "    plt.text(x, y, y, ha='center', va='bottom', fontsize=11)\n",
    "plt.legend()\n",
    "plt.title('地铁距离与租金关系图')"
   ]
  },
  {
   "cell_type": "markdown",
   "id": "90a6e842",
   "metadata": {},
   "source": [
    "从地理位置上看，地铁数量越多，距离地铁位置越近的房源，即交通越便利的地方，租金也越贵，这也符合我们一般认知。"
   ]
  },
  {
   "cell_type": "markdown",
   "id": "53f29712",
   "metadata": {},
   "source": [
    "# 总结"
   ]
  },
  {
   "cell_type": "markdown",
   "id": "b45fdd5c",
   "metadata": {},
   "source": [
    "1.数据预处理"
   ]
  },
  {
   "cell_type": "markdown",
   "id": "43670635",
   "metadata": {},
   "source": [
    "首先用python对数据进行预处理，删除掉重复值，对缺失值进行处理，再对数据进行清洗，增加相应的列，将数据类型进行转换，再将处理好的6024条数据进行保存。"
   ]
  },
  {
   "cell_type": "markdown",
   "id": "e30b8e27",
   "metadata": {},
   "source": [
    "2.基于sql语句进行数据分析"
   ]
  },
  {
   "cell_type": "markdown",
   "id": "34c34093",
   "metadata": {},
   "source": [
    "基于sql对数据进行五个方面分析，分别为整体分析、地区分析、小区分析、户型楼层分析、交通分析，然后基于python,对分析处理好的数据进行可视化，便于观测。"
   ]
  },
  {
   "cell_type": "markdown",
   "id": "d3c5c620",
   "metadata": {},
   "source": [
    "3.分析结果"
   ]
  },
  {
   "cell_type": "markdown",
   "id": "acbc30d5",
   "metadata": {},
   "source": [
    "从整体来看，一共有6024条租房数据，其中平均租房面积为15.68平方米，每平米租房价格为169.58元，平均楼层为7楼，距离最近地铁的平均距离为961.74米。"
   ]
  },
  {
   "cell_type": "markdown",
   "id": "f8862fcb",
   "metadata": {},
   "source": [
    "从地区来看，朝阳区的租房数量最多，通州区的租房数量紧随其后，门头沟区租房数量最少,说明朝阳区和通州区的租赁市场比较活跃，人员流动和人口密度也比较大，且海淀区租房价格最贵，房山区的价格最便宜。"
   ]
  },
  {
   "cell_type": "markdown",
   "id": "4d88daee",
   "metadata": {},
   "source": [
    "从小区来看，在海淀区的半壁街南路1号院小区最贵，达到596元每平米，是北京平均每平米租房价格169.58元的3倍多。在前10名小区中，海淀区、朝阳区的小区最多，也与上面分析海淀区、朝阳区房租最贵的结果相一致。"
   ]
  },
  {
   "cell_type": "markdown",
   "id": "2dadeef5",
   "metadata": {},
   "source": [
    "从户型楼层分析，3室的户型房源数量最多，其次是4室户型，但从前面可知平均租房面积只有15.68平米，可见大多数房源都是采用合租的形式，毕竟房租太贵，且在北京生活成本太高。电梯房中，高层房源最多，价格也最贵，中层房源最少，价格也最便宜；非电梯房中，高层房源最多，价格最便宜，低层房源最少，价格最贵。不管是电梯房还是非电梯房，低楼层的租金都会稍贵一些，这可能是因为低楼层出行更为方便，北京地处北方，空气干燥，所以人们多会选择住低楼层。"
   ]
  },
  {
   "cell_type": "markdown",
   "id": "db5835fc",
   "metadata": {},
   "source": [
    "从交通状况来看，不管是房源数量，还是房租价格，交通越便利的地方，房源数量越多，租房价格也更高，这也符合我们的认知。"
   ]
  }
 ],
 "metadata": {
  "kernelspec": {
   "display_name": "Python 3 (ipykernel)",
   "language": "python",
   "name": "python3"
  },
  "language_info": {
   "codemirror_mode": {
    "name": "ipython",
    "version": 3
   },
   "file_extension": ".py",
   "mimetype": "text/x-python",
   "name": "python",
   "nbconvert_exporter": "python",
   "pygments_lexer": "ipython3",
   "version": "3.9.13"
  }
 },
 "nbformat": 4,
 "nbformat_minor": 5
}
