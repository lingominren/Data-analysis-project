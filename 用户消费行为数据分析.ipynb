{
 "cells": [
  {
   "cell_type": "code",
   "execution_count": 1,
   "metadata": {},
   "outputs": [],
   "source": [
    "# user_id:用户ID，order_dt:购买日期，order_products:购买产品数量,order_amount:购买金额\n",
    "# 数据时间：1997年1月~1998年6月用户行为数据，约6万条"
   ]
  },
  {
   "cell_type": "code",
   "execution_count": 1,
   "metadata": {},
   "outputs": [],
   "source": [
    "import numpy as np\n",
    "import pandas as pd\n",
    "import matplotlib.pyplot as plt\n",
    "from datetime import datetime\n",
    "%matplotlib inline\n",
    "plt.style.use('ggplot')  #更改绘图风格，R语言绘图库的风格\n",
    "plt.rcParams['font.sans-serif'] = ['SimHei']"
   ]
  },
  {
   "cell_type": "markdown",
   "metadata": {},
   "source": [
    "## 数据预处理"
   ]
  },
  {
   "cell_type": "code",
   "execution_count": 2,
   "metadata": {},
   "outputs": [
    {
     "data": {
      "text/html": [
       "<div>\n",
       "<style scoped>\n",
       "    .dataframe tbody tr th:only-of-type {\n",
       "        vertical-align: middle;\n",
       "    }\n",
       "\n",
       "    .dataframe tbody tr th {\n",
       "        vertical-align: top;\n",
       "    }\n",
       "\n",
       "    .dataframe thead th {\n",
       "        text-align: right;\n",
       "    }\n",
       "</style>\n",
       "<table border=\"1\" class=\"dataframe\">\n",
       "  <thead>\n",
       "    <tr style=\"text-align: right;\">\n",
       "      <th></th>\n",
       "      <th>user_id</th>\n",
       "      <th>order_dt</th>\n",
       "      <th>order_products</th>\n",
       "      <th>order_amount</th>\n",
       "    </tr>\n",
       "  </thead>\n",
       "  <tbody>\n",
       "    <tr>\n",
       "      <th>0</th>\n",
       "      <td>1</td>\n",
       "      <td>19970101</td>\n",
       "      <td>1</td>\n",
       "      <td>11.77</td>\n",
       "    </tr>\n",
       "    <tr>\n",
       "      <th>1</th>\n",
       "      <td>2</td>\n",
       "      <td>19970112</td>\n",
       "      <td>1</td>\n",
       "      <td>12.00</td>\n",
       "    </tr>\n",
       "    <tr>\n",
       "      <th>2</th>\n",
       "      <td>2</td>\n",
       "      <td>19970112</td>\n",
       "      <td>5</td>\n",
       "      <td>77.00</td>\n",
       "    </tr>\n",
       "    <tr>\n",
       "      <th>3</th>\n",
       "      <td>3</td>\n",
       "      <td>19970102</td>\n",
       "      <td>2</td>\n",
       "      <td>20.76</td>\n",
       "    </tr>\n",
       "    <tr>\n",
       "      <th>4</th>\n",
       "      <td>3</td>\n",
       "      <td>19970330</td>\n",
       "      <td>2</td>\n",
       "      <td>20.76</td>\n",
       "    </tr>\n",
       "  </tbody>\n",
       "</table>\n",
       "</div>"
      ],
      "text/plain": [
       "   user_id  order_dt  order_products  order_amount\n",
       "0        1  19970101               1         11.77\n",
       "1        2  19970112               1         12.00\n",
       "2        2  19970112               5         77.00\n",
       "3        3  19970102               2         20.76\n",
       "4        3  19970330               2         20.76"
      ]
     },
     "execution_count": 2,
     "metadata": {},
     "output_type": "execute_result"
    }
   ],
   "source": [
    "# 导入数据\n",
    "columns = ['user_id','order_dt','order_products','order_amount']\n",
    "df = pd.read_table('./用户消费数据.txt',names=columns,sep='\\s+') \n",
    "df.head()\n",
    "#1.日期格式需要转换\n",
    "#2.存在同一个用户一天内购买多次行为"
   ]
  },
  {
   "cell_type": "code",
   "execution_count": 3,
   "metadata": {},
   "outputs": [
    {
     "data": {
      "text/html": [
       "<div>\n",
       "<style scoped>\n",
       "    .dataframe tbody tr th:only-of-type {\n",
       "        vertical-align: middle;\n",
       "    }\n",
       "\n",
       "    .dataframe tbody tr th {\n",
       "        vertical-align: top;\n",
       "    }\n",
       "\n",
       "    .dataframe thead th {\n",
       "        text-align: right;\n",
       "    }\n",
       "</style>\n",
       "<table border=\"1\" class=\"dataframe\">\n",
       "  <thead>\n",
       "    <tr style=\"text-align: right;\">\n",
       "      <th></th>\n",
       "      <th>user_id</th>\n",
       "      <th>order_dt</th>\n",
       "      <th>order_products</th>\n",
       "      <th>order_amount</th>\n",
       "    </tr>\n",
       "  </thead>\n",
       "  <tbody>\n",
       "    <tr>\n",
       "      <th>count</th>\n",
       "      <td>69659.000000</td>\n",
       "      <td>6.965900e+04</td>\n",
       "      <td>69659.000000</td>\n",
       "      <td>69659.000000</td>\n",
       "    </tr>\n",
       "    <tr>\n",
       "      <th>mean</th>\n",
       "      <td>11470.854592</td>\n",
       "      <td>1.997228e+07</td>\n",
       "      <td>2.410040</td>\n",
       "      <td>35.893648</td>\n",
       "    </tr>\n",
       "    <tr>\n",
       "      <th>std</th>\n",
       "      <td>6819.904848</td>\n",
       "      <td>3.837735e+03</td>\n",
       "      <td>2.333924</td>\n",
       "      <td>36.281942</td>\n",
       "    </tr>\n",
       "    <tr>\n",
       "      <th>min</th>\n",
       "      <td>1.000000</td>\n",
       "      <td>1.997010e+07</td>\n",
       "      <td>1.000000</td>\n",
       "      <td>0.000000</td>\n",
       "    </tr>\n",
       "    <tr>\n",
       "      <th>25%</th>\n",
       "      <td>5506.000000</td>\n",
       "      <td>1.997022e+07</td>\n",
       "      <td>1.000000</td>\n",
       "      <td>14.490000</td>\n",
       "    </tr>\n",
       "    <tr>\n",
       "      <th>50%</th>\n",
       "      <td>11410.000000</td>\n",
       "      <td>1.997042e+07</td>\n",
       "      <td>2.000000</td>\n",
       "      <td>25.980000</td>\n",
       "    </tr>\n",
       "    <tr>\n",
       "      <th>75%</th>\n",
       "      <td>17273.000000</td>\n",
       "      <td>1.997111e+07</td>\n",
       "      <td>3.000000</td>\n",
       "      <td>43.700000</td>\n",
       "    </tr>\n",
       "    <tr>\n",
       "      <th>max</th>\n",
       "      <td>23570.000000</td>\n",
       "      <td>1.998063e+07</td>\n",
       "      <td>99.000000</td>\n",
       "      <td>1286.010000</td>\n",
       "    </tr>\n",
       "  </tbody>\n",
       "</table>\n",
       "</div>"
      ],
      "text/plain": [
       "            user_id      order_dt  order_products  order_amount\n",
       "count  69659.000000  6.965900e+04    69659.000000  69659.000000\n",
       "mean   11470.854592  1.997228e+07        2.410040     35.893648\n",
       "std     6819.904848  3.837735e+03        2.333924     36.281942\n",
       "min        1.000000  1.997010e+07        1.000000      0.000000\n",
       "25%     5506.000000  1.997022e+07        1.000000     14.490000\n",
       "50%    11410.000000  1.997042e+07        2.000000     25.980000\n",
       "75%    17273.000000  1.997111e+07        3.000000     43.700000\n",
       "max    23570.000000  1.998063e+07       99.000000   1286.010000"
      ]
     },
     "execution_count": 3,
     "metadata": {},
     "output_type": "execute_result"
    }
   ],
   "source": [
    "df.describe()"
   ]
  },
  {
   "cell_type": "markdown",
   "metadata": {},
   "source": [
    "1.用户平均每笔订单购买2.4个商品，标准差2.3，稍微有点波动，属于正常，但75%分位数为3，说明绝大多数订单的购买量都不多，围绕在2~3个产品左右；\n",
    "2.购买金额，反映出大部分订单消费金额集中在中小额，30-45元左右"
   ]
  },
  {
   "cell_type": "code",
   "execution_count": 4,
   "metadata": {},
   "outputs": [
    {
     "name": "stdout",
     "output_type": "stream",
     "text": [
      "<class 'pandas.core.frame.DataFrame'>\n",
      "RangeIndex: 69659 entries, 0 to 69658\n",
      "Data columns (total 4 columns):\n",
      " #   Column          Non-Null Count  Dtype  \n",
      "---  ------          --------------  -----  \n",
      " 0   user_id         69659 non-null  int64  \n",
      " 1   order_dt        69659 non-null  int64  \n",
      " 2   order_products  69659 non-null  int64  \n",
      " 3   order_amount    69659 non-null  float64\n",
      "dtypes: float64(1), int64(3)\n",
      "memory usage: 2.1 MB\n"
     ]
    }
   ],
   "source": [
    "df.info()"
   ]
  },
  {
   "cell_type": "code",
   "execution_count": 5,
   "metadata": {},
   "outputs": [
    {
     "data": {
      "text/html": [
       "<div>\n",
       "<style scoped>\n",
       "    .dataframe tbody tr th:only-of-type {\n",
       "        vertical-align: middle;\n",
       "    }\n",
       "\n",
       "    .dataframe tbody tr th {\n",
       "        vertical-align: top;\n",
       "    }\n",
       "\n",
       "    .dataframe thead th {\n",
       "        text-align: right;\n",
       "    }\n",
       "</style>\n",
       "<table border=\"1\" class=\"dataframe\">\n",
       "  <thead>\n",
       "    <tr style=\"text-align: right;\">\n",
       "      <th></th>\n",
       "      <th>user_id</th>\n",
       "      <th>order_dt</th>\n",
       "      <th>order_products</th>\n",
       "      <th>order_amount</th>\n",
       "      <th>order_date</th>\n",
       "      <th>month</th>\n",
       "    </tr>\n",
       "  </thead>\n",
       "  <tbody>\n",
       "    <tr>\n",
       "      <th>0</th>\n",
       "      <td>1</td>\n",
       "      <td>19970101</td>\n",
       "      <td>1</td>\n",
       "      <td>11.77</td>\n",
       "      <td>1997-01-01</td>\n",
       "      <td>1997-01-01</td>\n",
       "    </tr>\n",
       "    <tr>\n",
       "      <th>1</th>\n",
       "      <td>2</td>\n",
       "      <td>19970112</td>\n",
       "      <td>1</td>\n",
       "      <td>12.00</td>\n",
       "      <td>1997-01-12</td>\n",
       "      <td>1997-01-01</td>\n",
       "    </tr>\n",
       "    <tr>\n",
       "      <th>2</th>\n",
       "      <td>2</td>\n",
       "      <td>19970112</td>\n",
       "      <td>5</td>\n",
       "      <td>77.00</td>\n",
       "      <td>1997-01-12</td>\n",
       "      <td>1997-01-01</td>\n",
       "    </tr>\n",
       "    <tr>\n",
       "      <th>3</th>\n",
       "      <td>3</td>\n",
       "      <td>19970102</td>\n",
       "      <td>2</td>\n",
       "      <td>20.76</td>\n",
       "      <td>1997-01-02</td>\n",
       "      <td>1997-01-01</td>\n",
       "    </tr>\n",
       "    <tr>\n",
       "      <th>4</th>\n",
       "      <td>3</td>\n",
       "      <td>19970330</td>\n",
       "      <td>2</td>\n",
       "      <td>20.76</td>\n",
       "      <td>1997-03-30</td>\n",
       "      <td>1997-03-01</td>\n",
       "    </tr>\n",
       "  </tbody>\n",
       "</table>\n",
       "</div>"
      ],
      "text/plain": [
       "   user_id  order_dt  order_products  order_amount order_date      month\n",
       "0        1  19970101               1         11.77 1997-01-01 1997-01-01\n",
       "1        2  19970112               1         12.00 1997-01-12 1997-01-01\n",
       "2        2  19970112               5         77.00 1997-01-12 1997-01-01\n",
       "3        3  19970102               2         20.76 1997-01-02 1997-01-01\n",
       "4        3  19970330               2         20.76 1997-03-30 1997-03-01"
      ]
     },
     "execution_count": 5,
     "metadata": {},
     "output_type": "execute_result"
    }
   ],
   "source": [
    "#将时间列的格式进行转换，添加新列\n",
    "df['order_date'] = pd.to_datetime(df['order_dt'],format='%Y%m%d')\n",
    "#将每个数据的月份提取出来，添加新列\n",
    "df['month'] = df['order_date'].astype('datetime64[M]')  #[M] :控制转换后的精度\n",
    "df.head()"
   ]
  },
  {
   "cell_type": "markdown",
   "metadata": {},
   "source": [
    "## 用户消费行为分析"
   ]
  },
  {
   "cell_type": "markdown",
   "metadata": {},
   "source": [
    "### 1.用户整体消费趋势分析（按月份）"
   ]
  },
  {
   "cell_type": "code",
   "execution_count": 6,
   "metadata": {},
   "outputs": [
    {
     "data": {
      "text/plain": [
       "Text(0.5, 1.0, '每月的消费人数')"
      ]
     },
     "execution_count": 6,
     "metadata": {},
     "output_type": "execute_result"
    },
    {
     "data": {
      "image/png": "[encoded data removed]",
      "text/plain": [
       "<Figure size 1440x1080 with 4 Axes>"
      ]
     },
     "metadata": {},
     "output_type": "display_data"
    }
   ],
   "source": [
    "# 按月份统计产品购买数量，消费金额，消费次数，消费人数\n",
    "plt.figure(figsize=(20,15))\n",
    "# 每月的产品购买数量\n",
    "plt.subplot(221)  \n",
    "df.groupby(by='month')['order_products'].sum().plot() \n",
    "plt.title('每月的产品购买数量')\n",
    "# 每月的消费金额\n",
    "plt.subplot(222)  #两行两列\n",
    "df.groupby(by='month')['order_amount'].sum().plot() \n",
    "plt.title('每月的消费金额')\n",
    "# 每月的消费次数\n",
    "plt.subplot(223)  \n",
    "df.groupby(by='month')['user_id'].count().plot()  \n",
    "plt.title('每月的消费次数')\n",
    "# 每月的消费人数（根据user_id进行去重统计，再计算个数）\n",
    "plt.subplot(224)  #两行两列\n",
    "df.groupby(by='month')['user_id'].apply(lambda x:len(x.drop_duplicates())).plot()  "
   ]
  },
  {
   "cell_type": "markdown",
   "metadata": {},
   "source": [
    "分析结果：\n",
    "图一可以看出，前三个月销量非常高，然后立马陡降，后面销量较为稳定，一直在6000-7000左右来回波动，并且稍微呈现下降趋势\n",
    "图二可以看出,依然前三个月消费金额较高，与消费数量成正比例关系，三月份过后下降严重，并呈现下降趋势，思考原因：可能与月份有关，\n",
    "因为在我国，1-3月份处于春节前后，人们都放假且有年终奖，购买力和购买意愿都较高。2.公司在1-3月份的时候可能加大了促销力度\n",
    "图三可以看出，前三个月订单数在10000左右，后续月份的平均消费单数在2500左右\n",
    "图四可以看出，前三个月消费人数在8000~10000左右，后续平均消费消费在2000不到的样子\n",
    "总结：所有数据显示，前三月消费事态异常，后续趋于常态化"
   ]
  },
  {
   "cell_type": "markdown",
   "metadata": {},
   "source": [
    "### 2.用户个体消费分析"
   ]
  },
  {
   "cell_type": "markdown",
   "metadata": {},
   "source": [
    "###### 2.1用户消费金额，消费次数(产品数量)描述统计"
   ]
  },
  {
   "cell_type": "code",
   "execution_count": 7,
   "metadata": {},
   "outputs": [
    {
     "name": "stdout",
     "output_type": "stream",
     "text": [
      "           order_dt  order_products  order_amount\n",
      "count  2.357000e+04    23570.000000  23570.000000\n",
      "mean   5.902627e+07        7.122656    106.080426\n",
      "std    9.460684e+07       16.983531    240.925195\n",
      "min    1.997010e+07        1.000000      0.000000\n",
      "25%    1.997021e+07        1.000000     19.970000\n",
      "50%    1.997032e+07        3.000000     43.395000\n",
      "75%    5.992125e+07        7.000000    106.475000\n",
      "max    4.334408e+09     1033.000000  13990.930000\n",
      "用户数量: 23570\n"
     ]
    }
   ],
   "source": [
    "user_grouped = df.groupby(by='user_id').sum()\n",
    "print(user_grouped.describe())\n",
    "print('用户数量:',len(user_grouped))"
   ]
  },
  {
   "cell_type": "markdown",
   "metadata": {},
   "source": [
    "从用户的角度：用户数量23570个，每个用户平均购买7个CD，但是中位数只有3,并且最大购买量为1033，平均值大于中位数，属于典型的右偏分布\n",
    "从消费金额角度：平均用户消费106，中位数43，并且存在高消费用户，结合分位数和最大值来看，平均数与75%分位数几乎相等，属于典型的右偏分布，说明存在小部分用户（后面的25%）高额消费"
   ]
  },
  {
   "cell_type": "code",
   "execution_count": 8,
   "metadata": {},
   "outputs": [
    {
     "data": {
      "text/plain": [
       "<matplotlib.axes._subplots.AxesSubplot at 0x2a9968a1288>"
      ]
     },
     "execution_count": 8,
     "metadata": {},
     "output_type": "execute_result"
    },
    {
     "data": {
      "image/png": "[encoded data removed]",
      "text/plain": [
       "<Figure size 432x288 with 1 Axes>"
      ]
     },
     "metadata": {},
     "output_type": "display_data"
    }
   ],
   "source": [
    "#绘制每个用户的产品的购买量与消费金额散点图\n",
    "df.plot(kind='scatter',x='order_products',y='order_amount')"
   ]
  },
  {
   "cell_type": "markdown",
   "metadata": {},
   "source": [
    "从图中可知，用户的消费金额与购买量呈现线性趋势，每个商品均价15左右\n",
    "订单的极值点比较少（消费金额>1000，或者购买量大于60）,对于样本来说影响不大，可以忽略不记。"
   ]
  },
  {
   "cell_type": "markdown",
   "metadata": {},
   "source": [
    "###### 2.2用户消费分布图"
   ]
  },
  {
   "cell_type": "code",
   "execution_count": 9,
   "metadata": {},
   "outputs": [
    {
     "data": {
      "text/plain": [
       "<matplotlib.axes._subplots.AxesSubplot at 0x2a996924ac8>"
      ]
     },
     "execution_count": 9,
     "metadata": {},
     "output_type": "execute_result"
    },
    {
     "data": {
      "image/png": "[encoded data removed]",
      "text/plain": [
       "<Figure size 864x288 with 2 Axes>"
      ]
     },
     "metadata": {},
     "output_type": "display_data"
    }
   ],
   "source": [
    "plt.figure(figsize=(12,4)) \n",
    "plt.subplot(121)\n",
    "plt.xlabel('每个订单的消费金额')\n",
    "df['order_amount'].plot(kind='hist',bins=50)\n",
    "\n",
    "plt.subplot(122)\n",
    "plt.xlabel('每个uid购买的数量')\n",
    "df.groupby(by='user_id')['order_products'].sum().plot(kind='hist',bins=50)\n"
   ]
  },
  {
   "cell_type": "markdown",
   "metadata": {},
   "source": [
    "由图一可知，消费金额在100以内的订单占据了绝大多数，由图二可知，每个用户购买数量非常小，集中在50以内\n",
    "两幅图得知，主要是消费金额低，并且购买小于50的用户人数占据大多数"
   ]
  },
  {
   "cell_type": "markdown",
   "metadata": {},
   "source": [
    "###### 2.3用户累计消费金额占比分析（用户的贡献度）"
   ]
  },
  {
   "cell_type": "code",
   "execution_count": 10,
   "metadata": {},
   "outputs": [
    {
     "data": {
      "text/html": [
       "<div>\n",
       "<style scoped>\n",
       "    .dataframe tbody tr th:only-of-type {\n",
       "        vertical-align: middle;\n",
       "    }\n",
       "\n",
       "    .dataframe tbody tr th {\n",
       "        vertical-align: top;\n",
       "    }\n",
       "\n",
       "    .dataframe thead th {\n",
       "        text-align: right;\n",
       "    }\n",
       "</style>\n",
       "<table border=\"1\" class=\"dataframe\">\n",
       "  <thead>\n",
       "    <tr style=\"text-align: right;\">\n",
       "      <th></th>\n",
       "      <th>user_id</th>\n",
       "      <th>order_amount</th>\n",
       "    </tr>\n",
       "  </thead>\n",
       "  <tbody>\n",
       "    <tr>\n",
       "      <th>0</th>\n",
       "      <td>10175</td>\n",
       "      <td>0.00</td>\n",
       "    </tr>\n",
       "    <tr>\n",
       "      <th>1</th>\n",
       "      <td>4559</td>\n",
       "      <td>0.00</td>\n",
       "    </tr>\n",
       "    <tr>\n",
       "      <th>2</th>\n",
       "      <td>1948</td>\n",
       "      <td>0.00</td>\n",
       "    </tr>\n",
       "    <tr>\n",
       "      <th>3</th>\n",
       "      <td>925</td>\n",
       "      <td>0.00</td>\n",
       "    </tr>\n",
       "    <tr>\n",
       "      <th>4</th>\n",
       "      <td>10798</td>\n",
       "      <td>0.00</td>\n",
       "    </tr>\n",
       "    <tr>\n",
       "      <th>...</th>\n",
       "      <td>...</td>\n",
       "      <td>...</td>\n",
       "    </tr>\n",
       "    <tr>\n",
       "      <th>23565</th>\n",
       "      <td>7931</td>\n",
       "      <td>6497.18</td>\n",
       "    </tr>\n",
       "    <tr>\n",
       "      <th>23566</th>\n",
       "      <td>19339</td>\n",
       "      <td>6552.70</td>\n",
       "    </tr>\n",
       "    <tr>\n",
       "      <th>23567</th>\n",
       "      <td>7983</td>\n",
       "      <td>6973.07</td>\n",
       "    </tr>\n",
       "    <tr>\n",
       "      <th>23568</th>\n",
       "      <td>14048</td>\n",
       "      <td>8976.33</td>\n",
       "    </tr>\n",
       "    <tr>\n",
       "      <th>23569</th>\n",
       "      <td>7592</td>\n",
       "      <td>13990.93</td>\n",
       "    </tr>\n",
       "  </tbody>\n",
       "</table>\n",
       "<p>23570 rows × 2 columns</p>\n",
       "</div>"
      ],
      "text/plain": [
       "       user_id  order_amount\n",
       "0        10175          0.00\n",
       "1         4559          0.00\n",
       "2         1948          0.00\n",
       "3          925          0.00\n",
       "4        10798          0.00\n",
       "...        ...           ...\n",
       "23565     7931       6497.18\n",
       "23566    19339       6552.70\n",
       "23567     7983       6973.07\n",
       "23568    14048       8976.33\n",
       "23569     7592      13990.93\n",
       "\n",
       "[23570 rows x 2 columns]"
      ]
     },
     "execution_count": 10,
     "metadata": {},
     "output_type": "execute_result"
    }
   ],
   "source": [
    "#进行用户分组，取出消费金额，进行求和，排序，重置索引\n",
    "user_cumsum = df.groupby(by='user_id')['order_amount'].sum().sort_values().reset_index()\n",
    "user_cumsum"
   ]
  },
  {
   "cell_type": "code",
   "execution_count": 11,
   "metadata": {},
   "outputs": [
    {
     "data": {
      "text/html": [
       "<div>\n",
       "<style scoped>\n",
       "    .dataframe tbody tr th:only-of-type {\n",
       "        vertical-align: middle;\n",
       "    }\n",
       "\n",
       "    .dataframe tbody tr th {\n",
       "        vertical-align: top;\n",
       "    }\n",
       "\n",
       "    .dataframe thead th {\n",
       "        text-align: right;\n",
       "    }\n",
       "</style>\n",
       "<table border=\"1\" class=\"dataframe\">\n",
       "  <thead>\n",
       "    <tr style=\"text-align: right;\">\n",
       "      <th></th>\n",
       "      <th>user_id</th>\n",
       "      <th>order_amount</th>\n",
       "      <th>amount_cumsum</th>\n",
       "    </tr>\n",
       "  </thead>\n",
       "  <tbody>\n",
       "    <tr>\n",
       "      <th>23565</th>\n",
       "      <td>7931</td>\n",
       "      <td>6497.18</td>\n",
       "      <td>2463822.60</td>\n",
       "    </tr>\n",
       "    <tr>\n",
       "      <th>23566</th>\n",
       "      <td>19339</td>\n",
       "      <td>6552.70</td>\n",
       "      <td>2470375.30</td>\n",
       "    </tr>\n",
       "    <tr>\n",
       "      <th>23567</th>\n",
       "      <td>7983</td>\n",
       "      <td>6973.07</td>\n",
       "      <td>2477348.37</td>\n",
       "    </tr>\n",
       "    <tr>\n",
       "      <th>23568</th>\n",
       "      <td>14048</td>\n",
       "      <td>8976.33</td>\n",
       "      <td>2486324.70</td>\n",
       "    </tr>\n",
       "    <tr>\n",
       "      <th>23569</th>\n",
       "      <td>7592</td>\n",
       "      <td>13990.93</td>\n",
       "      <td>2500315.63</td>\n",
       "    </tr>\n",
       "  </tbody>\n",
       "</table>\n",
       "</div>"
      ],
      "text/plain": [
       "       user_id  order_amount  amount_cumsum\n",
       "23565     7931       6497.18     2463822.60\n",
       "23566    19339       6552.70     2470375.30\n",
       "23567     7983       6973.07     2477348.37\n",
       "23568    14048       8976.33     2486324.70\n",
       "23569     7592      13990.93     2500315.63"
      ]
     },
     "execution_count": 11,
     "metadata": {},
     "output_type": "execute_result"
    }
   ],
   "source": [
    "#每个用户消费金额累加\n",
    "user_cumsum['amount_cumsum'] = user_cumsum['order_amount'].cumsum()\n",
    "user_cumsum.tail()"
   ]
  },
  {
   "cell_type": "code",
   "execution_count": 12,
   "metadata": {},
   "outputs": [
    {
     "data": {
      "text/html": [
       "<div>\n",
       "<style scoped>\n",
       "    .dataframe tbody tr th:only-of-type {\n",
       "        vertical-align: middle;\n",
       "    }\n",
       "\n",
       "    .dataframe tbody tr th {\n",
       "        vertical-align: top;\n",
       "    }\n",
       "\n",
       "    .dataframe thead th {\n",
       "        text-align: right;\n",
       "    }\n",
       "</style>\n",
       "<table border=\"1\" class=\"dataframe\">\n",
       "  <thead>\n",
       "    <tr style=\"text-align: right;\">\n",
       "      <th></th>\n",
       "      <th>user_id</th>\n",
       "      <th>order_amount</th>\n",
       "      <th>amount_cumsum</th>\n",
       "      <th>prop</th>\n",
       "    </tr>\n",
       "  </thead>\n",
       "  <tbody>\n",
       "    <tr>\n",
       "      <th>23565</th>\n",
       "      <td>7931</td>\n",
       "      <td>6497.18</td>\n",
       "      <td>2463822.60</td>\n",
       "      <td>0.985405</td>\n",
       "    </tr>\n",
       "    <tr>\n",
       "      <th>23566</th>\n",
       "      <td>19339</td>\n",
       "      <td>6552.70</td>\n",
       "      <td>2470375.30</td>\n",
       "      <td>0.988025</td>\n",
       "    </tr>\n",
       "    <tr>\n",
       "      <th>23567</th>\n",
       "      <td>7983</td>\n",
       "      <td>6973.07</td>\n",
       "      <td>2477348.37</td>\n",
       "      <td>0.990814</td>\n",
       "    </tr>\n",
       "    <tr>\n",
       "      <th>23568</th>\n",
       "      <td>14048</td>\n",
       "      <td>8976.33</td>\n",
       "      <td>2486324.70</td>\n",
       "      <td>0.994404</td>\n",
       "    </tr>\n",
       "    <tr>\n",
       "      <th>23569</th>\n",
       "      <td>7592</td>\n",
       "      <td>13990.93</td>\n",
       "      <td>2500315.63</td>\n",
       "      <td>1.000000</td>\n",
       "    </tr>\n",
       "  </tbody>\n",
       "</table>\n",
       "</div>"
      ],
      "text/plain": [
       "       user_id  order_amount  amount_cumsum      prop\n",
       "23565     7931       6497.18     2463822.60  0.985405\n",
       "23566    19339       6552.70     2470375.30  0.988025\n",
       "23567     7983       6973.07     2477348.37  0.990814\n",
       "23568    14048       8976.33     2486324.70  0.994404\n",
       "23569     7592      13990.93     2500315.63  1.000000"
      ]
     },
     "execution_count": 12,
     "metadata": {},
     "output_type": "execute_result"
    }
   ],
   "source": [
    "amount_total = user_cumsum['amount_cumsum'].max() #消费金额总值\n",
    "user_cumsum['prop'] = user_cumsum.apply(lambda x:x['amount_cumsum']/amount_total,axis=1)  #前xx名用户的总贡献率\n",
    "user_cumsum.tail()"
   ]
  },
  {
   "cell_type": "code",
   "execution_count": 13,
   "metadata": {},
   "outputs": [
    {
     "data": {
      "text/plain": [
       "<matplotlib.axes._subplots.AxesSubplot at 0x2a996aec988>"
      ]
     },
     "execution_count": 13,
     "metadata": {},
     "output_type": "execute_result"
    },
    {
     "data": {
      "image/png": "[encoded data removed]",
      "text/plain": [
       "<Figure size 432x288 with 1 Axes>"
      ]
     },
     "metadata": {},
     "output_type": "display_data"
    }
   ],
   "source": [
    "user_cumsum['prop'].plot()"
   ]
  },
  {
   "cell_type": "markdown",
   "metadata": {},
   "source": [
    "由图分析可知，前20000名用户贡献总金额的40%，剩余3500名用户贡献了60%。（2/8原则）"
   ]
  },
  {
   "cell_type": "markdown",
   "metadata": {},
   "source": [
    "### 3.用户消费行为"
   ]
  },
  {
   "cell_type": "markdown",
   "metadata": {},
   "source": [
    "###### 3.1首购时间"
   ]
  },
  {
   "cell_type": "code",
   "execution_count": 14,
   "metadata": {},
   "outputs": [
    {
     "data": {
      "text/plain": [
       "<matplotlib.axes._subplots.AxesSubplot at 0x2a996b76c88>"
      ]
     },
     "execution_count": 14,
     "metadata": {},
     "output_type": "execute_result"
    },
    {
     "data": {
      "image/png": "[encoded data removed]",
      "text/plain": [
       "<Figure size 432x288 with 1 Axes>"
      ]
     },
     "metadata": {},
     "output_type": "display_data"
    }
   ],
   "source": [
    "#用户分组，取最小值，即为首购时间，\n",
    "df.groupby(by='user_id')['order_date'].min().value_counts().plot()"
   ]
  },
  {
   "cell_type": "markdown",
   "metadata": {},
   "source": [
    "由图可知，首次购买的用户量在1月1号~2月10号呈明显上升趋势，后续开始逐步下降，猜测：有可能是公司产品的推广力度或者价格调整所致"
   ]
  },
  {
   "cell_type": "markdown",
   "metadata": {},
   "source": [
    "###### 3.2 最后一次购买时间"
   ]
  },
  {
   "cell_type": "code",
   "execution_count": 15,
   "metadata": {},
   "outputs": [
    {
     "data": {
      "text/plain": [
       "<matplotlib.axes._subplots.AxesSubplot at 0x2a996d63508>"
      ]
     },
     "execution_count": 15,
     "metadata": {},
     "output_type": "execute_result"
    },
    {
     "data": {
      "image/png": "[encoded data removed]",
      "text/plain": [
       "<Figure size 432x288 with 1 Axes>"
      ]
     },
     "metadata": {},
     "output_type": "display_data"
    }
   ],
   "source": [
    "df.groupby(by='user_id')['order_date'].max().value_counts().plot()"
   ]
  },
  {
   "cell_type": "markdown",
   "metadata": {},
   "source": [
    "大多数用户最后一次购买时间集中在前3个月，说明缺少忠诚用户。\n",
    "随着时间的推移，最后一次购买商品的用户量呈现上升趋势，猜测：这份数据选择是的前三个月消费的用户在后面18个月的跟踪记录"
   ]
  },
  {
   "cell_type": "markdown",
   "metadata": {},
   "source": [
    "## 用户分层"
   ]
  },
  {
   "cell_type": "markdown",
   "metadata": {},
   "source": [
    "### 1.构建RFM模型"
   ]
  },
  {
   "cell_type": "code",
   "execution_count": 16,
   "metadata": {},
   "outputs": [
    {
     "data": {
      "text/html": [
       "<div>\n",
       "<style scoped>\n",
       "    .dataframe tbody tr th:only-of-type {\n",
       "        vertical-align: middle;\n",
       "    }\n",
       "\n",
       "    .dataframe tbody tr th {\n",
       "        vertical-align: top;\n",
       "    }\n",
       "\n",
       "    .dataframe thead th {\n",
       "        text-align: right;\n",
       "    }\n",
       "</style>\n",
       "<table border=\"1\" class=\"dataframe\">\n",
       "  <thead>\n",
       "    <tr style=\"text-align: right;\">\n",
       "      <th></th>\n",
       "      <th>order_amount</th>\n",
       "      <th>order_date</th>\n",
       "      <th>order_products</th>\n",
       "    </tr>\n",
       "    <tr>\n",
       "      <th>user_id</th>\n",
       "      <th></th>\n",
       "      <th></th>\n",
       "      <th></th>\n",
       "    </tr>\n",
       "  </thead>\n",
       "  <tbody>\n",
       "    <tr>\n",
       "      <th>1</th>\n",
       "      <td>11.77</td>\n",
       "      <td>1997-01-01</td>\n",
       "      <td>1</td>\n",
       "    </tr>\n",
       "    <tr>\n",
       "      <th>2</th>\n",
       "      <td>89.00</td>\n",
       "      <td>1997-01-12</td>\n",
       "      <td>6</td>\n",
       "    </tr>\n",
       "    <tr>\n",
       "      <th>3</th>\n",
       "      <td>156.46</td>\n",
       "      <td>1998-05-28</td>\n",
       "      <td>16</td>\n",
       "    </tr>\n",
       "    <tr>\n",
       "      <th>4</th>\n",
       "      <td>100.50</td>\n",
       "      <td>1997-12-12</td>\n",
       "      <td>7</td>\n",
       "    </tr>\n",
       "    <tr>\n",
       "      <th>5</th>\n",
       "      <td>385.61</td>\n",
       "      <td>1998-01-03</td>\n",
       "      <td>29</td>\n",
       "    </tr>\n",
       "  </tbody>\n",
       "</table>\n",
       "</div>"
      ],
      "text/plain": [
       "         order_amount order_date  order_products\n",
       "user_id                                         \n",
       "1               11.77 1997-01-01               1\n",
       "2               89.00 1997-01-12               6\n",
       "3              156.46 1998-05-28              16\n",
       "4              100.50 1997-12-12               7\n",
       "5              385.61 1998-01-03              29"
      ]
     },
     "execution_count": 16,
     "metadata": {},
     "output_type": "execute_result"
    }
   ],
   "source": [
    "#创建透视表\n",
    "rfm = df.pivot_table(index='user_id',\n",
    "                    values=['order_products','order_amount','order_date'],\n",
    "                    aggfunc={\n",
    "                        'order_date':'max',# 最后一次购买\n",
    "                        'order_products':'sum',# 购买产品的总数量\n",
    "                        'order_amount':'sum'  #消费总金额\n",
    "                        })\n",
    "rfm.head()"
   ]
  },
  {
   "cell_type": "code",
   "execution_count": 17,
   "metadata": {},
   "outputs": [
    {
     "data": {
      "text/plain": [
       "Timestamp('1998-06-30 00:00:00')"
      ]
     },
     "execution_count": 17,
     "metadata": {},
     "output_type": "execute_result"
    }
   ],
   "source": [
    "rfm['order_date'].max()"
   ]
  },
  {
   "cell_type": "code",
   "execution_count": 18,
   "metadata": {},
   "outputs": [
    {
     "data": {
      "text/html": [
       "<div>\n",
       "<style scoped>\n",
       "    .dataframe tbody tr th:only-of-type {\n",
       "        vertical-align: middle;\n",
       "    }\n",
       "\n",
       "    .dataframe tbody tr th {\n",
       "        vertical-align: top;\n",
       "    }\n",
       "\n",
       "    .dataframe thead th {\n",
       "        text-align: right;\n",
       "    }\n",
       "</style>\n",
       "<table border=\"1\" class=\"dataframe\">\n",
       "  <thead>\n",
       "    <tr style=\"text-align: right;\">\n",
       "      <th></th>\n",
       "      <th>M</th>\n",
       "      <th>order_date</th>\n",
       "      <th>F</th>\n",
       "      <th>R</th>\n",
       "    </tr>\n",
       "    <tr>\n",
       "      <th>user_id</th>\n",
       "      <th></th>\n",
       "      <th></th>\n",
       "      <th></th>\n",
       "      <th></th>\n",
       "    </tr>\n",
       "  </thead>\n",
       "  <tbody>\n",
       "    <tr>\n",
       "      <th>1</th>\n",
       "      <td>11.77</td>\n",
       "      <td>1997-01-01</td>\n",
       "      <td>1</td>\n",
       "      <td>545.0</td>\n",
       "    </tr>\n",
       "    <tr>\n",
       "      <th>2</th>\n",
       "      <td>89.00</td>\n",
       "      <td>1997-01-12</td>\n",
       "      <td>6</td>\n",
       "      <td>534.0</td>\n",
       "    </tr>\n",
       "    <tr>\n",
       "      <th>3</th>\n",
       "      <td>156.46</td>\n",
       "      <td>1998-05-28</td>\n",
       "      <td>16</td>\n",
       "      <td>33.0</td>\n",
       "    </tr>\n",
       "    <tr>\n",
       "      <th>4</th>\n",
       "      <td>100.50</td>\n",
       "      <td>1997-12-12</td>\n",
       "      <td>7</td>\n",
       "      <td>200.0</td>\n",
       "    </tr>\n",
       "    <tr>\n",
       "      <th>5</th>\n",
       "      <td>385.61</td>\n",
       "      <td>1998-01-03</td>\n",
       "      <td>29</td>\n",
       "      <td>178.0</td>\n",
       "    </tr>\n",
       "  </tbody>\n",
       "</table>\n",
       "</div>"
      ],
      "text/plain": [
       "              M order_date   F      R\n",
       "user_id                              \n",
       "1         11.77 1997-01-01   1  545.0\n",
       "2         89.00 1997-01-12   6  534.0\n",
       "3        156.46 1998-05-28  16   33.0\n",
       "4        100.50 1997-12-12   7  200.0\n",
       "5        385.61 1998-01-03  29  178.0"
      ]
     },
     "execution_count": 18,
     "metadata": {},
     "output_type": "execute_result"
    }
   ],
   "source": [
    "# 用每个用户的最后一次购买时间-日期列中的最大值，最后再转换成天数，小数保留一位\n",
    "rfm['R'] = -(rfm['order_date']-rfm['order_date'].max())/np.timedelta64(1,'D')  #取相差的天数，保留一位小数\n",
    "rfm.rename(columns={'order_products':'F','order_amount':'M'},inplace=True)\n",
    "rfm.head()"
   ]
  },
  {
   "cell_type": "code",
   "execution_count": 19,
   "metadata": {},
   "outputs": [
    {
     "data": {
      "text/html": [
       "<div>\n",
       "<style scoped>\n",
       "    .dataframe tbody tr th:only-of-type {\n",
       "        vertical-align: middle;\n",
       "    }\n",
       "\n",
       "    .dataframe tbody tr th {\n",
       "        vertical-align: top;\n",
       "    }\n",
       "\n",
       "    .dataframe thead th {\n",
       "        text-align: right;\n",
       "    }\n",
       "</style>\n",
       "<table border=\"1\" class=\"dataframe\">\n",
       "  <thead>\n",
       "    <tr style=\"text-align: right;\">\n",
       "      <th></th>\n",
       "      <th>M</th>\n",
       "      <th>order_date</th>\n",
       "      <th>F</th>\n",
       "      <th>R</th>\n",
       "      <th>label</th>\n",
       "    </tr>\n",
       "    <tr>\n",
       "      <th>user_id</th>\n",
       "      <th></th>\n",
       "      <th></th>\n",
       "      <th></th>\n",
       "      <th></th>\n",
       "      <th></th>\n",
       "    </tr>\n",
       "  </thead>\n",
       "  <tbody>\n",
       "    <tr>\n",
       "      <th>1</th>\n",
       "      <td>11.77</td>\n",
       "      <td>1997-01-01</td>\n",
       "      <td>1</td>\n",
       "      <td>545.0</td>\n",
       "      <td>一般发展客户</td>\n",
       "    </tr>\n",
       "    <tr>\n",
       "      <th>2</th>\n",
       "      <td>89.00</td>\n",
       "      <td>1997-01-12</td>\n",
       "      <td>6</td>\n",
       "      <td>534.0</td>\n",
       "      <td>一般发展客户</td>\n",
       "    </tr>\n",
       "    <tr>\n",
       "      <th>3</th>\n",
       "      <td>156.46</td>\n",
       "      <td>1998-05-28</td>\n",
       "      <td>16</td>\n",
       "      <td>33.0</td>\n",
       "      <td>重要保持客户</td>\n",
       "    </tr>\n",
       "    <tr>\n",
       "      <th>4</th>\n",
       "      <td>100.50</td>\n",
       "      <td>1997-12-12</td>\n",
       "      <td>7</td>\n",
       "      <td>200.0</td>\n",
       "      <td>一般挽留客户</td>\n",
       "    </tr>\n",
       "    <tr>\n",
       "      <th>5</th>\n",
       "      <td>385.61</td>\n",
       "      <td>1998-01-03</td>\n",
       "      <td>29</td>\n",
       "      <td>178.0</td>\n",
       "      <td>重要保持客户</td>\n",
       "    </tr>\n",
       "  </tbody>\n",
       "</table>\n",
       "</div>"
      ],
      "text/plain": [
       "              M order_date   F      R   label\n",
       "user_id                                      \n",
       "1         11.77 1997-01-01   1  545.0  一般发展客户\n",
       "2         89.00 1997-01-12   6  534.0  一般发展客户\n",
       "3        156.46 1998-05-28  16   33.0  重要保持客户\n",
       "4        100.50 1997-12-12   7  200.0  一般挽留客户\n",
       "5        385.61 1998-01-03  29  178.0  重要保持客户"
      ]
     },
     "execution_count": 19,
     "metadata": {},
     "output_type": "execute_result"
    }
   ],
   "source": [
    "#RFM计算方式：每一列数据减去数据所在列的平均值，有正有负，根据结果值与1做比较，如果>=1,设置为1，否则0\n",
    "def rfm_func(x):  #x:分别代表每一列数据\n",
    "    level = x.apply(lambda x:'1' if x>=1 else '0')\n",
    "    label = level['R'] + level['F'] + level['M']  #举例：100    001\n",
    "    d = {\n",
    "        '111':'重要价值客户',\n",
    "        '011':'重要保持客户',\n",
    "        '101':'重要发展客户',\n",
    "        '001':'重要挽留客户',\n",
    "        '110':'一般价值客户',\n",
    "        '010':'一般保持客户',\n",
    "        '100':'一般发展客户',\n",
    "        '000':'一般挽留客户'\n",
    "        \n",
    "    }\n",
    "    result = d[label]\n",
    "    return result\n",
    "# rfm['R']-rfm['R'].mean()\n",
    "rfm['label'] = rfm[['R','F','M']].apply(lambda x:x-x.mean()).apply(rfm_func,axis =1)\n",
    "rfm.head()"
   ]
  },
  {
   "cell_type": "code",
   "execution_count": 20,
   "metadata": {},
   "outputs": [
    {
     "data": {
      "text/plain": [
       "Text(0, 0.5, 'R')"
      ]
     },
     "execution_count": 20,
     "metadata": {},
     "output_type": "execute_result"
    },
    {
     "data": {
      "image/png": "[encoded data removed]",
      "text/plain": [
       "<Figure size 432x288 with 1 Axes>"
      ]
     },
     "metadata": {},
     "output_type": "display_data"
    }
   ],
   "source": [
    "#客户分层可视化\n",
    "for label,grouped in rfm.groupby(by='label'):\n",
    "#     print(label,grouped)\n",
    "    x = grouped['F']  # 单个用户的购买数量\n",
    "    y = grouped['R']  #最近一次购买时间与98年7月的相差天数\n",
    "    plt.scatter(x,y,label=label)\n",
    "plt.legend()  #显示图例\n",
    "plt.xlabel('F')\n",
    "plt.ylabel('R')"
   ]
  },
  {
   "cell_type": "markdown",
   "metadata": {},
   "source": [
    "### 新用户、老用户、活跃用户、回流用户分析"
   ]
  },
  {
   "cell_type": "markdown",
   "metadata": {},
   "source": [
    "- 新用户的定义是第一次消费。\n",
    "- 活跃用户即老客户，在某一个时间窗口内有过消费。\n",
    "- 不活跃用户则是时间窗口内没有消费过的老客。\n",
    "- 回流用户：相当于回头客的意思，过了一段时间再次消费。"
   ]
  },
  {
   "cell_type": "code",
   "execution_count": 21,
   "metadata": {},
   "outputs": [
    {
     "data": {
      "text/html": [
       "<div>\n",
       "<style scoped>\n",
       "    .dataframe tbody tr th:only-of-type {\n",
       "        vertical-align: middle;\n",
       "    }\n",
       "\n",
       "    .dataframe tbody tr th {\n",
       "        vertical-align: top;\n",
       "    }\n",
       "\n",
       "    .dataframe thead th {\n",
       "        text-align: right;\n",
       "    }\n",
       "</style>\n",
       "<table border=\"1\" class=\"dataframe\">\n",
       "  <thead>\n",
       "    <tr style=\"text-align: right;\">\n",
       "      <th>month</th>\n",
       "      <th>1997-01-01</th>\n",
       "      <th>1997-02-01</th>\n",
       "      <th>1997-03-01</th>\n",
       "      <th>1997-04-01</th>\n",
       "      <th>1997-05-01</th>\n",
       "      <th>1997-06-01</th>\n",
       "      <th>1997-07-01</th>\n",
       "      <th>1997-08-01</th>\n",
       "      <th>1997-09-01</th>\n",
       "      <th>1997-10-01</th>\n",
       "      <th>1997-11-01</th>\n",
       "      <th>1997-12-01</th>\n",
       "      <th>1998-01-01</th>\n",
       "      <th>1998-02-01</th>\n",
       "      <th>1998-03-01</th>\n",
       "      <th>1998-04-01</th>\n",
       "      <th>1998-05-01</th>\n",
       "      <th>1998-06-01</th>\n",
       "    </tr>\n",
       "    <tr>\n",
       "      <th>user_id</th>\n",
       "      <th></th>\n",
       "      <th></th>\n",
       "      <th></th>\n",
       "      <th></th>\n",
       "      <th></th>\n",
       "      <th></th>\n",
       "      <th></th>\n",
       "      <th></th>\n",
       "      <th></th>\n",
       "      <th></th>\n",
       "      <th></th>\n",
       "      <th></th>\n",
       "      <th></th>\n",
       "      <th></th>\n",
       "      <th></th>\n",
       "      <th></th>\n",
       "      <th></th>\n",
       "      <th></th>\n",
       "    </tr>\n",
       "  </thead>\n",
       "  <tbody>\n",
       "    <tr>\n",
       "      <th>1</th>\n",
       "      <td>1.0</td>\n",
       "      <td>0.0</td>\n",
       "      <td>0.0</td>\n",
       "      <td>0.0</td>\n",
       "      <td>0.0</td>\n",
       "      <td>0.0</td>\n",
       "      <td>0.0</td>\n",
       "      <td>0.0</td>\n",
       "      <td>0.0</td>\n",
       "      <td>0.0</td>\n",
       "      <td>0.0</td>\n",
       "      <td>0.0</td>\n",
       "      <td>0.0</td>\n",
       "      <td>0.0</td>\n",
       "      <td>0.0</td>\n",
       "      <td>0.0</td>\n",
       "      <td>0.0</td>\n",
       "      <td>0.0</td>\n",
       "    </tr>\n",
       "    <tr>\n",
       "      <th>2</th>\n",
       "      <td>2.0</td>\n",
       "      <td>0.0</td>\n",
       "      <td>0.0</td>\n",
       "      <td>0.0</td>\n",
       "      <td>0.0</td>\n",
       "      <td>0.0</td>\n",
       "      <td>0.0</td>\n",
       "      <td>0.0</td>\n",
       "      <td>0.0</td>\n",
       "      <td>0.0</td>\n",
       "      <td>0.0</td>\n",
       "      <td>0.0</td>\n",
       "      <td>0.0</td>\n",
       "      <td>0.0</td>\n",
       "      <td>0.0</td>\n",
       "      <td>0.0</td>\n",
       "      <td>0.0</td>\n",
       "      <td>0.0</td>\n",
       "    </tr>\n",
       "    <tr>\n",
       "      <th>3</th>\n",
       "      <td>1.0</td>\n",
       "      <td>0.0</td>\n",
       "      <td>1.0</td>\n",
       "      <td>1.0</td>\n",
       "      <td>0.0</td>\n",
       "      <td>0.0</td>\n",
       "      <td>0.0</td>\n",
       "      <td>0.0</td>\n",
       "      <td>0.0</td>\n",
       "      <td>0.0</td>\n",
       "      <td>2.0</td>\n",
       "      <td>0.0</td>\n",
       "      <td>0.0</td>\n",
       "      <td>0.0</td>\n",
       "      <td>0.0</td>\n",
       "      <td>0.0</td>\n",
       "      <td>1.0</td>\n",
       "      <td>0.0</td>\n",
       "    </tr>\n",
       "    <tr>\n",
       "      <th>4</th>\n",
       "      <td>2.0</td>\n",
       "      <td>0.0</td>\n",
       "      <td>0.0</td>\n",
       "      <td>0.0</td>\n",
       "      <td>0.0</td>\n",
       "      <td>0.0</td>\n",
       "      <td>0.0</td>\n",
       "      <td>1.0</td>\n",
       "      <td>0.0</td>\n",
       "      <td>0.0</td>\n",
       "      <td>0.0</td>\n",
       "      <td>1.0</td>\n",
       "      <td>0.0</td>\n",
       "      <td>0.0</td>\n",
       "      <td>0.0</td>\n",
       "      <td>0.0</td>\n",
       "      <td>0.0</td>\n",
       "      <td>0.0</td>\n",
       "    </tr>\n",
       "    <tr>\n",
       "      <th>5</th>\n",
       "      <td>2.0</td>\n",
       "      <td>1.0</td>\n",
       "      <td>0.0</td>\n",
       "      <td>1.0</td>\n",
       "      <td>1.0</td>\n",
       "      <td>1.0</td>\n",
       "      <td>1.0</td>\n",
       "      <td>0.0</td>\n",
       "      <td>1.0</td>\n",
       "      <td>0.0</td>\n",
       "      <td>0.0</td>\n",
       "      <td>2.0</td>\n",
       "      <td>1.0</td>\n",
       "      <td>0.0</td>\n",
       "      <td>0.0</td>\n",
       "      <td>0.0</td>\n",
       "      <td>0.0</td>\n",
       "      <td>0.0</td>\n",
       "    </tr>\n",
       "  </tbody>\n",
       "</table>\n",
       "</div>"
      ],
      "text/plain": [
       "month    1997-01-01  1997-02-01  1997-03-01  1997-04-01  1997-05-01  \\\n",
       "user_id                                                               \n",
       "1               1.0         0.0         0.0         0.0         0.0   \n",
       "2               2.0         0.0         0.0         0.0         0.0   \n",
       "3               1.0         0.0         1.0         1.0         0.0   \n",
       "4               2.0         0.0         0.0         0.0         0.0   \n",
       "5               2.0         1.0         0.0         1.0         1.0   \n",
       "\n",
       "month    1997-06-01  1997-07-01  1997-08-01  1997-09-01  1997-10-01  \\\n",
       "user_id                                                               \n",
       "1               0.0         0.0         0.0         0.0         0.0   \n",
       "2               0.0         0.0         0.0         0.0         0.0   \n",
       "3               0.0         0.0         0.0         0.0         0.0   \n",
       "4               0.0         0.0         1.0         0.0         0.0   \n",
       "5               1.0         1.0         0.0         1.0         0.0   \n",
       "\n",
       "month    1997-11-01  1997-12-01  1998-01-01  1998-02-01  1998-03-01  \\\n",
       "user_id                                                               \n",
       "1               0.0         0.0         0.0         0.0         0.0   \n",
       "2               0.0         0.0         0.0         0.0         0.0   \n",
       "3               2.0         0.0         0.0         0.0         0.0   \n",
       "4               0.0         1.0         0.0         0.0         0.0   \n",
       "5               0.0         2.0         1.0         0.0         0.0   \n",
       "\n",
       "month    1998-04-01  1998-05-01  1998-06-01  \n",
       "user_id                                      \n",
       "1               0.0         0.0         0.0  \n",
       "2               0.0         0.0         0.0  \n",
       "3               0.0         1.0         0.0  \n",
       "4               0.0         0.0         0.0  \n",
       "5               0.0         0.0         0.0  "
      ]
     },
     "execution_count": 21,
     "metadata": {},
     "output_type": "execute_result"
    }
   ],
   "source": [
    "#创建透视表\n",
    "pivoted_counts = df.pivot_table(\n",
    "                index='user_id',\n",
    "                columns ='month',\n",
    "                values = 'order_dt',\n",
    "                aggfunc = 'count'\n",
    ").fillna(0)\n",
    "pivoted_counts.head()"
   ]
  },
  {
   "cell_type": "code",
   "execution_count": 22,
   "metadata": {},
   "outputs": [
    {
     "data": {
      "text/html": [
       "<div>\n",
       "<style scoped>\n",
       "    .dataframe tbody tr th:only-of-type {\n",
       "        vertical-align: middle;\n",
       "    }\n",
       "\n",
       "    .dataframe tbody tr th {\n",
       "        vertical-align: top;\n",
       "    }\n",
       "\n",
       "    .dataframe thead th {\n",
       "        text-align: right;\n",
       "    }\n",
       "</style>\n",
       "<table border=\"1\" class=\"dataframe\">\n",
       "  <thead>\n",
       "    <tr style=\"text-align: right;\">\n",
       "      <th>month</th>\n",
       "      <th>1997-01-01</th>\n",
       "      <th>1997-02-01</th>\n",
       "      <th>1997-03-01</th>\n",
       "      <th>1997-04-01</th>\n",
       "      <th>1997-05-01</th>\n",
       "      <th>1997-06-01</th>\n",
       "      <th>1997-07-01</th>\n",
       "      <th>1997-08-01</th>\n",
       "      <th>1997-09-01</th>\n",
       "      <th>1997-10-01</th>\n",
       "      <th>1997-11-01</th>\n",
       "      <th>1997-12-01</th>\n",
       "      <th>1998-01-01</th>\n",
       "      <th>1998-02-01</th>\n",
       "      <th>1998-03-01</th>\n",
       "      <th>1998-04-01</th>\n",
       "      <th>1998-05-01</th>\n",
       "      <th>1998-06-01</th>\n",
       "    </tr>\n",
       "    <tr>\n",
       "      <th>user_id</th>\n",
       "      <th></th>\n",
       "      <th></th>\n",
       "      <th></th>\n",
       "      <th></th>\n",
       "      <th></th>\n",
       "      <th></th>\n",
       "      <th></th>\n",
       "      <th></th>\n",
       "      <th></th>\n",
       "      <th></th>\n",
       "      <th></th>\n",
       "      <th></th>\n",
       "      <th></th>\n",
       "      <th></th>\n",
       "      <th></th>\n",
       "      <th></th>\n",
       "      <th></th>\n",
       "      <th></th>\n",
       "    </tr>\n",
       "  </thead>\n",
       "  <tbody>\n",
       "    <tr>\n",
       "      <th>1</th>\n",
       "      <td>1</td>\n",
       "      <td>0</td>\n",
       "      <td>0</td>\n",
       "      <td>0</td>\n",
       "      <td>0</td>\n",
       "      <td>0</td>\n",
       "      <td>0</td>\n",
       "      <td>0</td>\n",
       "      <td>0</td>\n",
       "      <td>0</td>\n",
       "      <td>0</td>\n",
       "      <td>0</td>\n",
       "      <td>0</td>\n",
       "      <td>0</td>\n",
       "      <td>0</td>\n",
       "      <td>0</td>\n",
       "      <td>0</td>\n",
       "      <td>0</td>\n",
       "    </tr>\n",
       "    <tr>\n",
       "      <th>2</th>\n",
       "      <td>1</td>\n",
       "      <td>0</td>\n",
       "      <td>0</td>\n",
       "      <td>0</td>\n",
       "      <td>0</td>\n",
       "      <td>0</td>\n",
       "      <td>0</td>\n",
       "      <td>0</td>\n",
       "      <td>0</td>\n",
       "      <td>0</td>\n",
       "      <td>0</td>\n",
       "      <td>0</td>\n",
       "      <td>0</td>\n",
       "      <td>0</td>\n",
       "      <td>0</td>\n",
       "      <td>0</td>\n",
       "      <td>0</td>\n",
       "      <td>0</td>\n",
       "    </tr>\n",
       "    <tr>\n",
       "      <th>3</th>\n",
       "      <td>1</td>\n",
       "      <td>0</td>\n",
       "      <td>1</td>\n",
       "      <td>1</td>\n",
       "      <td>0</td>\n",
       "      <td>0</td>\n",
       "      <td>0</td>\n",
       "      <td>0</td>\n",
       "      <td>0</td>\n",
       "      <td>0</td>\n",
       "      <td>1</td>\n",
       "      <td>0</td>\n",
       "      <td>0</td>\n",
       "      <td>0</td>\n",
       "      <td>0</td>\n",
       "      <td>0</td>\n",
       "      <td>1</td>\n",
       "      <td>0</td>\n",
       "    </tr>\n",
       "    <tr>\n",
       "      <th>4</th>\n",
       "      <td>1</td>\n",
       "      <td>0</td>\n",
       "      <td>0</td>\n",
       "      <td>0</td>\n",
       "      <td>0</td>\n",
       "      <td>0</td>\n",
       "      <td>0</td>\n",
       "      <td>1</td>\n",
       "      <td>0</td>\n",
       "      <td>0</td>\n",
       "      <td>0</td>\n",
       "      <td>1</td>\n",
       "      <td>0</td>\n",
       "      <td>0</td>\n",
       "      <td>0</td>\n",
       "      <td>0</td>\n",
       "      <td>0</td>\n",
       "      <td>0</td>\n",
       "    </tr>\n",
       "    <tr>\n",
       "      <th>5</th>\n",
       "      <td>1</td>\n",
       "      <td>1</td>\n",
       "      <td>0</td>\n",
       "      <td>1</td>\n",
       "      <td>1</td>\n",
       "      <td>1</td>\n",
       "      <td>1</td>\n",
       "      <td>0</td>\n",
       "      <td>1</td>\n",
       "      <td>0</td>\n",
       "      <td>0</td>\n",
       "      <td>1</td>\n",
       "      <td>1</td>\n",
       "      <td>0</td>\n",
       "      <td>0</td>\n",
       "      <td>0</td>\n",
       "      <td>0</td>\n",
       "      <td>0</td>\n",
       "    </tr>\n",
       "  </tbody>\n",
       "</table>\n",
       "</div>"
      ],
      "text/plain": [
       "month    1997-01-01  1997-02-01  1997-03-01  1997-04-01  1997-05-01  \\\n",
       "user_id                                                               \n",
       "1                 1           0           0           0           0   \n",
       "2                 1           0           0           0           0   \n",
       "3                 1           0           1           1           0   \n",
       "4                 1           0           0           0           0   \n",
       "5                 1           1           0           1           1   \n",
       "\n",
       "month    1997-06-01  1997-07-01  1997-08-01  1997-09-01  1997-10-01  \\\n",
       "user_id                                                               \n",
       "1                 0           0           0           0           0   \n",
       "2                 0           0           0           0           0   \n",
       "3                 0           0           0           0           0   \n",
       "4                 0           0           1           0           0   \n",
       "5                 1           1           0           1           0   \n",
       "\n",
       "month    1997-11-01  1997-12-01  1998-01-01  1998-02-01  1998-03-01  \\\n",
       "user_id                                                               \n",
       "1                 0           0           0           0           0   \n",
       "2                 0           0           0           0           0   \n",
       "3                 1           0           0           0           0   \n",
       "4                 0           1           0           0           0   \n",
       "5                 0           1           1           0           0   \n",
       "\n",
       "month    1998-04-01  1998-05-01  1998-06-01  \n",
       "user_id                                      \n",
       "1                 0           0           0  \n",
       "2                 0           0           0  \n",
       "3                 0           1           0  \n",
       "4                 0           0           0  \n",
       "5                 0           0           0  "
      ]
     },
     "execution_count": 22,
     "metadata": {},
     "output_type": "execute_result"
    }
   ],
   "source": [
    "# 由于浮点数不直观，并且需要转成是否消费过即可，用0、1表示\n",
    "df_purchase = pivoted_counts.applymap(lambda x:1 if x>0 else 0)\n",
    "df_purchase.head()"
   ]
  },
  {
   "cell_type": "code",
   "execution_count": 23,
   "metadata": {},
   "outputs": [
    {
     "data": {
      "text/html": [
       "<div>\n",
       "<style scoped>\n",
       "    .dataframe tbody tr th:only-of-type {\n",
       "        vertical-align: middle;\n",
       "    }\n",
       "\n",
       "    .dataframe tbody tr th {\n",
       "        vertical-align: top;\n",
       "    }\n",
       "\n",
       "    .dataframe thead th {\n",
       "        text-align: right;\n",
       "    }\n",
       "</style>\n",
       "<table border=\"1\" class=\"dataframe\">\n",
       "  <thead>\n",
       "    <tr style=\"text-align: right;\">\n",
       "      <th>month</th>\n",
       "      <th>1997-01-01</th>\n",
       "      <th>1997-02-01</th>\n",
       "      <th>1997-03-01</th>\n",
       "      <th>1997-04-01</th>\n",
       "      <th>1997-05-01</th>\n",
       "      <th>1997-06-01</th>\n",
       "      <th>1997-07-01</th>\n",
       "      <th>1997-08-01</th>\n",
       "      <th>1997-09-01</th>\n",
       "      <th>1997-10-01</th>\n",
       "      <th>1997-11-01</th>\n",
       "      <th>1997-12-01</th>\n",
       "      <th>1998-01-01</th>\n",
       "      <th>1998-02-01</th>\n",
       "      <th>1998-03-01</th>\n",
       "      <th>1998-04-01</th>\n",
       "      <th>1998-05-01</th>\n",
       "      <th>1998-06-01</th>\n",
       "    </tr>\n",
       "    <tr>\n",
       "      <th>user_id</th>\n",
       "      <th></th>\n",
       "      <th></th>\n",
       "      <th></th>\n",
       "      <th></th>\n",
       "      <th></th>\n",
       "      <th></th>\n",
       "      <th></th>\n",
       "      <th></th>\n",
       "      <th></th>\n",
       "      <th></th>\n",
       "      <th></th>\n",
       "      <th></th>\n",
       "      <th></th>\n",
       "      <th></th>\n",
       "      <th></th>\n",
       "      <th></th>\n",
       "      <th></th>\n",
       "      <th></th>\n",
       "    </tr>\n",
       "  </thead>\n",
       "  <tbody>\n",
       "    <tr>\n",
       "      <th>1</th>\n",
       "      <td>new</td>\n",
       "      <td>unactive</td>\n",
       "      <td>unactive</td>\n",
       "      <td>unactive</td>\n",
       "      <td>unactive</td>\n",
       "      <td>unactive</td>\n",
       "      <td>unactive</td>\n",
       "      <td>unactive</td>\n",
       "      <td>unactive</td>\n",
       "      <td>unactive</td>\n",
       "      <td>unactive</td>\n",
       "      <td>unactive</td>\n",
       "      <td>unactive</td>\n",
       "      <td>unactive</td>\n",
       "      <td>unactive</td>\n",
       "      <td>unactive</td>\n",
       "      <td>unactive</td>\n",
       "      <td>unactive</td>\n",
       "    </tr>\n",
       "    <tr>\n",
       "      <th>2</th>\n",
       "      <td>new</td>\n",
       "      <td>unactive</td>\n",
       "      <td>unactive</td>\n",
       "      <td>unactive</td>\n",
       "      <td>unactive</td>\n",
       "      <td>unactive</td>\n",
       "      <td>unactive</td>\n",
       "      <td>unactive</td>\n",
       "      <td>unactive</td>\n",
       "      <td>unactive</td>\n",
       "      <td>unactive</td>\n",
       "      <td>unactive</td>\n",
       "      <td>unactive</td>\n",
       "      <td>unactive</td>\n",
       "      <td>unactive</td>\n",
       "      <td>unactive</td>\n",
       "      <td>unactive</td>\n",
       "      <td>unactive</td>\n",
       "    </tr>\n",
       "    <tr>\n",
       "      <th>3</th>\n",
       "      <td>new</td>\n",
       "      <td>unactive</td>\n",
       "      <td>return</td>\n",
       "      <td>active</td>\n",
       "      <td>unactive</td>\n",
       "      <td>unactive</td>\n",
       "      <td>unactive</td>\n",
       "      <td>unactive</td>\n",
       "      <td>unactive</td>\n",
       "      <td>unactive</td>\n",
       "      <td>return</td>\n",
       "      <td>unactive</td>\n",
       "      <td>unactive</td>\n",
       "      <td>unactive</td>\n",
       "      <td>unactive</td>\n",
       "      <td>unactive</td>\n",
       "      <td>return</td>\n",
       "      <td>unactive</td>\n",
       "    </tr>\n",
       "    <tr>\n",
       "      <th>4</th>\n",
       "      <td>new</td>\n",
       "      <td>unactive</td>\n",
       "      <td>unactive</td>\n",
       "      <td>unactive</td>\n",
       "      <td>unactive</td>\n",
       "      <td>unactive</td>\n",
       "      <td>unactive</td>\n",
       "      <td>return</td>\n",
       "      <td>unactive</td>\n",
       "      <td>unactive</td>\n",
       "      <td>unactive</td>\n",
       "      <td>return</td>\n",
       "      <td>unactive</td>\n",
       "      <td>unactive</td>\n",
       "      <td>unactive</td>\n",
       "      <td>unactive</td>\n",
       "      <td>unactive</td>\n",
       "      <td>unactive</td>\n",
       "    </tr>\n",
       "    <tr>\n",
       "      <th>5</th>\n",
       "      <td>new</td>\n",
       "      <td>active</td>\n",
       "      <td>unactive</td>\n",
       "      <td>return</td>\n",
       "      <td>active</td>\n",
       "      <td>active</td>\n",
       "      <td>active</td>\n",
       "      <td>unactive</td>\n",
       "      <td>return</td>\n",
       "      <td>unactive</td>\n",
       "      <td>unactive</td>\n",
       "      <td>return</td>\n",
       "      <td>active</td>\n",
       "      <td>unactive</td>\n",
       "      <td>unactive</td>\n",
       "      <td>unactive</td>\n",
       "      <td>unactive</td>\n",
       "      <td>unactive</td>\n",
       "    </tr>\n",
       "  </tbody>\n",
       "</table>\n",
       "</div>"
      ],
      "text/plain": [
       "month   1997-01-01 1997-02-01 1997-03-01 1997-04-01 1997-05-01 1997-06-01  \\\n",
       "user_id                                                                     \n",
       "1              new   unactive   unactive   unactive   unactive   unactive   \n",
       "2              new   unactive   unactive   unactive   unactive   unactive   \n",
       "3              new   unactive     return     active   unactive   unactive   \n",
       "4              new   unactive   unactive   unactive   unactive   unactive   \n",
       "5              new     active   unactive     return     active     active   \n",
       "\n",
       "month   1997-07-01 1997-08-01 1997-09-01 1997-10-01 1997-11-01 1997-12-01  \\\n",
       "user_id                                                                     \n",
       "1         unactive   unactive   unactive   unactive   unactive   unactive   \n",
       "2         unactive   unactive   unactive   unactive   unactive   unactive   \n",
       "3         unactive   unactive   unactive   unactive     return   unactive   \n",
       "4         unactive     return   unactive   unactive   unactive     return   \n",
       "5           active   unactive     return   unactive   unactive     return   \n",
       "\n",
       "month   1998-01-01 1998-02-01 1998-03-01 1998-04-01 1998-05-01 1998-06-01  \n",
       "user_id                                                                    \n",
       "1         unactive   unactive   unactive   unactive   unactive   unactive  \n",
       "2         unactive   unactive   unactive   unactive   unactive   unactive  \n",
       "3         unactive   unactive   unactive   unactive     return   unactive  \n",
       "4         unactive   unactive   unactive   unactive   unactive   unactive  \n",
       "5           active   unactive   unactive   unactive   unactive   unactive  "
      ]
     },
     "execution_count": 23,
     "metadata": {},
     "output_type": "execute_result"
    }
   ],
   "source": [
    "def active_status(data): #data：每一行数据（共18列）\n",
    "    status = [] #存储用户18个月的状态（new|active|unactive|return|unreg）\n",
    "    for i in range(18):\n",
    "        #判断本月没有消费==0\n",
    "        if data[i] ==0:\n",
    "            if len(status)==0: #前几个月没有任何记录（也就是97年1月==0）\n",
    "                status.append('unreg')  \n",
    "            else:#之前的月份有记录（判断上一个月状态）\n",
    "                if status[i-1] =='unreg':#一直没有消费过\n",
    "                    status.append('unreg')\n",
    "                else:#上个月的状态可能是：new|active|unative|reuturn\n",
    "                    status.append('unactive')\n",
    "        else:#本月有消费==1\n",
    "            if len(status)==0:\n",
    "                status.append('new') #第一次消费\n",
    "            else:#之前的月份有记录（判断上一个月状态）\n",
    "                if status[i-1]=='unactive':\n",
    "                    status.append('return') #前几个月不活跃，现在又回来消费了，回流用户\n",
    "                elif  status[i-1]=='unreg':\n",
    "                    status.append('new') #第一次消费\n",
    "                else:#new|active\n",
    "                    status.append('active') #活跃用户\n",
    "            \n",
    "    return pd.Series(status,df_purchase.columns) #值：status,列名：18个月份\n",
    "\n",
    "purchase_states = df_purchase.apply(active_status,axis=1) #得到用户分层结果\n",
    "purchase_states.head()"
   ]
  },
  {
   "cell_type": "code",
   "execution_count": 24,
   "metadata": {},
   "outputs": [
    {
     "data": {
      "text/html": [
       "<div>\n",
       "<style scoped>\n",
       "    .dataframe tbody tr th:only-of-type {\n",
       "        vertical-align: middle;\n",
       "    }\n",
       "\n",
       "    .dataframe tbody tr th {\n",
       "        vertical-align: top;\n",
       "    }\n",
       "\n",
       "    .dataframe thead th {\n",
       "        text-align: right;\n",
       "    }\n",
       "</style>\n",
       "<table border=\"1\" class=\"dataframe\">\n",
       "  <thead>\n",
       "    <tr style=\"text-align: right;\">\n",
       "      <th>month</th>\n",
       "      <th>1997-01-01</th>\n",
       "      <th>1997-02-01</th>\n",
       "      <th>1997-03-01</th>\n",
       "      <th>1997-04-01</th>\n",
       "      <th>1997-05-01</th>\n",
       "      <th>1997-06-01</th>\n",
       "      <th>1997-07-01</th>\n",
       "      <th>1997-08-01</th>\n",
       "      <th>1997-09-01</th>\n",
       "      <th>1997-10-01</th>\n",
       "      <th>1997-11-01</th>\n",
       "      <th>1997-12-01</th>\n",
       "      <th>1998-01-01</th>\n",
       "      <th>1998-02-01</th>\n",
       "      <th>1998-03-01</th>\n",
       "      <th>1998-04-01</th>\n",
       "      <th>1998-05-01</th>\n",
       "      <th>1998-06-01</th>\n",
       "    </tr>\n",
       "  </thead>\n",
       "  <tbody>\n",
       "    <tr>\n",
       "      <th>active</th>\n",
       "      <td>NaN</td>\n",
       "      <td>1157.0</td>\n",
       "      <td>1681</td>\n",
       "      <td>1773.0</td>\n",
       "      <td>852.0</td>\n",
       "      <td>747.0</td>\n",
       "      <td>746.0</td>\n",
       "      <td>604.0</td>\n",
       "      <td>528.0</td>\n",
       "      <td>532.0</td>\n",
       "      <td>624.0</td>\n",
       "      <td>632.0</td>\n",
       "      <td>512.0</td>\n",
       "      <td>472.0</td>\n",
       "      <td>571.0</td>\n",
       "      <td>518.0</td>\n",
       "      <td>459.0</td>\n",
       "      <td>446.0</td>\n",
       "    </tr>\n",
       "    <tr>\n",
       "      <th>new</th>\n",
       "      <td>7846.0</td>\n",
       "      <td>8476.0</td>\n",
       "      <td>7248</td>\n",
       "      <td>NaN</td>\n",
       "      <td>NaN</td>\n",
       "      <td>NaN</td>\n",
       "      <td>NaN</td>\n",
       "      <td>NaN</td>\n",
       "      <td>NaN</td>\n",
       "      <td>NaN</td>\n",
       "      <td>NaN</td>\n",
       "      <td>NaN</td>\n",
       "      <td>NaN</td>\n",
       "      <td>NaN</td>\n",
       "      <td>NaN</td>\n",
       "      <td>NaN</td>\n",
       "      <td>NaN</td>\n",
       "      <td>NaN</td>\n",
       "    </tr>\n",
       "    <tr>\n",
       "      <th>return</th>\n",
       "      <td>NaN</td>\n",
       "      <td>NaN</td>\n",
       "      <td>595</td>\n",
       "      <td>1049.0</td>\n",
       "      <td>1362.0</td>\n",
       "      <td>1592.0</td>\n",
       "      <td>1434.0</td>\n",
       "      <td>1168.0</td>\n",
       "      <td>1211.0</td>\n",
       "      <td>1307.0</td>\n",
       "      <td>1404.0</td>\n",
       "      <td>1232.0</td>\n",
       "      <td>1025.0</td>\n",
       "      <td>1079.0</td>\n",
       "      <td>1489.0</td>\n",
       "      <td>919.0</td>\n",
       "      <td>1029.0</td>\n",
       "      <td>1060.0</td>\n",
       "    </tr>\n",
       "    <tr>\n",
       "      <th>unactive</th>\n",
       "      <td>NaN</td>\n",
       "      <td>6689.0</td>\n",
       "      <td>14046</td>\n",
       "      <td>20748.0</td>\n",
       "      <td>21356.0</td>\n",
       "      <td>21231.0</td>\n",
       "      <td>21390.0</td>\n",
       "      <td>21798.0</td>\n",
       "      <td>21831.0</td>\n",
       "      <td>21731.0</td>\n",
       "      <td>21542.0</td>\n",
       "      <td>21706.0</td>\n",
       "      <td>22033.0</td>\n",
       "      <td>22019.0</td>\n",
       "      <td>21510.0</td>\n",
       "      <td>22133.0</td>\n",
       "      <td>22082.0</td>\n",
       "      <td>22064.0</td>\n",
       "    </tr>\n",
       "  </tbody>\n",
       "</table>\n",
       "</div>"
      ],
      "text/plain": [
       "month     1997-01-01  1997-02-01  1997-03-01  1997-04-01  1997-05-01  \\\n",
       "active           NaN      1157.0        1681      1773.0       852.0   \n",
       "new           7846.0      8476.0        7248         NaN         NaN   \n",
       "return           NaN         NaN         595      1049.0      1362.0   \n",
       "unactive         NaN      6689.0       14046     20748.0     21356.0   \n",
       "\n",
       "month     1997-06-01  1997-07-01  1997-08-01  1997-09-01  1997-10-01  \\\n",
       "active         747.0       746.0       604.0       528.0       532.0   \n",
       "new              NaN         NaN         NaN         NaN         NaN   \n",
       "return        1592.0      1434.0      1168.0      1211.0      1307.0   \n",
       "unactive     21231.0     21390.0     21798.0     21831.0     21731.0   \n",
       "\n",
       "month     1997-11-01  1997-12-01  1998-01-01  1998-02-01  1998-03-01  \\\n",
       "active         624.0       632.0       512.0       472.0       571.0   \n",
       "new              NaN         NaN         NaN         NaN         NaN   \n",
       "return        1404.0      1232.0      1025.0      1079.0      1489.0   \n",
       "unactive     21542.0     21706.0     22033.0     22019.0     21510.0   \n",
       "\n",
       "month     1998-04-01  1998-05-01  1998-06-01  \n",
       "active         518.0       459.0       446.0  \n",
       "new              NaN         NaN         NaN  \n",
       "return         919.0      1029.0      1060.0  \n",
       "unactive     22133.0     22082.0     22064.0  "
      ]
     },
     "execution_count": 24,
     "metadata": {},
     "output_type": "execute_result"
    }
   ],
   "source": [
    "#把unreg状态用nan替换\n",
    "purchase_states_ct = purchase_states.replace('unreg',np.NaN).apply(lambda x:pd.value_counts(x))\n",
    "purchase_states_ct.head()"
   ]
  },
  {
   "cell_type": "code",
   "execution_count": 25,
   "metadata": {},
   "outputs": [
    {
     "data": {
      "text/plain": [
       "<matplotlib.axes._subplots.AxesSubplot at 0x2a996ec8648>"
      ]
     },
     "execution_count": 25,
     "metadata": {},
     "output_type": "execute_result"
    },
    {
     "data": {
      "image/png": "[encoded data removed]",
      "text/plain": [
       "<Figure size 864x432 with 1 Axes>"
      ]
     },
     "metadata": {},
     "output_type": "display_data"
    }
   ],
   "source": [
    "#数据可视化，面积图\n",
    "purchase_states_ct.fillna(0).T.plot.area(figsize=(12,6))  #填充nan之后，进行行列变换"
   ]
  },
  {
   "cell_type": "markdown",
   "metadata": {},
   "source": [
    "由图可知：灰色区域是不活跃用户，占比较大；\n",
    "前三个月新用户和活跃用户呈现了上升趋势，猜测由于活动造成的影响；3月份过后，紫色回流用户，红色活跃用户，都呈现下降趋势，并且趋于平稳状态；\n",
    "3月份过后，新用户量几乎没有大量增加"
   ]
  },
  {
   "cell_type": "code",
   "execution_count": 26,
   "metadata": {},
   "outputs": [
    {
     "data": {
      "text/plain": [
       "<matplotlib.legend.Legend at 0x2a998cce3c8>"
      ]
     },
     "execution_count": 26,
     "metadata": {},
     "output_type": "execute_result"
    },
    {
     "data": {
      "image/png": "[encoded data removed]",
      "text/plain": [
       "<Figure size 864x432 with 1 Axes>"
      ]
     },
     "metadata": {},
     "output_type": "display_data"
    }
   ],
   "source": [
    "#每月中回流用户占比情况（占所有用户的比例）\n",
    "plt.figure(figsize=(12,6))\n",
    "rate = purchase_states_ct.fillna(0).T.apply(lambda x:x/x.sum(),axis=1)\n",
    "plt.plot(rate['return'],label='return')\n",
    "plt.plot(rate['active'],label='active')\n",
    "plt.legend()"
   ]
  },
  {
   "cell_type": "markdown",
   "metadata": {},
   "source": [
    "由图可知，前3个月，活跃用户占比比较大，维持在7%左右，而回流用户比例在上升，由于新用户还没有足够时间变成回流用户；\n",
    "4月份过后，不论是活跃用户，还是回流用户都呈现出下降趋势，但是回流用户依然高于活跃用户。"
   ]
  },
  {
   "cell_type": "markdown",
   "metadata": {},
   "source": [
    "### 用户的购买周期"
   ]
  },
  {
   "cell_type": "code",
   "execution_count": 28,
   "metadata": {},
   "outputs": [
    {
     "data": {
      "text/plain": [
       "count                      46089\n",
       "mean     68 days 23:22:13.567662\n",
       "std      91 days 00:47:33.924168\n",
       "min              0 days 00:00:00\n",
       "25%             10 days 00:00:00\n",
       "50%             31 days 00:00:00\n",
       "75%             89 days 00:00:00\n",
       "max            533 days 00:00:00\n",
       "Name: order_date, dtype: object"
      ]
     },
     "execution_count": 28,
     "metadata": {},
     "output_type": "execute_result"
    }
   ],
   "source": [
    "#计算购买周期（购买日期的时间差值）\n",
    "order_diff = df.groupby(by='user_id').apply(lambda x:x['order_date']-x['order_date'].shift()) #当前订单日期-上一次订单日期\n",
    "order_diff.describe()"
   ]
  },
  {
   "cell_type": "code",
   "execution_count": 29,
   "metadata": {},
   "outputs": [
    {
     "data": {
      "text/plain": [
       "<matplotlib.axes._subplots.AxesSubplot at 0x2a998cb9348>"
      ]
     },
     "execution_count": 29,
     "metadata": {},
     "output_type": "execute_result"
    },
    {
     "data": {
      "image/png": "[encoded data removed]",
      "text/plain": [
       "<Figure size 432x288 with 1 Axes>"
      ]
     },
     "metadata": {},
     "output_type": "display_data"
    }
   ],
   "source": [
    "(order_diff/np.timedelta64(1,'D')).hist(bins = 20) "
   ]
  },
  {
   "cell_type": "markdown",
   "metadata": {},
   "source": [
    "由上图可知：平均消费周期为68天；大多数用户消费周期低于100天；呈现典型的长尾分布，只有小部分用户消费周期在200天以上（不积极消费的用户），可以在这批用户消费后3天左右进行电话回访后者短信；赠送优惠券等活动，增大消费频率"
   ]
  },
  {
   "cell_type": "markdown",
   "metadata": {},
   "source": [
    "### 用户生命周期"
   ]
  },
  {
   "cell_type": "code",
   "execution_count": 30,
   "metadata": {},
   "outputs": [
    {
     "data": {
      "text/plain": [
       "<matplotlib.legend.Legend at 0x2a996ea5d08>"
      ]
     },
     "execution_count": 30,
     "metadata": {},
     "output_type": "execute_result"
    },
    {
     "data": {
      "image/png": "[encoded data removed]",
      "text/plain": [
       "<Figure size 432x288 with 1 Axes>"
      ]
     },
     "metadata": {},
     "output_type": "display_data"
    }
   ],
   "source": [
    "#计算方式：用户最后一次购买日期(max)-第一次购买的日期(min)。如果差值==0，说明用户仅仅购买了一次\n",
    "user_life = df.groupby('user_id')['order_date'].agg(['min','max'])\n",
    "(user_life['max']==user_life['min']).value_counts().plot.pie(autopct='%1.1f%%') #格式化成1为小数\n",
    "plt.legend(['仅消费一次','多次消费'])"
   ]
  },
  {
   "cell_type": "markdown",
   "metadata": {},
   "source": [
    "由上图可知，一半以上的用户仅仅消费了一次，留存率不高，说明运营不利，留存率不好，应该采取一些措施保留客户，比如一些老用户回馈活动，提高老用户的活跃度与留存率"
   ]
  },
  {
   "cell_type": "code",
   "execution_count": 31,
   "metadata": {},
   "outputs": [
    {
     "data": {
      "text/plain": [
       "count                       23570\n",
       "mean     134 days 20:55:36.987696\n",
       "std      180 days 13:46:43.039788\n",
       "min               0 days 00:00:00\n",
       "25%               0 days 00:00:00\n",
       "50%               0 days 00:00:00\n",
       "75%             294 days 00:00:00\n",
       "max             544 days 00:00:00\n",
       "dtype: object"
      ]
     },
     "execution_count": 31,
     "metadata": {},
     "output_type": "execute_result"
    }
   ],
   "source": [
    "(user_life['max']-user_life['min']).describe()  #生命周期分析"
   ]
  },
  {
   "cell_type": "markdown",
   "metadata": {},
   "source": [
    "用户平均生命周期为134天，但是中位数为0，再次验证大多数用户消费了一次，为低质量用户；\n",
    "75%分位数以后的用户，生命周期>294天，属于核心用户，需要着重维持；"
   ]
  },
  {
   "cell_type": "markdown",
   "metadata": {},
   "source": [
    "###### 绘制所有用户生命周期直方图+多次消费用户生命周期直方图"
   ]
  },
  {
   "cell_type": "code",
   "execution_count": 32,
   "metadata": {},
   "outputs": [
    {
     "data": {
      "text/plain": [
       "Text(0, 0.5, '用户人数')"
      ]
     },
     "execution_count": 32,
     "metadata": {},
     "output_type": "execute_result"
    },
    {
     "data": {
      "image/png": "[encoded data removed]",
      "text/plain": [
       "<Figure size 864x432 with 2 Axes>"
      ]
     },
     "metadata": {},
     "output_type": "display_data"
    }
   ],
   "source": [
    "plt.figure(figsize=(12,6))\n",
    "plt.subplot(121)\n",
    "((user_life['max']-user_life['min'])/np.timedelta64(1,'D')).hist(bins=15)\n",
    "plt.title('所有用户生命周期直方图')\n",
    "plt.xlabel('生命周期天数')\n",
    "plt.ylabel('用户人数')\n",
    "\n",
    "plt.subplot(122)\n",
    "u_1 = (user_life['max']-user_life['min']).reset_index()[0]/np.timedelta64(1,'D')\n",
    "u_1[u_1>0].hist(bins=15)\n",
    "plt.title('多次消费的用户生命周期直方图')\n",
    "plt.xlabel('生命周期天数')\n",
    "plt.ylabel('用户人数')"
   ]
  },
  {
   "cell_type": "markdown",
   "metadata": {},
   "source": [
    "第二幅图过滤掉了生命周期为0的用户，保留多次消费的用户，由图二可知，呈现双峰结构；说明生命周期短的用户也较多；\n",
    "虽然二图中还有一部分用户的生命周期趋于0天，但是比第一幅图好了很多，虽然进行了多次消费，但是不长期来消费，属于普通用户，可针对性进行营销推广活动；\n",
    "少部分用户生命周期集中在300~500天，属于我们的忠诚客户，需要大力度维护此类客户"
   ]
  },
  {
   "cell_type": "markdown",
   "metadata": {},
   "source": [
    "### 复购率和回购率分析"
   ]
  },
  {
   "cell_type": "markdown",
   "metadata": {},
   "source": [
    "### 复购率分析"
   ]
  },
  {
   "cell_type": "code",
   "execution_count": 33,
   "metadata": {},
   "outputs": [
    {
     "data": {
      "text/plain": [
       "<matplotlib.axes._subplots.AxesSubplot at 0x2a99c75d488>"
      ]
     },
     "execution_count": 33,
     "metadata": {},
     "output_type": "execute_result"
    },
    {
     "data": {
      "image/png": "[encoded data removed]",
      "text/plain": [
       "<Figure size 864x432 with 1 Axes>"
      ]
     },
     "metadata": {},
     "output_type": "display_data"
    }
   ],
   "source": [
    "#计算方式：在自然月内，购买多次的用户在总消费人数中的占比（若客户在同一天消费了多次，也称之复购用户）\n",
    "#消费者有三种：消费记录>=2次的；消费中人数；本月无消费用户；\n",
    "#复购用户:1   非复购的消费用户：0   自然月没有消费记录的用户：NAN(不参与count计数)\n",
    "purchase_r = pivoted_counts.applymap(lambda x: 1 if x>1 else np.NaN  if x==0 else 0)\n",
    "purchase_r.head()\n",
    "#purchase_r.sum() :求出复购用户\n",
    "#purchase_r.count():求出所有参与购物的用户（NAN不参与计数）\n",
    "(purchase_r.sum()/purchase_r.count()).plot(figsize=(12,6))"
   ]
  },
  {
   "cell_type": "markdown",
   "metadata": {},
   "source": [
    "前三个月复购率开始上升，后续趋于平稳维持在20%~22%之间。\n",
    "前三个月复购率低的原因：可能是因为前三个月多为新用户，大批新用户仅仅购买一次。"
   ]
  },
  {
   "cell_type": "markdown",
   "metadata": {},
   "source": [
    "### 回购率分析"
   ]
  },
  {
   "cell_type": "code",
   "execution_count": 44,
   "metadata": {},
   "outputs": [
    {
     "data": {
      "text/html": [
       "<div>\n",
       "<style scoped>\n",
       "    .dataframe tbody tr th:only-of-type {\n",
       "        vertical-align: middle;\n",
       "    }\n",
       "\n",
       "    .dataframe tbody tr th {\n",
       "        vertical-align: top;\n",
       "    }\n",
       "\n",
       "    .dataframe thead th {\n",
       "        text-align: right;\n",
       "    }\n",
       "</style>\n",
       "<table border=\"1\" class=\"dataframe\">\n",
       "  <thead>\n",
       "    <tr style=\"text-align: right;\">\n",
       "      <th>month</th>\n",
       "      <th>1997-01-01</th>\n",
       "      <th>1997-02-01</th>\n",
       "      <th>1997-03-01</th>\n",
       "      <th>1997-04-01</th>\n",
       "      <th>1997-05-01</th>\n",
       "      <th>1997-06-01</th>\n",
       "      <th>1997-07-01</th>\n",
       "      <th>1997-08-01</th>\n",
       "      <th>1997-09-01</th>\n",
       "      <th>1997-10-01</th>\n",
       "      <th>1997-11-01</th>\n",
       "      <th>1997-12-01</th>\n",
       "      <th>1998-01-01</th>\n",
       "      <th>1998-02-01</th>\n",
       "      <th>1998-03-01</th>\n",
       "      <th>1998-04-01</th>\n",
       "      <th>1998-05-01</th>\n",
       "      <th>1998-06-01</th>\n",
       "    </tr>\n",
       "    <tr>\n",
       "      <th>user_id</th>\n",
       "      <th></th>\n",
       "      <th></th>\n",
       "      <th></th>\n",
       "      <th></th>\n",
       "      <th></th>\n",
       "      <th></th>\n",
       "      <th></th>\n",
       "      <th></th>\n",
       "      <th></th>\n",
       "      <th></th>\n",
       "      <th></th>\n",
       "      <th></th>\n",
       "      <th></th>\n",
       "      <th></th>\n",
       "      <th></th>\n",
       "      <th></th>\n",
       "      <th></th>\n",
       "      <th></th>\n",
       "    </tr>\n",
       "  </thead>\n",
       "  <tbody>\n",
       "    <tr>\n",
       "      <th>1</th>\n",
       "      <td>0.0</td>\n",
       "      <td>NaN</td>\n",
       "      <td>NaN</td>\n",
       "      <td>NaN</td>\n",
       "      <td>NaN</td>\n",
       "      <td>NaN</td>\n",
       "      <td>NaN</td>\n",
       "      <td>NaN</td>\n",
       "      <td>NaN</td>\n",
       "      <td>NaN</td>\n",
       "      <td>NaN</td>\n",
       "      <td>NaN</td>\n",
       "      <td>NaN</td>\n",
       "      <td>NaN</td>\n",
       "      <td>NaN</td>\n",
       "      <td>NaN</td>\n",
       "      <td>NaN</td>\n",
       "      <td>NaN</td>\n",
       "    </tr>\n",
       "    <tr>\n",
       "      <th>2</th>\n",
       "      <td>0.0</td>\n",
       "      <td>NaN</td>\n",
       "      <td>NaN</td>\n",
       "      <td>NaN</td>\n",
       "      <td>NaN</td>\n",
       "      <td>NaN</td>\n",
       "      <td>NaN</td>\n",
       "      <td>NaN</td>\n",
       "      <td>NaN</td>\n",
       "      <td>NaN</td>\n",
       "      <td>NaN</td>\n",
       "      <td>NaN</td>\n",
       "      <td>NaN</td>\n",
       "      <td>NaN</td>\n",
       "      <td>NaN</td>\n",
       "      <td>NaN</td>\n",
       "      <td>NaN</td>\n",
       "      <td>NaN</td>\n",
       "    </tr>\n",
       "    <tr>\n",
       "      <th>3</th>\n",
       "      <td>0.0</td>\n",
       "      <td>NaN</td>\n",
       "      <td>1.0</td>\n",
       "      <td>0.0</td>\n",
       "      <td>NaN</td>\n",
       "      <td>NaN</td>\n",
       "      <td>NaN</td>\n",
       "      <td>NaN</td>\n",
       "      <td>NaN</td>\n",
       "      <td>NaN</td>\n",
       "      <td>0.0</td>\n",
       "      <td>NaN</td>\n",
       "      <td>NaN</td>\n",
       "      <td>NaN</td>\n",
       "      <td>NaN</td>\n",
       "      <td>NaN</td>\n",
       "      <td>0.0</td>\n",
       "      <td>NaN</td>\n",
       "    </tr>\n",
       "    <tr>\n",
       "      <th>4</th>\n",
       "      <td>0.0</td>\n",
       "      <td>NaN</td>\n",
       "      <td>NaN</td>\n",
       "      <td>NaN</td>\n",
       "      <td>NaN</td>\n",
       "      <td>NaN</td>\n",
       "      <td>NaN</td>\n",
       "      <td>0.0</td>\n",
       "      <td>NaN</td>\n",
       "      <td>NaN</td>\n",
       "      <td>NaN</td>\n",
       "      <td>0.0</td>\n",
       "      <td>NaN</td>\n",
       "      <td>NaN</td>\n",
       "      <td>NaN</td>\n",
       "      <td>NaN</td>\n",
       "      <td>NaN</td>\n",
       "      <td>NaN</td>\n",
       "    </tr>\n",
       "    <tr>\n",
       "      <th>5</th>\n",
       "      <td>1.0</td>\n",
       "      <td>0.0</td>\n",
       "      <td>NaN</td>\n",
       "      <td>1.0</td>\n",
       "      <td>1.0</td>\n",
       "      <td>1.0</td>\n",
       "      <td>0.0</td>\n",
       "      <td>NaN</td>\n",
       "      <td>0.0</td>\n",
       "      <td>NaN</td>\n",
       "      <td>NaN</td>\n",
       "      <td>1.0</td>\n",
       "      <td>0.0</td>\n",
       "      <td>NaN</td>\n",
       "      <td>NaN</td>\n",
       "      <td>NaN</td>\n",
       "      <td>NaN</td>\n",
       "      <td>NaN</td>\n",
       "    </tr>\n",
       "  </tbody>\n",
       "</table>\n",
       "</div>"
      ],
      "text/plain": [
       "month    1997-01-01  1997-02-01  1997-03-01  1997-04-01  1997-05-01  \\\n",
       "user_id                                                               \n",
       "1               0.0         NaN         NaN         NaN         NaN   \n",
       "2               0.0         NaN         NaN         NaN         NaN   \n",
       "3               0.0         NaN         1.0         0.0         NaN   \n",
       "4               0.0         NaN         NaN         NaN         NaN   \n",
       "5               1.0         0.0         NaN         1.0         1.0   \n",
       "\n",
       "month    1997-06-01  1997-07-01  1997-08-01  1997-09-01  1997-10-01  \\\n",
       "user_id                                                               \n",
       "1               NaN         NaN         NaN         NaN         NaN   \n",
       "2               NaN         NaN         NaN         NaN         NaN   \n",
       "3               NaN         NaN         NaN         NaN         NaN   \n",
       "4               NaN         NaN         0.0         NaN         NaN   \n",
       "5               1.0         0.0         NaN         0.0         NaN   \n",
       "\n",
       "month    1997-11-01  1997-12-01  1998-01-01  1998-02-01  1998-03-01  \\\n",
       "user_id                                                               \n",
       "1               NaN         NaN         NaN         NaN         NaN   \n",
       "2               NaN         NaN         NaN         NaN         NaN   \n",
       "3               0.0         NaN         NaN         NaN         NaN   \n",
       "4               NaN         0.0         NaN         NaN         NaN   \n",
       "5               NaN         1.0         0.0         NaN         NaN   \n",
       "\n",
       "month    1998-04-01  1998-05-01  1998-06-01  \n",
       "user_id                                      \n",
       "1               NaN         NaN         NaN  \n",
       "2               NaN         NaN         NaN  \n",
       "3               NaN         0.0         NaN  \n",
       "4               NaN         NaN         NaN  \n",
       "5               NaN         NaN         NaN  "
      ]
     },
     "execution_count": 44,
     "metadata": {},
     "output_type": "execute_result"
    }
   ],
   "source": [
    "#计算方式：在一个时间窗口内进行了消费，在下一个窗口内又进行了消费\n",
    "def purchase_back(data):\n",
    "    status = [] #存储用户回购率状态\n",
    "    #1:回购用户   0：非回购用户（当前月消费了，下个未消费）   NaN:当前月份未消费\n",
    "    for i in range(17):\n",
    "        #当前月份消费了\n",
    "        if data[i] == 1:\n",
    "            if data[i+1]==1:\n",
    "                status.append(1) #回购用户\n",
    "            elif data[i+1] == 0: #下个月未消费\n",
    "                status.append(0)\n",
    "        else: #当前月份未进行消费\n",
    "            status.append(np.NaN)\n",
    "    status.append(np.NaN) #填充最后一列数据\n",
    "    return pd.Series(status,df_purchase.columns)\n",
    "\n",
    "purchase_b = df_purchase.apply(purchase_back,axis=1)\n",
    "purchase_b.head()"
   ]
  },
  {
   "cell_type": "code",
   "execution_count": 49,
   "metadata": {},
   "outputs": [
    {
     "data": {
      "text/plain": [
       "<matplotlib.legend.Legend at 0x2a99bf13d08>"
      ]
     },
     "execution_count": 49,
     "metadata": {},
     "output_type": "execute_result"
    },
    {
     "data": {
      "image/png": "[encoded data removed]",
      "text/plain": [
       "<Figure size 1440x288 with 2 Axes>"
      ]
     },
     "metadata": {},
     "output_type": "display_data"
    }
   ],
   "source": [
    "#回购率可视化\n",
    "plt.figure(figsize=(20,4))\n",
    "plt.subplot(211)\n",
    "#回购率\n",
    "(purchase_b.sum() / purchase_b.count()).plot(label='回购率')\n",
    "#复购率\n",
    "(purchase_r.sum()/purchase_r.count()).plot(label='复购率')\n",
    "plt.legend()\n",
    "plt.ylabel('百分比%')\n",
    "plt.title('用户回购率和复购率对比图')\n",
    "\n",
    "#回购人数与购物总人数\n",
    "plt.subplot(212)\n",
    "plt.plot(purchase_b.sum(),label='回购人数')\n",
    "plt.plot(purchase_b.count(),label='购物总人数')\n",
    "plt.xlabel('month')\n",
    "plt.ylabel('人数')\n",
    "plt.legend()"
   ]
  },
  {
   "cell_type": "markdown",
   "metadata": {},
   "source": [
    "由图一可知，前几个月回购率一直在增大，后面渐渐平稳，在30%左右，波形性稍微较大；\n",
    "复购率低于回购率，也是前几个月在增加，后续平稳，在20%左右，波动性较小；\n",
    "前三个月不管是回购还是复购，都呈现上升趋势，说明新用户需要一定时间来变成复购或者回购用户；\n",
    "结合新老用户分析，新客户忠诚度远低于老客户忠诚度。"
   ]
  },
  {
   "cell_type": "markdown",
   "metadata": {},
   "source": [
    "由图二可知，前三个月购物总人数远远大于回购人数，主要是因为很多新用户在前3个月份进了首次购买，三个月后，回购人数和购物总数开始稳定，回购人数稳定在1000左右，购物总人数在2000左右。"
   ]
  }
 ],
 "metadata": {
  "kernelspec": {
   "display_name": "Python 3 (ipykernel)",
   "language": "python",
   "name": "python3"
  },
  "language_info": {
   "codemirror_mode": {
    "name": "ipython",
    "version": 3
   },
   "file_extension": ".py",
   "mimetype": "text/x-python",
   "name": "python",
   "nbconvert_exporter": "python",
   "pygments_lexer": "ipython3",
   "version": "3.9.13"
  }
 },
 "nbformat": 4,
 "nbformat_minor": 4
}
